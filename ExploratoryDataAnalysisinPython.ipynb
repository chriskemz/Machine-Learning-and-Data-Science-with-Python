{
 "cells": [
  {
   "cell_type": "markdown",
   "id": "872d46f0-98c5-4e74-8c73-fe605c463d3a",
   "metadata": {},
   "source": [
    "## Definition\n"
   ]
  },
  {
   "cell_type": "markdown",
   "id": "6b49a042-f096-4914-a564-b447a86b4506",
   "metadata": {},
   "source": [
    "Exploratory Data Analysis (EDA) is the process of cleaning and reviewing data to derive insights such as descriptive statistics and correlation and generate hypothesis for experiments. EDA report informs the next step in data anlysis, whether that be generating hypothesis, preparing the data for use in a machine learning model, etc."
   ]
  },
  {
   "cell_type": "code",
   "execution_count": 2,
   "id": "614a2c85-1c4d-4df2-b688-85516611676d",
   "metadata": {},
   "outputs": [
    {
     "data": {
      "text/html": [
       "<div>\n",
       "<style scoped>\n",
       "    .dataframe tbody tr th:only-of-type {\n",
       "        vertical-align: middle;\n",
       "    }\n",
       "\n",
       "    .dataframe tbody tr th {\n",
       "        vertical-align: top;\n",
       "    }\n",
       "\n",
       "    .dataframe thead th {\n",
       "        text-align: right;\n",
       "    }\n",
       "</style>\n",
       "<table border=\"1\" class=\"dataframe\">\n",
       "  <thead>\n",
       "    <tr style=\"text-align: right;\">\n",
       "      <th></th>\n",
       "      <th>name</th>\n",
       "      <th>author</th>\n",
       "      <th>rating</th>\n",
       "      <th>year</th>\n",
       "      <th>genre</th>\n",
       "    </tr>\n",
       "  </thead>\n",
       "  <tbody>\n",
       "    <tr>\n",
       "      <th>0</th>\n",
       "      <td>10-Day Green Smoothie Cleanse</td>\n",
       "      <td>JJ Smith</td>\n",
       "      <td>4.7</td>\n",
       "      <td>2016</td>\n",
       "      <td>Non Fiction</td>\n",
       "    </tr>\n",
       "    <tr>\n",
       "      <th>1</th>\n",
       "      <td>11/22/63: A Novel</td>\n",
       "      <td>Stephen King</td>\n",
       "      <td>4.6</td>\n",
       "      <td>2011</td>\n",
       "      <td>Fiction</td>\n",
       "    </tr>\n",
       "    <tr>\n",
       "      <th>2</th>\n",
       "      <td>12 Rules for Life: An Antidote to Chaos</td>\n",
       "      <td>Jordan B. Peterson</td>\n",
       "      <td>4.7</td>\n",
       "      <td>2018</td>\n",
       "      <td>Non Fiction</td>\n",
       "    </tr>\n",
       "    <tr>\n",
       "      <th>3</th>\n",
       "      <td>1984 (Signet Classics)</td>\n",
       "      <td>George Orwell</td>\n",
       "      <td>4.7</td>\n",
       "      <td>2017</td>\n",
       "      <td>Fiction</td>\n",
       "    </tr>\n",
       "    <tr>\n",
       "      <th>4</th>\n",
       "      <td>5,000 Awesome Facts (About Everything!) (Natio...</td>\n",
       "      <td>National Geographic Kids</td>\n",
       "      <td>4.8</td>\n",
       "      <td>2019</td>\n",
       "      <td>Childrens</td>\n",
       "    </tr>\n",
       "  </tbody>\n",
       "</table>\n",
       "</div>"
      ],
      "text/plain": [
       "                                                name  \\\n",
       "0                      10-Day Green Smoothie Cleanse   \n",
       "1                                  11/22/63: A Novel   \n",
       "2            12 Rules for Life: An Antidote to Chaos   \n",
       "3                             1984 (Signet Classics)   \n",
       "4  5,000 Awesome Facts (About Everything!) (Natio...   \n",
       "\n",
       "                     author  rating  year        genre  \n",
       "0                  JJ Smith     4.7  2016  Non Fiction  \n",
       "1              Stephen King     4.6  2011      Fiction  \n",
       "2        Jordan B. Peterson     4.7  2018  Non Fiction  \n",
       "3             George Orwell     4.7  2017      Fiction  \n",
       "4  National Geographic Kids     4.8  2019    Childrens  "
      ]
     },
     "execution_count": 2,
     "metadata": {},
     "output_type": "execute_result"
    }
   ],
   "source": [
    "import pandas as pd\n",
    "books = pd.read_csv(r\"C:\\Users\\Odinaka Ekemezie\\Downloads\\clean_books.csv\")\n",
    "books.head()"
   ]
  },
  {
   "cell_type": "code",
   "execution_count": 3,
   "id": "3b30a592-06bc-4c01-8b9e-e1d97d807548",
   "metadata": {},
   "outputs": [
    {
     "data": {
      "text/plain": [
       "name       object\n",
       "author     object\n",
       "rating    float64\n",
       "year        int64\n",
       "genre      object\n",
       "dtype: object"
      ]
     },
     "execution_count": 3,
     "metadata": {},
     "output_type": "execute_result"
    }
   ],
   "source": [
    "# check data types\n",
    "books.dtypes"
   ]
  },
  {
   "cell_type": "code",
   "execution_count": 4,
   "id": "bb1da7ff-523f-4e13-abb2-e560f497dbb0",
   "metadata": {},
   "outputs": [
    {
     "data": {
      "text/html": [
       "<div>\n",
       "<style scoped>\n",
       "    .dataframe tbody tr th:only-of-type {\n",
       "        vertical-align: middle;\n",
       "    }\n",
       "\n",
       "    .dataframe tbody tr th {\n",
       "        vertical-align: top;\n",
       "    }\n",
       "\n",
       "    .dataframe thead th {\n",
       "        text-align: right;\n",
       "    }\n",
       "</style>\n",
       "<table border=\"1\" class=\"dataframe\">\n",
       "  <thead>\n",
       "    <tr style=\"text-align: right;\">\n",
       "      <th></th>\n",
       "      <th>divorce_date</th>\n",
       "      <th>dob_man</th>\n",
       "      <th>education_man</th>\n",
       "      <th>income_man</th>\n",
       "      <th>dob_woman</th>\n",
       "      <th>education_woman</th>\n",
       "      <th>income_woman</th>\n",
       "      <th>marriage_date</th>\n",
       "      <th>marriage_duration</th>\n",
       "      <th>num_kids</th>\n",
       "    </tr>\n",
       "  </thead>\n",
       "  <tbody>\n",
       "    <tr>\n",
       "      <th>0</th>\n",
       "      <td>2006-09-06</td>\n",
       "      <td>1975-12-18</td>\n",
       "      <td>Secondary</td>\n",
       "      <td>2000.0</td>\n",
       "      <td>1983-08-01</td>\n",
       "      <td>Secondary</td>\n",
       "      <td>1800.0</td>\n",
       "      <td>2000-06-26</td>\n",
       "      <td>5.0</td>\n",
       "      <td>1.0</td>\n",
       "    </tr>\n",
       "    <tr>\n",
       "      <th>1</th>\n",
       "      <td>2008-01-02</td>\n",
       "      <td>1976-11-17</td>\n",
       "      <td>Professional</td>\n",
       "      <td>6000.0</td>\n",
       "      <td>1977-03-13</td>\n",
       "      <td>Professional</td>\n",
       "      <td>6000.0</td>\n",
       "      <td>2001-09-02</td>\n",
       "      <td>7.0</td>\n",
       "      <td>NaN</td>\n",
       "    </tr>\n",
       "    <tr>\n",
       "      <th>2</th>\n",
       "      <td>2011-01-02</td>\n",
       "      <td>1969-04-06</td>\n",
       "      <td>Preparatory</td>\n",
       "      <td>5000.0</td>\n",
       "      <td>1970-02-16</td>\n",
       "      <td>Professional</td>\n",
       "      <td>5000.0</td>\n",
       "      <td>2000-02-02</td>\n",
       "      <td>2.0</td>\n",
       "      <td>2.0</td>\n",
       "    </tr>\n",
       "    <tr>\n",
       "      <th>3</th>\n",
       "      <td>2011-01-02</td>\n",
       "      <td>1979-11-13</td>\n",
       "      <td>Secondary</td>\n",
       "      <td>12000.0</td>\n",
       "      <td>1981-05-13</td>\n",
       "      <td>Secondary</td>\n",
       "      <td>12000.0</td>\n",
       "      <td>2006-05-13</td>\n",
       "      <td>2.0</td>\n",
       "      <td>NaN</td>\n",
       "    </tr>\n",
       "    <tr>\n",
       "      <th>4</th>\n",
       "      <td>2011-01-02</td>\n",
       "      <td>1982-09-20</td>\n",
       "      <td>Professional</td>\n",
       "      <td>6000.0</td>\n",
       "      <td>1988-01-30</td>\n",
       "      <td>Professional</td>\n",
       "      <td>10000.0</td>\n",
       "      <td>2007-08-06</td>\n",
       "      <td>3.0</td>\n",
       "      <td>NaN</td>\n",
       "    </tr>\n",
       "  </tbody>\n",
       "</table>\n",
       "</div>"
      ],
      "text/plain": [
       "  divorce_date     dob_man education_man  income_man   dob_woman  \\\n",
       "0   2006-09-06  1975-12-18     Secondary      2000.0  1983-08-01   \n",
       "1   2008-01-02  1976-11-17  Professional      6000.0  1977-03-13   \n",
       "2   2011-01-02  1969-04-06   Preparatory      5000.0  1970-02-16   \n",
       "3   2011-01-02  1979-11-13     Secondary     12000.0  1981-05-13   \n",
       "4   2011-01-02  1982-09-20  Professional      6000.0  1988-01-30   \n",
       "\n",
       "  education_woman  income_woman marriage_date  marriage_duration  num_kids  \n",
       "0       Secondary        1800.0    2000-06-26                5.0       1.0  \n",
       "1    Professional        6000.0    2001-09-02                7.0       NaN  \n",
       "2    Professional        5000.0    2000-02-02                2.0       2.0  \n",
       "3       Secondary       12000.0    2006-05-13                2.0       NaN  \n",
       "4    Professional       10000.0    2007-08-06                3.0       NaN  "
      ]
     },
     "execution_count": 4,
     "metadata": {},
     "output_type": "execute_result"
    }
   ],
   "source": [
    "divorce = pd.read_csv(r\"C:\\Users\\Odinaka Ekemezie\\Downloads\\divorce.csv\")\n",
    "divorce.head()"
   ]
  },
  {
   "cell_type": "code",
   "execution_count": 8,
   "id": "9b9017b8-47f3-44cc-9a89-2ace05b6ee44",
   "metadata": {},
   "outputs": [
    {
     "name": "stdout",
     "output_type": "stream",
     "text": [
      "<class 'pandas.core.frame.DataFrame'>\n",
      "RangeIndex: 2209 entries, 0 to 2208\n",
      "Data columns (total 10 columns):\n",
      " #   Column             Non-Null Count  Dtype  \n",
      "---  ------             --------------  -----  \n",
      " 0   divorce_date       2209 non-null   object \n",
      " 1   dob_man            2209 non-null   object \n",
      " 2   education_man      2205 non-null   object \n",
      " 3   income_man         2209 non-null   float64\n",
      " 4   dob_woman          2209 non-null   object \n",
      " 5   education_woman    2209 non-null   object \n",
      " 6   income_woman       2209 non-null   float64\n",
      " 7   marriage_date      2209 non-null   object \n",
      " 8   marriage_duration  2209 non-null   float64\n",
      " 9   num_kids           1333 non-null   float64\n",
      "dtypes: float64(4), object(6)\n",
      "memory usage: 172.7+ KB\n"
     ]
    }
   ],
   "source": [
    "divorce.info()\n"
   ]
  },
  {
   "cell_type": "code",
   "execution_count": 11,
   "id": "4727ba70-2496-4d45-9921-5dcc9a8db404",
   "metadata": {},
   "outputs": [
    {
     "data": {
      "text/plain": [
       "0       True\n",
       "1       True\n",
       "2       True\n",
       "3       True\n",
       "4      False\n",
       "       ...  \n",
       "345     True\n",
       "346     True\n",
       "347     True\n",
       "348     True\n",
       "349    False\n",
       "Name: genre, Length: 350, dtype: bool"
      ]
     },
     "execution_count": 11,
     "metadata": {},
     "output_type": "execute_result"
    }
   ],
   "source": [
    "books['genre'].isin(['Fiction', 'Non Fiction'])"
   ]
  },
  {
   "cell_type": "code",
   "execution_count": 12,
   "id": "32663015-448b-454b-98d4-2335ab166d76",
   "metadata": {},
   "outputs": [
    {
     "data": {
      "text/html": [
       "<div>\n",
       "<style scoped>\n",
       "    .dataframe tbody tr th:only-of-type {\n",
       "        vertical-align: middle;\n",
       "    }\n",
       "\n",
       "    .dataframe tbody tr th {\n",
       "        vertical-align: top;\n",
       "    }\n",
       "\n",
       "    .dataframe thead th {\n",
       "        text-align: right;\n",
       "    }\n",
       "</style>\n",
       "<table border=\"1\" class=\"dataframe\">\n",
       "  <thead>\n",
       "    <tr style=\"text-align: right;\">\n",
       "      <th></th>\n",
       "      <th>name</th>\n",
       "      <th>author</th>\n",
       "      <th>rating</th>\n",
       "      <th>year</th>\n",
       "      <th>genre</th>\n",
       "    </tr>\n",
       "  </thead>\n",
       "  <tbody>\n",
       "    <tr>\n",
       "      <th>0</th>\n",
       "      <td>10-Day Green Smoothie Cleanse</td>\n",
       "      <td>JJ Smith</td>\n",
       "      <td>4.7</td>\n",
       "      <td>2016</td>\n",
       "      <td>Non Fiction</td>\n",
       "    </tr>\n",
       "    <tr>\n",
       "      <th>1</th>\n",
       "      <td>11/22/63: A Novel</td>\n",
       "      <td>Stephen King</td>\n",
       "      <td>4.6</td>\n",
       "      <td>2011</td>\n",
       "      <td>Fiction</td>\n",
       "    </tr>\n",
       "    <tr>\n",
       "      <th>2</th>\n",
       "      <td>12 Rules for Life: An Antidote to Chaos</td>\n",
       "      <td>Jordan B. Peterson</td>\n",
       "      <td>4.7</td>\n",
       "      <td>2018</td>\n",
       "      <td>Non Fiction</td>\n",
       "    </tr>\n",
       "    <tr>\n",
       "      <th>3</th>\n",
       "      <td>1984 (Signet Classics)</td>\n",
       "      <td>George Orwell</td>\n",
       "      <td>4.7</td>\n",
       "      <td>2017</td>\n",
       "      <td>Fiction</td>\n",
       "    </tr>\n",
       "    <tr>\n",
       "      <th>5</th>\n",
       "      <td>A Dance with Dragons (A Song of Ice and Fire)</td>\n",
       "      <td>George R. R. Martin</td>\n",
       "      <td>4.4</td>\n",
       "      <td>2011</td>\n",
       "      <td>Fiction</td>\n",
       "    </tr>\n",
       "    <tr>\n",
       "      <th>...</th>\n",
       "      <td>...</td>\n",
       "      <td>...</td>\n",
       "      <td>...</td>\n",
       "      <td>...</td>\n",
       "      <td>...</td>\n",
       "    </tr>\n",
       "    <tr>\n",
       "      <th>344</th>\n",
       "      <td>Whose Boat Is This Boat?: Comments That Don't ...</td>\n",
       "      <td>The Staff of The Late Show with</td>\n",
       "      <td>4.6</td>\n",
       "      <td>2018</td>\n",
       "      <td>Non Fiction</td>\n",
       "    </tr>\n",
       "    <tr>\n",
       "      <th>345</th>\n",
       "      <td>Wild: From Lost to Found on the Pacific Crest ...</td>\n",
       "      <td>Cheryl Strayed</td>\n",
       "      <td>4.4</td>\n",
       "      <td>2012</td>\n",
       "      <td>Non Fiction</td>\n",
       "    </tr>\n",
       "    <tr>\n",
       "      <th>346</th>\n",
       "      <td>Winter of the World: Book Two of the Century T...</td>\n",
       "      <td>Ken Follett</td>\n",
       "      <td>4.5</td>\n",
       "      <td>2012</td>\n",
       "      <td>Fiction</td>\n",
       "    </tr>\n",
       "    <tr>\n",
       "      <th>347</th>\n",
       "      <td>Women Food and God: An Unexpected Path to Almo...</td>\n",
       "      <td>Geneen Roth</td>\n",
       "      <td>4.2</td>\n",
       "      <td>2010</td>\n",
       "      <td>Non Fiction</td>\n",
       "    </tr>\n",
       "    <tr>\n",
       "      <th>348</th>\n",
       "      <td>Wonder</td>\n",
       "      <td>R. J. Palacio</td>\n",
       "      <td>4.8</td>\n",
       "      <td>2013</td>\n",
       "      <td>Fiction</td>\n",
       "    </tr>\n",
       "  </tbody>\n",
       "</table>\n",
       "<p>310 rows × 5 columns</p>\n",
       "</div>"
      ],
      "text/plain": [
       "                                                  name  \\\n",
       "0                        10-Day Green Smoothie Cleanse   \n",
       "1                                    11/22/63: A Novel   \n",
       "2              12 Rules for Life: An Antidote to Chaos   \n",
       "3                               1984 (Signet Classics)   \n",
       "5        A Dance with Dragons (A Song of Ice and Fire)   \n",
       "..                                                 ...   \n",
       "344  Whose Boat Is This Boat?: Comments That Don't ...   \n",
       "345  Wild: From Lost to Found on the Pacific Crest ...   \n",
       "346  Winter of the World: Book Two of the Century T...   \n",
       "347  Women Food and God: An Unexpected Path to Almo...   \n",
       "348                                             Wonder   \n",
       "\n",
       "                               author  rating  year        genre  \n",
       "0                            JJ Smith     4.7  2016  Non Fiction  \n",
       "1                        Stephen King     4.6  2011      Fiction  \n",
       "2                  Jordan B. Peterson     4.7  2018  Non Fiction  \n",
       "3                       George Orwell     4.7  2017      Fiction  \n",
       "5                 George R. R. Martin     4.4  2011      Fiction  \n",
       "..                                ...     ...   ...          ...  \n",
       "344  The Staff of The Late Show with\n",
       "     4.6  2018  Non Fiction  \n",
       "345                    Cheryl Strayed     4.4  2012  Non Fiction  \n",
       "346                       Ken Follett     4.5  2012      Fiction  \n",
       "347                       Geneen Roth     4.2  2010  Non Fiction  \n",
       "348                     R. J. Palacio     4.8  2013      Fiction  \n",
       "\n",
       "[310 rows x 5 columns]"
      ]
     },
     "execution_count": 12,
     "metadata": {},
     "output_type": "execute_result"
    }
   ],
   "source": [
    "books[books['genre'].isin(['Fiction', 'Non Fiction'])]"
   ]
  },
  {
   "cell_type": "code",
   "execution_count": 13,
   "id": "258c08d7-3447-4a63-bcfa-034e779d4e3f",
   "metadata": {},
   "outputs": [
    {
     "data": {
      "text/html": [
       "<div>\n",
       "<style scoped>\n",
       "    .dataframe tbody tr th:only-of-type {\n",
       "        vertical-align: middle;\n",
       "    }\n",
       "\n",
       "    .dataframe tbody tr th {\n",
       "        vertical-align: top;\n",
       "    }\n",
       "\n",
       "    .dataframe thead th {\n",
       "        text-align: right;\n",
       "    }\n",
       "</style>\n",
       "<table border=\"1\" class=\"dataframe\">\n",
       "  <thead>\n",
       "    <tr style=\"text-align: right;\">\n",
       "      <th></th>\n",
       "      <th>rating</th>\n",
       "      <th>year</th>\n",
       "    </tr>\n",
       "  </thead>\n",
       "  <tbody>\n",
       "    <tr>\n",
       "      <th>0</th>\n",
       "      <td>4.7</td>\n",
       "      <td>2016</td>\n",
       "    </tr>\n",
       "    <tr>\n",
       "      <th>1</th>\n",
       "      <td>4.6</td>\n",
       "      <td>2011</td>\n",
       "    </tr>\n",
       "    <tr>\n",
       "      <th>2</th>\n",
       "      <td>4.7</td>\n",
       "      <td>2018</td>\n",
       "    </tr>\n",
       "    <tr>\n",
       "      <th>3</th>\n",
       "      <td>4.7</td>\n",
       "      <td>2017</td>\n",
       "    </tr>\n",
       "    <tr>\n",
       "      <th>4</th>\n",
       "      <td>4.8</td>\n",
       "      <td>2019</td>\n",
       "    </tr>\n",
       "    <tr>\n",
       "      <th>...</th>\n",
       "      <td>...</td>\n",
       "      <td>...</td>\n",
       "    </tr>\n",
       "    <tr>\n",
       "      <th>345</th>\n",
       "      <td>4.4</td>\n",
       "      <td>2012</td>\n",
       "    </tr>\n",
       "    <tr>\n",
       "      <th>346</th>\n",
       "      <td>4.5</td>\n",
       "      <td>2012</td>\n",
       "    </tr>\n",
       "    <tr>\n",
       "      <th>347</th>\n",
       "      <td>4.2</td>\n",
       "      <td>2010</td>\n",
       "    </tr>\n",
       "    <tr>\n",
       "      <th>348</th>\n",
       "      <td>4.8</td>\n",
       "      <td>2013</td>\n",
       "    </tr>\n",
       "    <tr>\n",
       "      <th>349</th>\n",
       "      <td>4.9</td>\n",
       "      <td>2019</td>\n",
       "    </tr>\n",
       "  </tbody>\n",
       "</table>\n",
       "<p>350 rows × 2 columns</p>\n",
       "</div>"
      ],
      "text/plain": [
       "     rating  year\n",
       "0       4.7  2016\n",
       "1       4.6  2011\n",
       "2       4.7  2018\n",
       "3       4.7  2017\n",
       "4       4.8  2019\n",
       "..      ...   ...\n",
       "345     4.4  2012\n",
       "346     4.5  2012\n",
       "347     4.2  2010\n",
       "348     4.8  2013\n",
       "349     4.9  2019\n",
       "\n",
       "[350 rows x 2 columns]"
      ]
     },
     "execution_count": 13,
     "metadata": {},
     "output_type": "execute_result"
    }
   ],
   "source": [
    "# select only numerical columns\n",
    "books.select_dtypes('number')"
   ]
  },
  {
   "cell_type": "code",
   "execution_count": 2,
   "id": "930491cc-47b6-4a12-b63c-685bdaf94731",
   "metadata": {},
   "outputs": [
    {
     "data": {
      "text/html": [
       "<div>\n",
       "<style scoped>\n",
       "    .dataframe tbody tr th:only-of-type {\n",
       "        vertical-align: middle;\n",
       "    }\n",
       "\n",
       "    .dataframe tbody tr th {\n",
       "        vertical-align: top;\n",
       "    }\n",
       "\n",
       "    .dataframe thead th {\n",
       "        text-align: right;\n",
       "    }\n",
       "</style>\n",
       "<table border=\"1\" class=\"dataframe\">\n",
       "  <thead>\n",
       "    <tr style=\"text-align: right;\">\n",
       "      <th></th>\n",
       "      <th>mean_rating</th>\n",
       "      <th>std_rating</th>\n",
       "      <th>median_year</th>\n",
       "    </tr>\n",
       "    <tr>\n",
       "      <th>genre</th>\n",
       "      <th></th>\n",
       "      <th></th>\n",
       "      <th></th>\n",
       "    </tr>\n",
       "  </thead>\n",
       "  <tbody>\n",
       "    <tr>\n",
       "      <th>Childrens</th>\n",
       "      <td>4.780000</td>\n",
       "      <td>0.122370</td>\n",
       "      <td>2015.0</td>\n",
       "    </tr>\n",
       "    <tr>\n",
       "      <th>Fiction</th>\n",
       "      <td>4.570229</td>\n",
       "      <td>0.281123</td>\n",
       "      <td>2013.0</td>\n",
       "    </tr>\n",
       "    <tr>\n",
       "      <th>Non Fiction</th>\n",
       "      <td>4.598324</td>\n",
       "      <td>0.179411</td>\n",
       "      <td>2013.0</td>\n",
       "    </tr>\n",
       "  </tbody>\n",
       "</table>\n",
       "</div>"
      ],
      "text/plain": [
       "             mean_rating  std_rating  median_year\n",
       "genre                                            \n",
       "Childrens       4.780000    0.122370       2015.0\n",
       "Fiction         4.570229    0.281123       2013.0\n",
       "Non Fiction     4.598324    0.179411       2013.0"
      ]
     },
     "execution_count": 2,
     "metadata": {},
     "output_type": "execute_result"
    }
   ],
   "source": [
    "books.groupby('genre').agg(\n",
    "    mean_rating = ('rating', 'mean'),\n",
    "    std_rating = ('rating', 'std'),\n",
    "    median_year = ('year', 'median')\n",
    ")"
   ]
  },
  {
   "cell_type": "code",
   "execution_count": 4,
   "id": "b318d2eb-dfb3-44b0-8eb8-5805e78eb990",
   "metadata": {},
   "outputs": [
    {
     "data": {
      "text/plain": [
       "name      0\n",
       "author    0\n",
       "rating    0\n",
       "year      0\n",
       "genre     0\n",
       "dtype: int64"
      ]
     },
     "execution_count": 4,
     "metadata": {},
     "output_type": "execute_result"
    }
   ],
   "source": [
    "# check for missing values\n",
    "books.isna().sum()"
   ]
  },
  {
   "cell_type": "code",
   "execution_count": 7,
   "id": "91a7c09a-7be5-4b66-b5dd-7c16d748e957",
   "metadata": {},
   "outputs": [
    {
     "data": {
      "text/plain": [
       "divorce_date           0\n",
       "dob_man                0\n",
       "education_man          4\n",
       "income_man             0\n",
       "dob_woman              0\n",
       "education_woman        0\n",
       "income_woman           0\n",
       "marriage_date          0\n",
       "marriage_duration      0\n",
       "num_kids             876\n",
       "dtype: int64"
      ]
     },
     "execution_count": 7,
     "metadata": {},
     "output_type": "execute_result"
    }
   ],
   "source": [
    "divorce.isna().sum()"
   ]
  },
  {
   "cell_type": "markdown",
   "id": "f7089b7f-54e6-4d8c-8da2-c4f1e337dabc",
   "metadata": {},
   "source": [
    "## Strategies for Addressing Missing Values"
   ]
  },
  {
   "cell_type": "markdown",
   "id": "4c03038d-7bed-4aec-9192-47c191f7f3e3",
   "metadata": {},
   "source": [
    "1. Drop missing values if they are 5% or less of all values\n",
    "2. Impute the mean, median or mode, depending on the context, for the missing values\n",
    "3. Impute by sub-groups"
   ]
  },
  {
   "cell_type": "code",
   "execution_count": 9,
   "id": "759dfc2a-071b-46f7-8eb4-f0014396ff86",
   "metadata": {},
   "outputs": [
    {
     "name": "stdout",
     "output_type": "stream",
     "text": [
      "110.45\n"
     ]
    }
   ],
   "source": [
    "threshold = len(divorce) * 0.05\n",
    "print(threshold) # if missing values for a column is <= threshold, drop them"
   ]
  },
  {
   "cell_type": "code",
   "execution_count": 10,
   "id": "fd9689cd-c5a8-43e4-ba89-c8e2e532fd76",
   "metadata": {},
   "outputs": [
    {
     "name": "stdout",
     "output_type": "stream",
     "text": [
      "Index(['divorce_date', 'dob_man', 'education_man', 'income_man', 'dob_woman',\n",
      "       'education_woman', 'income_woman', 'marriage_date',\n",
      "       'marriage_duration'],\n",
      "      dtype='object')\n"
     ]
    }
   ],
   "source": [
    "# check for columns with missing values <= the threshold\n",
    "cols_to_drop = divorce.columns[divorce.isna().sum() <= threshold]\n",
    "print(cols_to_drop)"
   ]
  },
  {
   "cell_type": "code",
   "execution_count": 11,
   "id": "cbfdea1c-eae8-4fcd-b2ae-ccda2f8238d4",
   "metadata": {},
   "outputs": [],
   "source": [
    "divorce.dropna(subset = cols_to_drop, inplace = True) # drop missing values for these columns"
   ]
  },
  {
   "cell_type": "code",
   "execution_count": 12,
   "id": "2ffca739-21b9-4474-9d45-19afc204c6a1",
   "metadata": {},
   "outputs": [
    {
     "data": {
      "text/plain": [
       "divorce_date           0\n",
       "dob_man                0\n",
       "education_man          0\n",
       "income_man             0\n",
       "dob_woman              0\n",
       "education_woman        0\n",
       "income_woman           0\n",
       "marriage_date          0\n",
       "marriage_duration      0\n",
       "num_kids             875\n",
       "dtype: int64"
      ]
     },
     "execution_count": 12,
     "metadata": {},
     "output_type": "execute_result"
    }
   ],
   "source": [
    "divorce.isna().sum()"
   ]
  },
  {
   "cell_type": "code",
   "execution_count": 13,
   "id": "11969001-db89-4df7-b4db-a87b7bfd94ae",
   "metadata": {},
   "outputs": [
    {
     "name": "stdout",
     "output_type": "stream",
     "text": [
      "Index(['num_kids'], dtype='object')\n"
     ]
    }
   ],
   "source": [
    "# filter for remaining columns with missing values\n",
    "cols_with_missing_values = divorce.columns[divorce.isna().sum() > 0]\n",
    "print(cols_with_missing_values)"
   ]
  },
  {
   "cell_type": "code",
   "execution_count": 17,
   "id": "3414fe67-3869-4450-b8e8-fd8ea49a2901",
   "metadata": {},
   "outputs": [
    {
     "name": "stdout",
     "output_type": "stream",
     "text": [
      "{'Other': 2.0, 'Preparatory': 2.0, 'Primary': 2.0, 'Professional': 2.0, 'Secondary': 2.0}\n"
     ]
    }
   ],
   "source": [
    "# impute missing values by sub-group\n",
    "divorce_dict = divorce.groupby(\"education_man\")['num_kids'].median().to_dict()\n",
    "print(divorce_dict)"
   ]
  },
  {
   "cell_type": "code",
   "execution_count": 18,
   "id": "73375973-55ef-45a6-b5b3-c342a3b907e0",
   "metadata": {},
   "outputs": [
    {
     "data": {
      "text/plain": [
       "divorce_date         0\n",
       "dob_man              0\n",
       "education_man        0\n",
       "income_man           0\n",
       "dob_woman            0\n",
       "education_woman      0\n",
       "income_woman         0\n",
       "marriage_date        0\n",
       "marriage_duration    0\n",
       "num_kids             0\n",
       "dtype: int64"
      ]
     },
     "execution_count": 18,
     "metadata": {},
     "output_type": "execute_result"
    }
   ],
   "source": [
    "divorce['num_kids'] = divorce['num_kids'].fillna(divorce['education_man'].map(divorce_dict))\n",
    "divorce.isna().sum()"
   ]
  },
  {
   "cell_type": "code",
   "execution_count": 3,
   "id": "06a2b6d9-338f-40b8-a670-05cfe9757ea3",
   "metadata": {},
   "outputs": [
    {
     "name": "stdout",
     "output_type": "stream",
     "text": [
      "   Working_Year                 Designation Experience Employment_Status  \\\n",
      "0          2020              Data Scientist        Mid                FT   \n",
      "1          2020  Machine Learning Scientist     Senior                FT   \n",
      "2          2020           Big Data Engineer     Senior                FT   \n",
      "3          2020        Product Data Analyst        Mid                FT   \n",
      "4          2020   Machine Learning Engineer     Senior                FT   \n",
      "\n",
      "  Employee_Location Company_Size  Remote_Working_Ratio  Salary_USD  \n",
      "0                DE            L                     0     76227.0  \n",
      "1                JP            S                     0    248257.0  \n",
      "2                GB            M                    50    104100.0  \n",
      "3                HN            S                     0     19097.0  \n",
      "4                US            L                    50    143225.0  \n"
     ]
    }
   ],
   "source": [
    "salaries = pd.read_csv(r\"C:\\Users\\Odinaka Ekemezie\\Downloads\\ds_salaries_clean.csv\")\n",
    "print(salaries.head())"
   ]
  },
  {
   "cell_type": "code",
   "execution_count": 4,
   "id": "13a6991d-0810-430b-904c-ac31878a2826",
   "metadata": {},
   "outputs": [
    {
     "name": "stdout",
     "output_type": "stream",
     "text": [
      "Designation\n",
      "Data Scientist                              143\n",
      "Data Engineer                               132\n",
      "Data Analyst                                 97\n",
      "Machine Learning Engineer                    41\n",
      "Research Scientist                           16\n",
      "Data Science Manager                         12\n",
      "Data Architect                               11\n",
      "Big Data Engineer                             8\n",
      "Machine Learning Scientist                    8\n",
      "Principal Data Scientist                      7\n",
      "AI Scientist                                  7\n",
      "Data Science Consultant                       7\n",
      "Director of Data Science                      7\n",
      "Data Analytics Manager                        7\n",
      "ML Engineer                                   6\n",
      "Computer Vision Engineer                      6\n",
      "BI Data Analyst                               6\n",
      "Lead Data Engineer                            6\n",
      "Data Engineering Manager                      5\n",
      "Business Data Analyst                         5\n",
      "Head of Data                                  5\n",
      "Applied Data Scientist                        5\n",
      "Applied Machine Learning Scientist            4\n",
      "Head of Data Science                          4\n",
      "Analytics Engineer                            4\n",
      "Data Analytics Engineer                       4\n",
      "Machine Learning Developer                    3\n",
      "Machine Learning Infrastructure Engineer      3\n",
      "Lead Data Scientist                           3\n",
      "Computer Vision Software Engineer             3\n",
      "Lead Data Analyst                             3\n",
      "Data Science Engineer                         3\n",
      "Principal Data Engineer                       3\n",
      "Principal Data Analyst                        2\n",
      "ETL Developer                                 2\n",
      "Product Data Analyst                          2\n",
      "Director of Data Engineering                  2\n",
      "Financial Data Analyst                        2\n",
      "Cloud Data Engineer                           2\n",
      "Lead Machine Learning Engineer                1\n",
      "NLP Engineer                                  1\n",
      "Head of Machine Learning                      1\n",
      "3D Computer Vision Researcher                 1\n",
      "Data Specialist                               1\n",
      "Staff Data Scientist                          1\n",
      "Big Data Architect                            1\n",
      "Finance Data Analyst                          1\n",
      "Marketing Data Analyst                        1\n",
      "Machine Learning Manager                      1\n",
      "Data Analytics Lead                           1\n",
      "Name: count, dtype: int64\n"
     ]
    }
   ],
   "source": [
    "print(salaries['Designation'].value_counts())"
   ]
  },
  {
   "cell_type": "code",
   "execution_count": 7,
   "id": "cf64102c-979e-445f-852c-013d9779d290",
   "metadata": {},
   "outputs": [
    {
     "name": "stdout",
     "output_type": "stream",
     "text": [
      "50\n"
     ]
    }
   ],
   "source": [
    "# count number of unique values\n",
    "print(salaries['Designation'].nunique())"
   ]
  },
  {
   "cell_type": "code",
   "execution_count": 8,
   "id": "4dfba248-22ce-4c0a-9837-1f892b7356c3",
   "metadata": {},
   "outputs": [
    {
     "data": {
      "text/plain": [
       "0       True\n",
       "1       True\n",
       "2      False\n",
       "3      False\n",
       "4      False\n",
       "       ...  \n",
       "602    False\n",
       "603    False\n",
       "604    False\n",
       "605    False\n",
       "606     True\n",
       "Name: Designation, Length: 607, dtype: bool"
      ]
     },
     "execution_count": 8,
     "metadata": {},
     "output_type": "execute_result"
    }
   ],
   "source": [
    "# check job titles that contain 'scientist'\n",
    "salaries['Designation'].str.contains('Scientist')"
   ]
  },
  {
   "cell_type": "code",
   "execution_count": 9,
   "id": "b1b794ca-c6da-40e4-b73f-22f1bf82bbb4",
   "metadata": {},
   "outputs": [
    {
     "data": {
      "text/plain": [
       "0      False\n",
       "1       True\n",
       "2      False\n",
       "3      False\n",
       "4       True\n",
       "       ...  \n",
       "602    False\n",
       "603    False\n",
       "604    False\n",
       "605    False\n",
       "606     True\n",
       "Name: Designation, Length: 607, dtype: bool"
      ]
     },
     "execution_count": 9,
     "metadata": {},
     "output_type": "execute_result"
    }
   ],
   "source": [
    "# check job titles that contain 'Machine Learning or AL'\n",
    "salaries['Designation'].str.contains('Machine Learning|AI')"
   ]
  },
  {
   "cell_type": "code",
   "execution_count": 10,
   "id": "916aa798-d3bb-4c49-8cec-4f15b1793e1b",
   "metadata": {},
   "outputs": [
    {
     "data": {
      "text/plain": [
       "0       True\n",
       "1      False\n",
       "2      False\n",
       "3      False\n",
       "4      False\n",
       "       ...  \n",
       "602     True\n",
       "603     True\n",
       "604     True\n",
       "605     True\n",
       "606    False\n",
       "Name: Designation, Length: 607, dtype: bool"
      ]
     },
     "execution_count": 10,
     "metadata": {},
     "output_type": "execute_result"
    }
   ],
   "source": [
    "# check for job titles that starts with 'Data'\n",
    "salaries['Designation'].str.contains('^Data')"
   ]
  },
  {
   "cell_type": "code",
   "execution_count": 11,
   "id": "7ed466b7-ffd9-4cf2-83ac-eb9dfc59be7c",
   "metadata": {},
   "outputs": [],
   "source": [
    "job_categories = ['Data Scientist', 'Data Analytics', \n",
    "                  'Data Engineering', 'Machine Learning',\n",
    "                  'Managerial', 'Consultant']"
   ]
  },
  {
   "cell_type": "code",
   "execution_count": 16,
   "id": "69cd77cb-da4e-4205-93c8-e9b5ac2a12ad",
   "metadata": {},
   "outputs": [],
   "source": [
    "data_science = 'Data Scientist|NLP'\n",
    "data_analyst = 'Analyst|Analytics'\n",
    "data_engineer = 'Data Engineer|ETL|Architect|Infrastructure'\n",
    "ml_engineer = 'Machine Learning|ML|Big Data|AI'\n",
    "manager = 'Manager|Head|Director|Lead|Principal|Staff'\n",
    "consultant = 'Consultant|Freelance'"
   ]
  },
  {
   "cell_type": "code",
   "execution_count": 17,
   "id": "78ab45e8-42d7-4187-a80d-df2d910e70b8",
   "metadata": {},
   "outputs": [],
   "source": [
    "conditions = [\n",
    "    (salaries['Designation'].str.contains(data_science)),\n",
    "    (salaries['Designation'].str.contains(data_analyst)),\n",
    "    (salaries['Designation'].str.contains(data_engineer)),\n",
    "    (salaries['Designation'].str.contains(ml_engineer)),\n",
    "    (salaries['Designation'].str.contains(manager)),\n",
    "    (salaries['Designation'].str.contains(consultant))\n",
    "]"
   ]
  },
  {
   "cell_type": "code",
   "execution_count": 20,
   "id": "440d3dab-8dbf-41e2-8aab-1c660a7a7734",
   "metadata": {},
   "outputs": [],
   "source": [
    "import numpy as np\n",
    "salaries['Job_Category'] = np.select(conditions,\n",
    "                                     job_categories,\n",
    "                                     default = 'Other')"
   ]
  },
  {
   "cell_type": "code",
   "execution_count": 21,
   "id": "3783e5d6-30dd-4783-932b-5876fb6af32f",
   "metadata": {},
   "outputs": [
    {
     "name": "stdout",
     "output_type": "stream",
     "text": [
      "                  Designation      Job_Category\n",
      "0              Data Scientist    Data Scientist\n",
      "1  Machine Learning Scientist  Machine Learning\n",
      "2           Big Data Engineer  Data Engineering\n",
      "3        Product Data Analyst    Data Analytics\n",
      "4   Machine Learning Engineer  Machine Learning\n"
     ]
    }
   ],
   "source": [
    "print(salaries[['Designation', 'Job_Category']].head())"
   ]
  },
  {
   "cell_type": "code",
   "execution_count": 22,
   "id": "0547f54f-0146-41c8-8572-8d640d70135e",
   "metadata": {},
   "outputs": [],
   "source": [
    "# add a summary statistic to your data\n",
    "# use .transform() here because we want to create a column that has the same length as the original dataframe \n",
    "salaries['std_dev'] = salaries.groupby('Experience')['Salary_USD'].transform(lambda x: x.std())"
   ]
  },
  {
   "cell_type": "code",
   "execution_count": 23,
   "id": "cf7e3579-69a9-49fd-8ddc-0adba43ac122",
   "metadata": {},
   "outputs": [
    {
     "name": "stdout",
     "output_type": "stream",
     "text": [
      "    Experience       std_dev\n",
      "0          Mid  61014.876754\n",
      "1       Senior  55086.264071\n",
      "2       Senior  55086.264071\n",
      "3          Mid  61014.876754\n",
      "4       Senior  55086.264071\n",
      "..         ...           ...\n",
      "602     Senior  55086.264071\n",
      "603     Senior  55086.264071\n",
      "604     Senior  55086.264071\n",
      "605     Senior  55086.264071\n",
      "606        Mid  61014.876754\n",
      "\n",
      "[607 rows x 2 columns]\n"
     ]
    }
   ],
   "source": [
    "print(salaries[['Experience', 'std_dev']])"
   ]
  },
  {
   "cell_type": "markdown",
   "id": "c1858ee0-f24d-4717-9289-8545e95c3f5c",
   "metadata": {},
   "source": [
    "## Handling Outliers\n",
    "\n"
   ]
  },
  {
   "cell_type": "markdown",
   "id": "5bbf41f1-f1fa-4f96-8970-eb249000012f",
   "metadata": {},
   "source": [
    "An outlier is an observation far away from other data points"
   ]
  },
  {
   "cell_type": "code",
   "execution_count": 24,
   "id": "75960e9f-d053-4b0e-aae4-6a1e6e3a02c5",
   "metadata": {},
   "outputs": [
    {
     "name": "stdout",
     "output_type": "stream",
     "text": [
      "count       607.000000\n",
      "mean     107225.836903\n",
      "std       67752.393254\n",
      "min        2730.000000\n",
      "25%       59893.000000\n",
      "50%       96982.000000\n",
      "75%      143225.000000\n",
      "max      572900.000000\n",
      "Name: Salary_USD, dtype: float64\n"
     ]
    }
   ],
   "source": [
    "print(salaries['Salary_USD'].describe())"
   ]
  },
  {
   "cell_type": "code",
   "execution_count": 21,
   "id": "ce65b44a-6ddf-487f-9381-c236944af6cc",
   "metadata": {},
   "outputs": [
    {
     "data": {
      "image/png": "[encoded data removed]",
      "text/plain": [
       "<Figure size 640x480 with 1 Axes>"
      ]
     },
     "metadata": {},
     "output_type": "display_data"
    }
   ],
   "source": [
    "import seaborn as sns\n",
    "import matplotlib.pyplot as plt\n",
    "sns.boxplot(data = salaries, y = 'Salary_USD')\n",
    "plt.show()"
   ]
  },
  {
   "cell_type": "markdown",
   "id": "4c96aeef-f168-4e67-803b-10b29babf5cc",
   "metadata": {},
   "source": [
    "###### Interquartile Range (IQR) = 75th percentile - 25th percentile\n",
    "###### upper outliers > 75th percentile + (1.5 + IQR)\n",
    "###### lower outliers < 25th percentile - (1.5 + IQR)"
   ]
  },
  {
   "cell_type": "code",
   "execution_count": 28,
   "id": "7aeb3f3e-0a14-48db-a0a2-247d1b05b984",
   "metadata": {},
   "outputs": [
    {
     "data": {
      "text/plain": [
       "143225.0"
      ]
     },
     "execution_count": 28,
     "metadata": {},
     "output_type": "execute_result"
    }
   ],
   "source": [
    "# 75th percentile\n",
    "seventy_fifth = salaries['Salary_USD'].quantile(0.75)\n",
    "seventy_fifth"
   ]
  },
  {
   "cell_type": "code",
   "execution_count": 30,
   "id": "a41994f1-fc54-4536-981f-1e91f400f992",
   "metadata": {},
   "outputs": [],
   "source": [
    "# 25th percentile\n",
    "twenty_fifth = salaries['Salary_USD'].quantile(0.25)"
   ]
  },
  {
   "cell_type": "code",
   "execution_count": 31,
   "id": "0d053b42-7d42-4970-aca0-877bb9ce1b73",
   "metadata": {},
   "outputs": [],
   "source": [
    "# IQR\n",
    "salaries_iqr = seventy_fifth - twenty_fifth\n"
   ]
  },
  {
   "cell_type": "code",
   "execution_count": 33,
   "id": "2891c8e5-56bd-48ea-ae59-2388d8a475fc",
   "metadata": {},
   "outputs": [],
   "source": [
    "# upper threshold\n",
    "upper = seventy_fifth + (1.5 * salaries_iqr)\n",
    "lower = twenty_fifth - (1.5 * salaries_iqr)"
   ]
  },
  {
   "cell_type": "code",
   "execution_count": 35,
   "id": "a2aedc90-5208-4293-8699-a828e5d78b87",
   "metadata": {},
   "outputs": [
    {
     "data": {
      "text/html": [
       "<div>\n",
       "<style scoped>\n",
       "    .dataframe tbody tr th:only-of-type {\n",
       "        vertical-align: middle;\n",
       "    }\n",
       "\n",
       "    .dataframe tbody tr th {\n",
       "        vertical-align: top;\n",
       "    }\n",
       "\n",
       "    .dataframe thead th {\n",
       "        text-align: right;\n",
       "    }\n",
       "</style>\n",
       "<table border=\"1\" class=\"dataframe\">\n",
       "  <thead>\n",
       "    <tr style=\"text-align: right;\">\n",
       "      <th></th>\n",
       "      <th>Experience</th>\n",
       "      <th>Employee_Location</th>\n",
       "      <th>Salary_USD</th>\n",
       "    </tr>\n",
       "  </thead>\n",
       "  <tbody>\n",
       "    <tr>\n",
       "      <th>25</th>\n",
       "      <td>Executive</td>\n",
       "      <td>US</td>\n",
       "      <td>310321.0</td>\n",
       "    </tr>\n",
       "    <tr>\n",
       "      <th>33</th>\n",
       "      <td>Mid</td>\n",
       "      <td>US</td>\n",
       "      <td>429675.0</td>\n",
       "    </tr>\n",
       "    <tr>\n",
       "      <th>63</th>\n",
       "      <td>Senior</td>\n",
       "      <td>US</td>\n",
       "      <td>393392.0</td>\n",
       "    </tr>\n",
       "    <tr>\n",
       "      <th>97</th>\n",
       "      <td>Mid</td>\n",
       "      <td>US</td>\n",
       "      <td>429675.0</td>\n",
       "    </tr>\n",
       "    <tr>\n",
       "      <th>157</th>\n",
       "      <td>Mid</td>\n",
       "      <td>US</td>\n",
       "      <td>403895.0</td>\n",
       "    </tr>\n",
       "    <tr>\n",
       "      <th>225</th>\n",
       "      <td>Executive</td>\n",
       "      <td>US</td>\n",
       "      <td>397211.0</td>\n",
       "    </tr>\n",
       "    <tr>\n",
       "      <th>252</th>\n",
       "      <td>Executive</td>\n",
       "      <td>US</td>\n",
       "      <td>572900.0</td>\n",
       "    </tr>\n",
       "    <tr>\n",
       "      <th>482</th>\n",
       "      <td>Executive</td>\n",
       "      <td>US</td>\n",
       "      <td>309366.0</td>\n",
       "    </tr>\n",
       "    <tr>\n",
       "      <th>519</th>\n",
       "      <td>Senior</td>\n",
       "      <td>US</td>\n",
       "      <td>362837.0</td>\n",
       "    </tr>\n",
       "    <tr>\n",
       "      <th>523</th>\n",
       "      <td>Senior</td>\n",
       "      <td>US</td>\n",
       "      <td>386708.0</td>\n",
       "    </tr>\n",
       "  </tbody>\n",
       "</table>\n",
       "</div>"
      ],
      "text/plain": [
       "    Experience Employee_Location  Salary_USD\n",
       "25   Executive                US    310321.0\n",
       "33         Mid                US    429675.0\n",
       "63      Senior                US    393392.0\n",
       "97         Mid                US    429675.0\n",
       "157        Mid                US    403895.0\n",
       "225  Executive                US    397211.0\n",
       "252  Executive                US    572900.0\n",
       "482  Executive                US    309366.0\n",
       "519     Senior                US    362837.0\n",
       "523     Senior                US    386708.0"
      ]
     },
     "execution_count": 35,
     "metadata": {},
     "output_type": "execute_result"
    }
   ],
   "source": [
    "# subset for outliers\n",
    "salaries[(salaries['Salary_USD'] < lower) | (salaries['Salary_USD'] > upper)] \\\n",
    "    [['Experience', 'Employee_Location', 'Salary_USD']]"
   ]
  },
  {
   "cell_type": "code",
   "execution_count": 38,
   "id": "f811cc02-5517-4802-97aa-1323eaa41f57",
   "metadata": {},
   "outputs": [],
   "source": [
    "# Dropping outliers\n",
    "no_outliers = salaries[(salaries['Salary_USD'] > lower) & (salaries['Salary_USD'] < upper)]"
   ]
  },
  {
   "cell_type": "markdown",
   "id": "c92b346f-da13-440d-801f-dafd4a464a05",
   "metadata": {},
   "source": [
    "## Patterns Over Time"
   ]
  },
  {
   "cell_type": "markdown",
   "id": "ac72ca4f-1ad4-47bd-9406-fbb6625b48c7",
   "metadata": {},
   "source": [
    "When a csv file is imported into pandas, date and time data are typically interpreted as strings by default. We can fix that by adding the parse_dates keyword while importing the data"
   ]
  },
  {
   "cell_type": "code",
   "execution_count": 16,
   "id": "07cdf80b-b2df-4b47-9138-4fa76dad6f09",
   "metadata": {},
   "outputs": [
    {
     "data": {
      "text/plain": [
       "divorce_date         datetime64[ns]\n",
       "dob_man              datetime64[ns]\n",
       "education_man                object\n",
       "income_man                  float64\n",
       "dob_woman            datetime64[ns]\n",
       "education_woman              object\n",
       "income_woman                float64\n",
       "marriage_date                object\n",
       "marriage_duration           float64\n",
       "num_kids                    float64\n",
       "dtype: object"
      ]
     },
     "execution_count": 16,
     "metadata": {},
     "output_type": "execute_result"
    }
   ],
   "source": [
    "divorce = pd.read_csv(r\"C:\\Users\\Odinaka Ekemezie\\Downloads\\divorce.csv\", parse_dates = ['divorce_date', 'dob_man', 'dob_woman'])\n",
    "divorce.dtypes"
   ]
  },
  {
   "cell_type": "markdown",
   "id": "37bbf1e9-40f4-48a4-9891-dc409535cbd1",
   "metadata": {},
   "source": [
    "The data types can also be updated to datatime data after import"
   ]
  },
  {
   "cell_type": "code",
   "execution_count": 9,
   "id": "8c0564d8-9ac8-4179-86fe-0f973bc34468",
   "metadata": {},
   "outputs": [
    {
     "data": {
      "text/plain": [
       "divorce_date                 object\n",
       "dob_man              datetime64[ns]\n",
       "education_man                object\n",
       "income_man                  float64\n",
       "dob_woman            datetime64[ns]\n",
       "education_woman              object\n",
       "income_woman                float64\n",
       "marriage_date        datetime64[ns]\n",
       "marriage_duration           float64\n",
       "num_kids                    float64\n",
       "dtype: object"
      ]
     },
     "execution_count": 9,
     "metadata": {},
     "output_type": "execute_result"
    }
   ],
   "source": [
    "divorce['marriage_date'] = pd.to_datetime(divorce['marriage_date'])\n",
    "divorce.dtypes"
   ]
  },
  {
   "cell_type": "code",
   "execution_count": 12,
   "id": "7b085ae5-3119-414b-9ea8-48f5b990b95a",
   "metadata": {},
   "outputs": [
    {
     "name": "stdout",
     "output_type": "stream",
     "text": [
      "   month  day  year\n",
      "0      6   23  2000\n",
      "1      2    6  2001\n"
     ]
    }
   ],
   "source": [
    "my_date = pd.DataFrame(\n",
    "    {'month' : [6, 2],\n",
    "     'day' : [23, 6],\n",
    "     'year' : [2000, 2001]\n",
    "    }\n",
    ")\n",
    "print(my_date)\n",
    "\n",
    "\n"
   ]
  },
  {
   "cell_type": "code",
   "execution_count": 13,
   "id": "96137b01-2a83-4b1a-8dbe-7c082837245a",
   "metadata": {},
   "outputs": [
    {
     "name": "stdout",
     "output_type": "stream",
     "text": [
      "   month  day  year   new_date\n",
      "0      6   23  2000 2000-06-23\n",
      "1      2    6  2001 2001-02-06\n"
     ]
    }
   ],
   "source": [
    "# use pd.to_datetime to convert month, day and year to a date column\n",
    "my_date['new_date'] = pd.to_datetime(my_date[['month', 'day', 'year']])\n",
    "print(my_date)"
   ]
  },
  {
   "cell_type": "code",
   "execution_count": 15,
   "id": "80851d85-d9fa-484c-81d8-3f5fec8d950c",
   "metadata": {},
   "outputs": [
    {
     "name": "stdout",
     "output_type": "stream",
     "text": [
      "  marriage_date  marriage_month\n",
      "0    2000-06-26               6\n",
      "1    2001-09-02               9\n",
      "2    2000-02-02               2\n",
      "3    2006-05-13               5\n",
      "4    2007-08-06               8\n"
     ]
    }
   ],
   "source": [
    "# Extract month from a datetime column\n",
    "divorce['marriage_month'] = divorce['marriage_date'].dt.month\n",
    "print(divorce[['marriage_date', 'marriage_month']].head())"
   ]
  },
  {
   "cell_type": "markdown",
   "id": "d1afd89b-5daf-4553-96ed-781acff0a5a2",
   "metadata": {},
   "source": [
    "## Correlation"
   ]
  },
  {
   "cell_type": "code",
   "execution_count": 18,
   "id": "a4ce292d-4714-463f-b69b-adec2ec0596b",
   "metadata": {},
   "outputs": [
    {
     "data": {
      "text/html": [
       "<div>\n",
       "<style scoped>\n",
       "    .dataframe tbody tr th:only-of-type {\n",
       "        vertical-align: middle;\n",
       "    }\n",
       "\n",
       "    .dataframe tbody tr th {\n",
       "        vertical-align: top;\n",
       "    }\n",
       "\n",
       "    .dataframe thead th {\n",
       "        text-align: right;\n",
       "    }\n",
       "</style>\n",
       "<table border=\"1\" class=\"dataframe\">\n",
       "  <thead>\n",
       "    <tr style=\"text-align: right;\">\n",
       "      <th></th>\n",
       "      <th>income_man</th>\n",
       "      <th>income_woman</th>\n",
       "      <th>marriage_duration</th>\n",
       "      <th>num_kids</th>\n",
       "    </tr>\n",
       "  </thead>\n",
       "  <tbody>\n",
       "    <tr>\n",
       "      <th>income_man</th>\n",
       "      <td>1.000000</td>\n",
       "      <td>0.318047</td>\n",
       "      <td>0.085321</td>\n",
       "      <td>0.040848</td>\n",
       "    </tr>\n",
       "    <tr>\n",
       "      <th>income_woman</th>\n",
       "      <td>0.318047</td>\n",
       "      <td>1.000000</td>\n",
       "      <td>0.078677</td>\n",
       "      <td>-0.018015</td>\n",
       "    </tr>\n",
       "    <tr>\n",
       "      <th>marriage_duration</th>\n",
       "      <td>0.085321</td>\n",
       "      <td>0.078677</td>\n",
       "      <td>1.000000</td>\n",
       "      <td>0.447358</td>\n",
       "    </tr>\n",
       "    <tr>\n",
       "      <th>num_kids</th>\n",
       "      <td>0.040848</td>\n",
       "      <td>-0.018015</td>\n",
       "      <td>0.447358</td>\n",
       "      <td>1.000000</td>\n",
       "    </tr>\n",
       "  </tbody>\n",
       "</table>\n",
       "</div>"
      ],
      "text/plain": [
       "                   income_man  income_woman  marriage_duration  num_kids\n",
       "income_man           1.000000      0.318047           0.085321  0.040848\n",
       "income_woman         0.318047      1.000000           0.078677 -0.018015\n",
       "marriage_duration    0.085321      0.078677           1.000000  0.447358\n",
       "num_kids             0.040848     -0.018015           0.447358  1.000000"
      ]
     },
     "execution_count": 18,
     "metadata": {},
     "output_type": "execute_result"
    }
   ],
   "source": [
    "divorce.select_dtypes('number').corr()"
   ]
  },
  {
   "cell_type": "code",
   "execution_count": 22,
   "id": "77a8bf1b-beff-48cb-8195-9f40f0e6a55f",
   "metadata": {},
   "outputs": [
    {
     "data": {
      "image/png": "[encoded data removed]",
      "text/plain": [
       "<Figure size 640x480 with 2 Axes>"
      ]
     },
     "metadata": {},
     "output_type": "display_data"
    }
   ],
   "source": [
    "sns.heatmap(divorce.select_dtypes('number').corr(), annot = True)\n",
    "plt.show()"
   ]
  },
  {
   "cell_type": "markdown",
   "id": "cd733b4c-1e1b-4e20-860a-5904559bc05d",
   "metadata": {},
   "source": [
    "## pd.cut()"
   ]
  },
  {
   "cell_type": "markdown",
   "id": "6df6de69-4c81-4da0-941b-cc1e6c0d86da",
   "metadata": {},
   "source": [
    "pd.cut() is used to group a continuous variable into categorical bins"
   ]
  },
  {
   "cell_type": "code",
   "execution_count": 4,
   "id": "c94b50e1-7957-441b-b1da-78361a0872e0",
   "metadata": {},
   "outputs": [],
   "source": [
    "planes = pd.read_csv(r\"C:\\Users\\Odinaka Ekemezie\\Downloads\\planes.csv\")"
   ]
  },
  {
   "cell_type": "code",
   "execution_count": 5,
   "id": "2336fc42-3167-45a9-92c8-ed5a477bb850",
   "metadata": {},
   "outputs": [
    {
     "data": {
      "text/plain": [
       "count    10044.000000\n",
       "mean      9044.411191\n",
       "std       4472.304869\n",
       "min       1759.000000\n",
       "25%       5276.750000\n",
       "50%       8366.000000\n",
       "75%      12373.000000\n",
       "max      54826.000000\n",
       "Name: Price, dtype: float64"
      ]
     },
     "execution_count": 5,
     "metadata": {},
     "output_type": "execute_result"
    }
   ],
   "source": [
    "planes['Price'].describe()"
   ]
  },
  {
   "cell_type": "code",
   "execution_count": 7,
   "id": "bd31e0c5-290f-4d16-adef-36216bc25588",
   "metadata": {},
   "outputs": [],
   "source": [
    "twenty_fifth = planes['Price'].quantile(0.25)\n",
    "median = planes['Price'].median()\n",
    "seventy_fifth = planes['Price'].quantile(0.75)\n",
    "maximum = planes['Price'].max()"
   ]
  },
  {
   "cell_type": "code",
   "execution_count": 8,
   "id": "5e33f83c-cff9-4c11-a22e-a876ee3fe863",
   "metadata": {},
   "outputs": [],
   "source": [
    "labels = ['Economy', 'Premium Economy', 'Business Class', 'First Class']\n",
    "bins = [0, twenty_fifth, median, seventy_fifth, maximum]\n",
    "\n",
    "planes['Price_Category'] = pd.cut(planes['Price'],\n",
    "                                  labels = labels,\n",
    "                                  bins = bins)"
   ]
  },
  {
   "cell_type": "code",
   "execution_count": 9,
   "id": "00bd3abb-9a21-4c3a-bfd0-68e9e2a17d12",
   "metadata": {},
   "outputs": [
    {
     "name": "stdout",
     "output_type": "stream",
     "text": [
      "     Price   Price_Category\n",
      "0  13882.0      First Class\n",
      "1   6218.0  Premium Economy\n",
      "2  13302.0      First Class\n",
      "3   3873.0          Economy\n",
      "4  11087.0   Business Class\n"
     ]
    }
   ],
   "source": [
    "print(planes[['Price', 'Price_Category']].head())"
   ]
  },
  {
   "cell_type": "code",
   "execution_count": null,
   "id": "f048f3f4-8c09-4875-a2db-aa99f08ea764",
   "metadata": {},
   "outputs": [],
   "source": []
  }
 ],
 "metadata": {
  "kernelspec": {
   "display_name": "Python 3 (ipykernel)",
   "language": "python",
   "name": "python3"
  },
  "language_info": {
   "codemirror_mode": {
    "name": "ipython",
    "version": 3
   },
   "file_extension": ".py",
   "mimetype": "text/x-python",
   "name": "python",
   "nbconvert_exporter": "python",
   "pygments_lexer": "ipython3",
   "version": "3.12.7"
  }
 },
 "nbformat": 4,
 "nbformat_minor": 5
}
