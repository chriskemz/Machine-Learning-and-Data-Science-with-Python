{
 "cells": [
  {
   "cell_type": "markdown",
   "id": "579177de-e00a-426c-9372-47610441ef0d",
   "metadata": {},
   "source": [
    "# Docstrings"
   ]
  },
  {
   "cell_type": "markdown",
   "id": "438aa7ef-37b0-4e4a-abcd-16c6b99705d0",
   "metadata": {},
   "source": [
    "Docstrings provide information on what a function does. Every docstrings should contain at least some of these pieces of infprmation:\n",
    "\n",
    "1. Description of what the function does\n",
    "\n",
    "2. Description of the arguments, if any\n",
    "\n",
    "3. Description of the return value(s), if any\n",
    "\n",
    "4. Description of the errors raised, if any\n",
    "\n",
    "5. Optional extra notes or examples of usage\n",
    "\n",
    "\n",
    "Your code can access the contents of your docstrings using .__doc__. You can also use the .getdoc() function from the inspect module"
   ]
  },
  {
   "cell_type": "code",
   "execution_count": 1,
   "id": "7381a4f7-d3bd-4d3d-b05e-1223edc6957a",
   "metadata": {},
   "outputs": [],
   "source": [
    "# Add a docstring to count_letter()\n",
    "def count_letter(content, letter):\n",
    "  \"\"\"Count the number of times `letter` appears in `content`.\n",
    "  \"\"\"\n",
    "  if (not isinstance(letter, str)) or len(letter) != 1:\n",
    "    raise ValueError('`letter` must be a single character string.')\n",
    "  return len([char for char in content if char == letter])"
   ]
  },
  {
   "cell_type": "code",
   "execution_count": 6,
   "id": "b9d6d065-47d6-4d8a-99c7-7a46e9839168",
   "metadata": {},
   "outputs": [],
   "source": [
    "def count_letter(content, letter):\n",
    "  \"\"\"Count the number of times `letter` appears in `content`.\n",
    "\n",
    "  Args:\n",
    "    content (str): The string to search.\n",
    "    letter (str): The letter to search for.\n",
    "\n",
    "  Returns:\n",
    "    int\n",
    "\n",
    "  Raises:\n",
    "    ValueError: If `letter` is not a one-character string.\n",
    "  \"\"\"\n",
    "  if (not isinstance(letter, str)) or len(letter) != 1:\n",
    "    raise ValueError('`letter` must be a single character string.')\n",
    "  return len([char for char in content if char == letter])"
   ]
  },
  {
   "cell_type": "code",
   "execution_count": 7,
   "id": "0b002f3c-e5e4-4db4-9eef-e9223cfe2028",
   "metadata": {},
   "outputs": [
    {
     "name": "stdout",
     "output_type": "stream",
     "text": [
      "############################\n",
      "Count the number of times `letter` appears in `content`.\n",
      "\n",
      "  Args:\n",
      "    content (str): The string to search.\n",
      "    letter (str): The letter to search for.\n",
      "\n",
      "  Returns:\n",
      "    int\n",
      "\n",
      "  Raises:\n",
      "    ValueError: If `letter` is not a one-character string.\n",
      "  \n",
      "############################\n"
     ]
    }
   ],
   "source": [
    "# Get the \"count_letter\" docstring by using an attribute of the function\n",
    "docstring = count_letter.__doc__\n",
    "\n",
    "border = '#' * 28\n",
    "print('{}\\n{}\\n{}'.format(border, docstring, border))"
   ]
  },
  {
   "cell_type": "code",
   "execution_count": 8,
   "id": "8ddfc5fe-9d19-4795-be04-e245da674f66",
   "metadata": {},
   "outputs": [
    {
     "name": "stdout",
     "output_type": "stream",
     "text": [
      "############################\n",
      "Count the number of times `letter` appears in `content`.\n",
      "\n",
      "Args:\n",
      "  content (str): The string to search.\n",
      "  letter (str): The letter to search for.\n",
      "\n",
      "Returns:\n",
      "  int\n",
      "\n",
      "Raises:\n",
      "  ValueError: If `letter` is not a one-character string.\n",
      "############################\n"
     ]
    }
   ],
   "source": [
    "import inspect\n",
    "\n",
    "# Inspect the count_letter() function to get its docstring\n",
    "docstring = inspect.getdoc(count_letter)\n",
    "\n",
    "border = '#' * 28\n",
    "print('{}\\n{}\\n{}'.format(border, docstring, border))"
   ]
  },
  {
   "cell_type": "code",
   "execution_count": 9,
   "id": "30ef2796-c32d-4c2e-9556-d014e93168f0",
   "metadata": {},
   "outputs": [],
   "source": [
    "def mean(values):\n",
    "  \"\"\"Get the mean of a sorted list of values\n",
    "\n",
    "  Args:\n",
    "    values (iterable of float): A list of numbers\n",
    "\n",
    "  Returns:\n",
    "    float\n",
    "  \"\"\"\n",
    "  # Write the mean() function\n",
    "  mean = sum(values) / len(values)\n",
    "  return mean"
   ]
  },
  {
   "cell_type": "code",
   "execution_count": 10,
   "id": "a84a4b31-1687-44e6-9d5b-5c22d12134e4",
   "metadata": {},
   "outputs": [],
   "source": [
    "def median(values):\n",
    "  \"\"\"Get the median of a sorted list of values\n",
    "\n",
    "  Args:\n",
    "    values (iterable of float): A list of numbers\n",
    "\n",
    "  Returns:\n",
    "    float\n",
    "  \"\"\"\n",
    "  # Write the median() function\n",
    "  values = sorted(values)\n",
    "  midpoint = int(len(values)/2)\n",
    "  if len(values) % 2 == 0:\n",
    "    median = (values[midpoint - 1] + values[midpoint]) / 2\n",
    "  else:\n",
    "    median = values[midpoint]\n",
    "  return median"
   ]
  },
  {
   "cell_type": "code",
   "execution_count": 11,
   "id": "a385fa68-9acc-4409-89a7-161c5e3b9551",
   "metadata": {},
   "outputs": [
    {
     "name": "stdout",
     "output_type": "stream",
     "text": [
      "[100, 2, 3]\n"
     ]
    }
   ],
   "source": [
    "def foo(x):\n",
    "    x[0] = 100\n",
    "\n",
    "my_list = [1, 2, 3]\n",
    "foo(my_list)\n",
    "print(my_list) # changes because list is mutable"
   ]
  },
  {
   "cell_type": "code",
   "execution_count": 12,
   "id": "e613143c-a72a-4a67-bdfa-88a0ffb53249",
   "metadata": {},
   "outputs": [
    {
     "name": "stdout",
     "output_type": "stream",
     "text": [
      "3\n"
     ]
    }
   ],
   "source": [
    "def bar(x):\n",
    "    x = x + 3\n",
    "\n",
    "my_var = 3\n",
    "bar(my_var)\n",
    "print(my_var) # does not change because int is immutable"
   ]
  },
  {
   "cell_type": "markdown",
   "id": "6238a5dc-cdc0-4362-bfd2-efa736bf0fe9",
   "metadata": {},
   "source": [
    "Python evaluates default arguments once — at function definition time, not each time the function is called."
   ]
  },
  {
   "cell_type": "code",
   "execution_count": 16,
   "id": "0879ddcc-5f47-4e2e-ac35-c816041f174e",
   "metadata": {},
   "outputs": [
    {
     "data": {
      "text/plain": [
       "[1, 1]"
      ]
     },
     "execution_count": 16,
     "metadata": {},
     "output_type": "execute_result"
    }
   ],
   "source": [
    "def foo(var=[]):\n",
    "    var.append(1)\n",
    "    return var\n",
    "\n",
    "foo()      # First call, outputs [1]\n",
    "foo()      # Second call\n"
   ]
  },
  {
   "cell_type": "markdown",
   "id": "e6ce2c50-266a-4a98-b955-361752d2c5ec",
   "metadata": {},
   "source": [
    "to avoid this issue, Use None as the default and create a new list inside the function."
   ]
  },
  {
   "cell_type": "code",
   "execution_count": 17,
   "id": "01a5d509-3bc2-4252-8e56-9c469a7b716e",
   "metadata": {},
   "outputs": [],
   "source": [
    "def foo(var=None):\n",
    "    if var is None:\n",
    "        var = []\n",
    "    var.append(1)\n",
    "    return var\n"
   ]
  },
  {
   "cell_type": "code",
   "execution_count": 18,
   "id": "8e70dad3-b3ad-4e95-806f-a1031ab0f321",
   "metadata": {},
   "outputs": [
    {
     "data": {
      "text/plain": [
       "[1]"
      ]
     },
     "execution_count": 18,
     "metadata": {},
     "output_type": "execute_result"
    }
   ],
   "source": [
    "foo()"
   ]
  },
  {
   "cell_type": "code",
   "execution_count": 19,
   "id": "bd143aeb-a039-4573-adca-01549969f3ea",
   "metadata": {},
   "outputs": [
    {
     "data": {
      "text/plain": [
       "[1]"
      ]
     },
     "execution_count": 19,
     "metadata": {},
     "output_type": "execute_result"
    }
   ],
   "source": [
    "foo()"
   ]
  },
  {
   "cell_type": "markdown",
   "id": "2f7d205c-f4b5-49ce-9b7d-d608f6acd4a3",
   "metadata": {},
   "source": [
    "# Context Manager"
   ]
  },
  {
   "cell_type": "markdown",
   "id": "8cfcceef-71ce-491d-8891-8085aa3920d7",
   "metadata": {},
   "source": [
    "The context manager is a type of function that sets a context for your code to run in, runs your code, and then removes the context, using the with statement. The construct of a context manager basically looks like this:\n"
   ]
  },
  {
   "cell_type": "code",
   "execution_count": null,
   "id": "7ceb8e57-be3e-4e47-8fb2-f51849352856",
   "metadata": {},
   "outputs": [],
   "source": [
    "with <context_manager>(<args>) as <variable-name>:"
   ]
  },
  {
   "cell_type": "markdown",
   "id": "9b8e3eb6-424b-439b-b9fa-c1c539a0817d",
   "metadata": {},
   "source": [
    "To know whether a function or object can be used as a context manager (i.e., used with a with statement), it must implement the context management protocol — specifically, it must have two special methods:\n",
    "\n"
   ]
  },
  {
   "cell_type": "code",
   "execution_count": null,
   "id": "fac5bd46-dd79-45f2-bc14-3e321bc6de09",
   "metadata": {},
   "outputs": [],
   "source": [
    ".__enter__()\n",
    "\n",
    ".__exit__()"
   ]
  },
  {
   "cell_type": "code",
   "execution_count": 4,
   "id": "a722a66d-8e6a-4c89-a3a4-3af1792dc6a0",
   "metadata": {},
   "outputs": [
    {
     "name": "stdout",
     "output_type": "stream",
     "text": [
      "There are 0 characters in text.\n"
     ]
    }
   ],
   "source": [
    "with open(r'C:\\Users\\Odinaka Ekemezie\\OneDrive\\Documents\\timex.txt') as file:\n",
    "    text = file.read()\n",
    "    length = len(text)\n",
    "print('There are {} characters in text.'.format(length))"
   ]
  },
  {
   "cell_type": "markdown",
   "id": "db42d977-2026-4795-b840-b8af6a4e93ae",
   "metadata": {},
   "source": [
    "## How to Create a Function-based Context Manager\n",
    "\n",
    "1. Define a function\n",
    "2. (Optional) Add any set up code your context needs\n",
    "3. Use the 'yield' keyword, which signals to Python that this is a special kind of function\n",
    "4. (Optional) Add any teardown code you need to clean up the context\n",
    "5. Add the @contextlib.contextmanager decorator. This is written immediately above your context manager function\n",
    "\n",
    "When you write the yield keyword,it signifies that you are going to return a value, but you expect to finish the rest of the function at some point in the future.The value that your context manager yields can be assigned to a variable in the with statement by adding \"as\". Some context manager does not need to return an explicit value"
   ]
  },
  {
   "cell_type": "code",
   "execution_count": 11,
   "id": "d3a0b1bb-a7cc-4d6e-a3ff-88a53208b8f1",
   "metadata": {},
   "outputs": [],
   "source": [
    "import contextlib\n",
    "\n",
    "@contextlib.contextmanager\n",
    "def my_context():\n",
    "    print('hello')\n",
    "    yield 20\n",
    "    print('goodbye')"
   ]
  },
  {
   "cell_type": "code",
   "execution_count": 12,
   "id": "b6805b32-d25e-4ecf-9b6c-242645f958af",
   "metadata": {},
   "outputs": [
    {
     "name": "stdout",
     "output_type": "stream",
     "text": [
      "hello\n",
      "foo is 20\n",
      "goodbye\n"
     ]
    },
    {
     "data": {
      "text/plain": [
       "<contextlib._GeneratorContextManager at 0x1f7eb9e4e30>"
      ]
     },
     "execution_count": 12,
     "metadata": {},
     "output_type": "execute_result"
    }
   ],
   "source": [
    "with my_context() as foo:\n",
    "    print(f\"foo is {foo}\")\n",
    "\n",
    "my_context()"
   ]
  },
  {
   "cell_type": "code",
   "execution_count": 14,
   "id": "794c2941-56ed-452a-86c5-168f73b795a0",
   "metadata": {},
   "outputs": [
    {
     "name": "stdout",
     "output_type": "stream",
     "text": [
      "This should take approximately 0.25 seconds\n",
      "Elapsed: 0.25s\n"
     ]
    }
   ],
   "source": [
    "import time\n",
    "# Add a decorator that will make timer() a context manager\n",
    "@contextlib.contextmanager\n",
    "def timer():\n",
    "  \"\"\"Time the execution of a context block.\n",
    "\n",
    "  Yields:\n",
    "    None\n",
    "  \"\"\"\n",
    "  start = time.time()\n",
    "  # Send control back to the context block\n",
    "  yield\n",
    "  end = time.time()\n",
    "  print('Elapsed: {:.2f}s'.format(end - start))\n",
    "\n",
    "with timer():\n",
    "  print('This should take approximately 0.25 seconds')\n",
    "  time.sleep(0.25)"
   ]
  },
  {
   "cell_type": "markdown",
   "id": "f7828823-f053-4fe9-95ae-12c3f4862ff7",
   "metadata": {},
   "source": [
    "### Nested Contexts"
   ]
  },
  {
   "cell_type": "code",
   "execution_count": 15,
   "id": "e083f5f7-2a21-40f7-bb36-ee6d7270371f",
   "metadata": {},
   "outputs": [],
   "source": [
    "def copy(src, dst):\n",
    "    \"\"\"Copy the contents of one file to another\n",
    "\n",
    "    Args:\n",
    "        src (str): File name of the file to be copied\n",
    "        dst (str): Where to write the new file\n",
    "    \"\"\"\n",
    "    # open both files\n",
    "    with open(src) as f_src:\n",
    "        with open(dst, 'w') as f_dst:\n",
    "            # Read and write each line, one at a time\n",
    "            for line in f_src:\n",
    "                f_dst.write(line)"
   ]
  },
  {
   "cell_type": "markdown",
   "id": "ef0daaff-5fb7-4280-ab42-9b879053b5ae",
   "metadata": {},
   "source": [
    "### Context Manager Patterns\n",
    "\n",
    "If you notice that your code is following any of these patterns, consider using a context manager:\n",
    "\n",
    "1. Open/Close\n",
    "2. Lock/Release\n",
    "3. Change/Reset\n",
    "4. Enter/Exit\n",
    "5. Start/Stop\n",
    "6. Setup/Teardown\n",
    "7. Connect/Disconnect"
   ]
  },
  {
   "cell_type": "markdown",
   "id": "42a99faa-5a3e-4ffa-960f-38c17cab8d46",
   "metadata": {},
   "source": [
    "## Functions are objects\n",
    "\n",
    "Functions are just like any other object in Python. They are not fundamentally different from list, dictionary, dataframes, integers, float, string, modules and anything else in Python. In that case, anything applicable to an object, is applicable to functions. For example, you can take a fuction and assign it to a varibale"
   ]
  },
  {
   "cell_type": "code",
   "execution_count": 1,
   "id": "56f0a5e3-064b-4e07-ad78-269f3015bbe5",
   "metadata": {},
   "outputs": [
    {
     "data": {
      "text/plain": [
       "function"
      ]
     },
     "execution_count": 1,
     "metadata": {},
     "output_type": "execute_result"
    }
   ],
   "source": [
    "def my_function():\n",
    "    print('Hello')\n",
    "x = my_function\n",
    "type(x)"
   ]
  },
  {
   "cell_type": "code",
   "execution_count": 2,
   "id": "cd7669da-fd9a-4141-a0fc-9484a4911247",
   "metadata": {},
   "outputs": [
    {
     "name": "stdout",
     "output_type": "stream",
     "text": [
      "Hello\n"
     ]
    }
   ],
   "source": [
    "# call x\n",
    "x()"
   ]
  },
  {
   "cell_type": "markdown",
   "id": "dedf0f12-0ec2-481f-9e14-6b23441c366d",
   "metadata": {},
   "source": [
    "It must not be functions you define; you could also assign pre-defined functions to variables."
   ]
  },
  {
   "cell_type": "code",
   "execution_count": 3,
   "id": "79eff117-a025-4f3f-a510-b4a8282c97d8",
   "metadata": {},
   "outputs": [
    {
     "name": "stdout",
     "output_type": "stream",
     "text": [
      "I am beautiful\n"
     ]
    }
   ],
   "source": [
    "PrintMyFace = print\n",
    "PrintMyFace('I am beautiful')"
   ]
  },
  {
   "cell_type": "markdown",
   "id": "d206453f-1ccf-4024-b584-b823efba1781",
   "metadata": {},
   "source": [
    "Functions can also be added to lists or dictionaries."
   ]
  },
  {
   "cell_type": "code",
   "execution_count": 6,
   "id": "d69cfbef-45e8-45a6-98b2-25b8ab8be4fe",
   "metadata": {},
   "outputs": [
    {
     "name": "stdout",
     "output_type": "stream",
     "text": [
      "I am printing with an element of a list\n"
     ]
    }
   ],
   "source": [
    "list_of_functions = [my_function, print, open]\n",
    "# call the second element, whici is print, and pass it arguments\n",
    "list_of_functions[1]('I am printing with an element of a list')\n",
    "\n"
   ]
  },
  {
   "cell_type": "code",
   "execution_count": 7,
   "id": "00604d6f-ca8c-47f5-8b65-3aedcba4407d",
   "metadata": {},
   "outputs": [
    {
     "name": "stdout",
     "output_type": "stream",
     "text": [
      "I am printing with an value of a dict\n"
     ]
    }
   ],
   "source": [
    "dict_of_functions = {\n",
    "    'func1': my_function,\n",
    "    'func2': print,\n",
    "    'func3': open\n",
    "}\n",
    "\n",
    "# access the func2 (print) and call the function\n",
    "dict_of_functions['func2']('I am printing with an value of a dict')"
   ]
  },
  {
   "cell_type": "markdown",
   "id": "f024cbc8-4f40-42d2-8e9b-fcd9e1f05205",
   "metadata": {},
   "source": [
    "##### Referencing a Function\n",
    "\n",
    "When a function is assigned to a variable, we don't include the parenthesis after the function name. for example, When you type my_function() with the parenthesis, you are calling that function, which will then evaluates to the value that the function returns.However, when you type my_function without the parenthesis, you're referencing the function itself, which evaluates to a function object."
   ]
  },
  {
   "cell_type": "code",
   "execution_count": 8,
   "id": "afccdb18-c77c-4bd6-bec8-0ab4c4a491fb",
   "metadata": {},
   "outputs": [
    {
     "name": "stdout",
     "output_type": "stream",
     "text": [
      "<function my_function at 0x000002A36B59E660>\n"
     ]
    }
   ],
   "source": [
    "def my_function():\n",
    "    return 42\n",
    "\n",
    "x = my_function\n",
    "print(x)"
   ]
  },
  {
   "cell_type": "code",
   "execution_count": 9,
   "id": "c4eac772-6273-47e7-ac21-150d05ab4c4b",
   "metadata": {},
   "outputs": [
    {
     "data": {
      "text/plain": [
       "42"
      ]
     },
     "execution_count": 9,
     "metadata": {},
     "output_type": "execute_result"
    }
   ],
   "source": [
    "# call the function\n",
    "my_function()"
   ]
  },
  {
   "cell_type": "code",
   "execution_count": 10,
   "id": "cbce79c1-9408-474d-9291-cce67ca65705",
   "metadata": {},
   "outputs": [
    {
     "data": {
      "text/plain": [
       "<function __main__.my_function()>"
      ]
     },
     "execution_count": 10,
     "metadata": {},
     "output_type": "execute_result"
    }
   ],
   "source": [
    "my_function"
   ]
  },
  {
   "cell_type": "markdown",
   "id": "15858b0c-9490-4243-a9a2-ca4bc91f0601",
   "metadata": {},
   "source": [
    "##### Function as arguments\n",
    "\n",
    "You can pass a function as an argument to another function"
   ]
  },
  {
   "cell_type": "code",
   "execution_count": 11,
   "id": "95374c47-6a0a-4763-b158-ca167217cc11",
   "metadata": {},
   "outputs": [],
   "source": [
    "def has_docstring(func):\n",
    "    \"\"\"Check to see if the function func has \n",
    "        a docstring\n",
    "\n",
    "    Args:\n",
    "        func (callable): A  function.\n",
    "\n",
    "    returns:\n",
    "        bool\n",
    "    \"\"\"\n",
    "    return func.__doc__ is not None"
   ]
  },
  {
   "cell_type": "code",
   "execution_count": 12,
   "id": "1a218fc5-cd2a-4446-b86c-6fd4ae8b22f7",
   "metadata": {},
   "outputs": [],
   "source": [
    "def no():\n",
    "    return 10"
   ]
  },
  {
   "cell_type": "code",
   "execution_count": 13,
   "id": "173cd502-c8b1-45e0-bc41-66355a056b3b",
   "metadata": {},
   "outputs": [],
   "source": [
    "def yes():\n",
    "    \"\"\"Return the value of 10\n",
    "    \"\"\"\n",
    "    return 10"
   ]
  },
  {
   "cell_type": "code",
   "execution_count": 14,
   "id": "0a2bda00-f342-48d1-a230-4ceb413a3b9f",
   "metadata": {},
   "outputs": [
    {
     "data": {
      "text/plain": [
       "False"
      ]
     },
     "execution_count": 14,
     "metadata": {},
     "output_type": "execute_result"
    }
   ],
   "source": [
    "has_docstring(no)"
   ]
  },
  {
   "cell_type": "code",
   "execution_count": 15,
   "id": "db71f5d5-891b-48f6-9d71-c1fde708de45",
   "metadata": {},
   "outputs": [
    {
     "data": {
      "text/plain": [
       "True"
      ]
     },
     "execution_count": 15,
     "metadata": {},
     "output_type": "execute_result"
    }
   ],
   "source": [
    "has_docstring(yes)"
   ]
  },
  {
   "cell_type": "markdown",
   "id": "19d6a2fe-c18f-4ce3-be3d-00d3207e7ea0",
   "metadata": {},
   "source": [
    "#### Nested Functions"
   ]
  },
  {
   "cell_type": "markdown",
   "id": "4d93d684-13b2-4bdb-988d-a8c368398815",
   "metadata": {},
   "source": [
    "You can define a function inside another function"
   ]
  },
  {
   "cell_type": "code",
   "execution_count": 18,
   "id": "bcc5e94f-4c03-48c3-9982-92d36159bb16",
   "metadata": {},
   "outputs": [],
   "source": [
    "def foo():\n",
    "    x = [2, 5, 7]\n",
    "\n",
    "    def bar(y):\n",
    "        print(y)\n",
    "\n",
    "\n",
    "    for value in x:\n",
    "        bar(x)"
   ]
  },
  {
   "cell_type": "code",
   "execution_count": 21,
   "id": "ec142860-f83f-40e0-8bb0-7ce443a466e9",
   "metadata": {},
   "outputs": [
    {
     "name": "stdout",
     "output_type": "stream",
     "text": [
      "[2, 5, 7]\n",
      "[2, 5, 7]\n",
      "[2, 5, 7]\n"
     ]
    }
   ],
   "source": [
    "foo()\n"
   ]
  },
  {
   "cell_type": "code",
   "execution_count": 22,
   "id": "94bb9aaf-ebdb-4c93-8d9c-c9b26efe8439",
   "metadata": {},
   "outputs": [],
   "source": [
    "def foo(x, y):\n",
    "    def in_range(v):\n",
    "        return v > 4 and v < 10\n",
    "\n",
    "    if in_range(x) and in_range(y):\n",
    "        print(x * y)\n",
    "        "
   ]
  },
  {
   "cell_type": "code",
   "execution_count": 23,
   "id": "e80cd870-1f68-4059-b49e-05a092712b9c",
   "metadata": {},
   "outputs": [
    {
     "name": "stdout",
     "output_type": "stream",
     "text": [
      "45\n"
     ]
    }
   ],
   "source": [
    "foo(5, 9)"
   ]
  },
  {
   "cell_type": "code",
   "execution_count": 25,
   "id": "1a2a0232-6d84-420d-b468-b9e7881779bf",
   "metadata": {},
   "outputs": [],
   "source": [
    "foo(7, 3)"
   ]
  },
  {
   "cell_type": "markdown",
   "id": "2686f97b-e9d2-4623-aece-8c24351f5c8b",
   "metadata": {},
   "source": [
    "You can also return a function"
   ]
  },
  {
   "cell_type": "code",
   "execution_count": 26,
   "id": "f68a8f07-9289-4f77-9bdf-26c95d9d410a",
   "metadata": {},
   "outputs": [],
   "source": [
    "def get_function():\n",
    "    def print_me(s):\n",
    "        print(s)\n",
    "    return print_me\n",
    "    "
   ]
  },
  {
   "cell_type": "code",
   "execution_count": 29,
   "id": "b1f1ded1-ce65-49d7-8971-3141aeb55bdb",
   "metadata": {},
   "outputs": [
    {
     "name": "stdout",
     "output_type": "stream",
     "text": [
      "This is a nested function\n"
     ]
    }
   ],
   "source": [
    "new_func = get_function()\n",
    "new_func(\"This is a nested function\")"
   ]
  },
  {
   "cell_type": "markdown",
   "id": "f79a38d0-b8de-4c62-a05d-da5276e17297",
   "metadata": {},
   "source": [
    "## Scope\n",
    "\n",
    "Scope determines which can be accessed at different points in your code"
   ]
  },
  {
   "cell_type": "code",
   "execution_count": 30,
   "id": "754b1905-0f55-4b43-83bc-c6a3c54e8d4a",
   "metadata": {},
   "outputs": [
    {
     "name": "stdout",
     "output_type": "stream",
     "text": [
      "42\n",
      "200\n"
     ]
    }
   ],
   "source": [
    "x = 7\n",
    "y = 200\n",
    "\n",
    "def foo():\n",
    "    x = 42\n",
    "    print(x)\n",
    "    print(y)\n",
    "\n",
    "foo()\n"
   ]
  },
  {
   "cell_type": "markdown",
   "id": "c2f950c4-99e9-4dd0-9f3e-c60bdc63e5a8",
   "metadata": {},
   "source": [
    "When we call the function foo() above, it print x which was defined inside the function (in this case the local scope). However, y is not defined inside the function. Therefore, the function foo() will look outside the function for the value of y (in this case the global scope).\n",
    "\n",
    "Note that setting x = 42 in side the function foo() does not change the value of x that was set outside the function"
   ]
  },
  {
   "cell_type": "code",
   "execution_count": 31,
   "id": "d218a02d-d725-4d81-808a-c52184444a44",
   "metadata": {},
   "outputs": [
    {
     "name": "stdout",
     "output_type": "stream",
     "text": [
      "7\n"
     ]
    }
   ],
   "source": [
    "print(x)"
   ]
  },
  {
   "cell_type": "markdown",
   "id": "e77688c6-0365-4887-8446-31167f4d086a",
   "metadata": {},
   "source": [
    "Python follows the following levels of scope when accessing variables\n",
    "\n",
    "1. Local scope: Inside the function, the local scope is made of arguments and any variables defined inside the function\n",
    "2. Nonlocal scope: In the case of nested functions, Python checks the parent function before checking the global scope \n",
    "3. Global scope: If the interpreter can't find the varibale in local scope, it expands its search to the global scope, which are the things defined outside the function\n",
    "4. Builtin Scope: If the variable can't be found in the global scope, the interpreter then looks at the builtin scope, which are things always available in Python"
   ]
  },
  {
   "cell_type": "markdown",
   "id": "970a3ff2-ff48-4584-9a90-9f4857e4688b",
   "metadata": {},
   "source": [
    "### The global keyword\n",
    "\n",
    "If you want to access and change values defined in global scope in the local scope, we use the keyword 'global'"
   ]
  },
  {
   "cell_type": "code",
   "execution_count": 33,
   "id": "307646b5-9956-4306-87a9-2bf7817715f2",
   "metadata": {},
   "outputs": [
    {
     "name": "stdout",
     "output_type": "stream",
     "text": [
      "42\n"
     ]
    }
   ],
   "source": [
    "x = 23\n",
    "\n",
    "def bar():\n",
    "    global x\n",
    "    x = 42\n",
    "    print(x)\n",
    "\n",
    "bar()"
   ]
  },
  {
   "cell_type": "code",
   "execution_count": 34,
   "id": "737c9023-e6d6-483c-99e8-f3e22e72266d",
   "metadata": {},
   "outputs": [
    {
     "name": "stdout",
     "output_type": "stream",
     "text": [
      "42\n"
     ]
    }
   ],
   "source": [
    "# the value of x also changes to 42\n",
    "print(x)"
   ]
  },
  {
   "cell_type": "markdown",
   "id": "85ca61c4-c981-4f6f-852d-f2ae111316b7",
   "metadata": {},
   "source": [
    "### The nonlocal keyword\n",
    "\n",
    "If we wish to modify a variable defined in the nonlocal scope, use the \"nonlocal\" keyword"
   ]
  },
  {
   "cell_type": "code",
   "execution_count": 35,
   "id": "e7339cdb-327f-429e-8adf-8678d38baccf",
   "metadata": {},
   "outputs": [
    {
     "name": "stdout",
     "output_type": "stream",
     "text": [
      "200\n",
      "10\n"
     ]
    }
   ],
   "source": [
    "def foo():\n",
    "    x = 10\n",
    "\n",
    "    def bar():\n",
    "        x = 200\n",
    "        print(x)\n",
    "\n",
    "    bar()\n",
    "    print(x) # prints out 10\n",
    "\n",
    "foo()"
   ]
  },
  {
   "cell_type": "code",
   "execution_count": 36,
   "id": "9d9224bd-3451-48ae-a7cc-d6c8cf6809b5",
   "metadata": {},
   "outputs": [
    {
     "name": "stdout",
     "output_type": "stream",
     "text": [
      "200\n",
      "200\n"
     ]
    }
   ],
   "source": [
    "def foo():\n",
    "    x = 10\n",
    "\n",
    "    def bar():\n",
    "        nonlocal x\n",
    "        x = 200\n",
    "        print(x)\n",
    "\n",
    "    bar()\n",
    "    print(x) # prints out 200\n",
    "\n",
    "foo()"
   ]
  },
  {
   "cell_type": "code",
   "execution_count": 37,
   "id": "c0001cea-d280-4ba4-9f4f-78c9f254ec35",
   "metadata": {},
   "outputs": [],
   "source": [
    "def one():\n",
    "    x = 10\n",
    "\n",
    "one()"
   ]
  },
  {
   "cell_type": "markdown",
   "id": "c519c2fd-052f-48b2-9bb8-988881445123",
   "metadata": {},
   "source": [
    "# Closure\n",
    "\n",
    "A closure is a function that remembers the values from the environment where it was created. In other words, a closure is a function that remembers and has access to variables from an outer function, even after the outer function has finished executing. It is an inner function. \n",
    "\n",
    "For a function to be a closure, it must satisfy three conditions:\n",
    "1. It must be a nested function (a function inside another function).\n",
    "2. The nested function must refer to variables defined in its parent (enclosing) function.\n",
    "3. The parent function must return the nested function.\n",
    "\n",
    "The concept of closure can summarised as follows:\n",
    "1. A function defined inside another function \n",
    "2. It uses variables from the outer function\n",
    "3. The outer function has already returned \n",
    "4. Yet the inner function still remembers those variables "
   ]
  },
  {
   "cell_type": "code",
   "execution_count": 38,
   "id": "f0f65cf6-a730-46b0-9e3a-57bea0d53838",
   "metadata": {},
   "outputs": [
    {
     "name": "stdout",
     "output_type": "stream",
     "text": [
      "x is 5\n"
     ]
    }
   ],
   "source": [
    "def outer(x):\n",
    "    def inner():\n",
    "        print(f\"x is {x}\")\n",
    "    return inner  # return the inner function\n",
    "\n",
    "# Create a closure\n",
    "closure_func = outer(5)\n",
    "closure_func()  # Output: x is 5\n"
   ]
  },
  {
   "cell_type": "code",
   "execution_count": 39,
   "id": "dbf99763-7a9f-4db0-b71e-1e4ad7c64a8b",
   "metadata": {},
   "outputs": [
    {
     "name": "stdout",
     "output_type": "stream",
     "text": [
      "5\n"
     ]
    }
   ],
   "source": [
    "def foo():\n",
    "    a = 5\n",
    "    def bar():\n",
    "        print(a)\n",
    "    return bar\n",
    "\n",
    "func = foo()\n",
    "func()"
   ]
  },
  {
   "cell_type": "code",
   "execution_count": 41,
   "id": "f6ca535b-8e09-4712-a441-36480ed549db",
   "metadata": {},
   "outputs": [
    {
     "data": {
      "text/plain": [
       "tuple"
      ]
     },
     "execution_count": 41,
     "metadata": {},
     "output_type": "execute_result"
    }
   ],
   "source": [
    "type(func.__closure__)"
   ]
  },
  {
   "cell_type": "code",
   "execution_count": 44,
   "id": "db304198-a783-4735-be57-40b776b5e500",
   "metadata": {},
   "outputs": [
    {
     "name": "stdout",
     "output_type": "stream",
     "text": [
      "True\n",
      "True\n",
      "True\n"
     ]
    }
   ],
   "source": [
    "def return_a_func(arg1, arg2):\n",
    "  def new_func():\n",
    "    print('arg1 was {}'.format(arg1))\n",
    "    print('arg2 was {}'.format(arg2))\n",
    "  return new_func\n",
    "    \n",
    "my_func = return_a_func(2, 17)\n",
    "\n",
    "print(my_func.__closure__ is not None)\n",
    "\n",
    "# Show that there are two variables in the closure\n",
    "print(len(my_func.__closure__) == 2)\n",
    "\n",
    "# Get the values of the variables in the closure\n",
    "closure_values = [\n",
    "  my_func.__closure__[i].cell_contents for i in range(2)\n",
    "]\n",
    "print(closure_values == [2, 17])"
   ]
  },
  {
   "cell_type": "markdown",
   "id": "7a41c62c-a81d-48de-a54f-5e86e70611cc",
   "metadata": {},
   "source": [
    "## Decorators\n",
    "\n",
    "A decorator is a function that takes another function as an argument and adds extra behaviour to it without changing its code. Think of it like wrapping a gift. The actual gift doesn’t change, but the wrapping makes it more special (adds value). We type the @ symbol before the decorator name, like @my_decorator, which is the written before the function it wants to modify. \n",
    "\n",
    "@my_decorator is a shorthand for say, my_function = my_decorator(my_function)."
   ]
  },
  {
   "cell_type": "code",
   "execution_count": 1,
   "id": "a4705433-1a5c-45eb-b73b-e9fcfe1f8013",
   "metadata": {},
   "outputs": [
    {
     "name": "stdout",
     "output_type": "stream",
     "text": [
      "Before the function runs\n",
      "Hello!\n",
      "After the function runs\n"
     ]
    }
   ],
   "source": [
    "# create a decorator\n",
    "def my_decorator(func):\n",
    "    def wrapper():\n",
    "        print(\"Before the function runs\")\n",
    "        func()\n",
    "        print(\"After the function runs\")\n",
    "    return wrapper\n",
    "\n",
    "# Apply the decorator to a function\n",
    "@my_decorator\n",
    "def say_hello():\n",
    "    print(\"Hello!\")\n",
    "\n",
    "say_hello()\n"
   ]
  },
  {
   "cell_type": "code",
   "execution_count": 2,
   "id": "e35ed7dc-91f7-47b0-a848-6c3cc25e4add",
   "metadata": {},
   "outputs": [
    {
     "name": "stdout",
     "output_type": "stream",
     "text": [
      "Calling greet...\n",
      "Hi there!\n",
      "greet finished.\n"
     ]
    }
   ],
   "source": [
    "# create a function\n",
    "def greet():\n",
    "    print(\"Hi there!\")\n",
    "\n",
    "# create a decorator\n",
    "def log_decorator(func):\n",
    "    def wrapper():\n",
    "        print(f\"Calling {func.__name__}...\")\n",
    "        func()\n",
    "        print(f\"{func.__name__} finished.\")\n",
    "    return wrapper\n",
    "\n",
    "# Apply to the function\n",
    "@log_decorator\n",
    "def greet():\n",
    "    print(\"Hi there!\")\n",
    "\n",
    "greet()\n"
   ]
  },
  {
   "cell_type": "code",
   "execution_count": 8,
   "id": "ecba4523-306a-41eb-9cc2-c160468fd0c8",
   "metadata": {},
   "outputs": [
    {
     "data": {
      "text/plain": [
       "20"
      ]
     },
     "execution_count": 8,
     "metadata": {},
     "output_type": "execute_result"
    }
   ],
   "source": [
    "def multiply(a, b):\n",
    "    return a * b\n",
    "\n",
    "def double_args(func):\n",
    "    def wrapper(a, b):\n",
    "        return func(a * 2, b * 2)\n",
    "    return wrapper\n",
    "\n",
    "# manual way of calling decorator\n",
    "new_multiply = double_args(multiply)\n",
    "new_multiply(1,5)\n",
    "\n",
    "# using the @ way\n",
    "@double_args\n",
    "def multiply(a, b):\n",
    "    return a * b\n",
    "multiply(1,5)"
   ]
  },
  {
   "cell_type": "markdown",
   "id": "74b13153-4e68-47db-aef4-442fb9bcd68f",
   "metadata": {},
   "source": [
    "### Decorators with arguments\n",
    "\n",
    "If your function takes arguments, your decorator must accept *args and **kwargs."
   ]
  },
  {
   "cell_type": "code",
   "execution_count": 3,
   "id": "0c9d4674-7c55-4303-a673-e68cfdabf52e",
   "metadata": {},
   "outputs": [
    {
     "name": "stdout",
     "output_type": "stream",
     "text": [
      "Calling add with arguments (3, 4) {}\n",
      "add finished\n",
      "7\n"
     ]
    }
   ],
   "source": [
    "def log_decorator(func):\n",
    "    def wrapper(*args, **kwargs):\n",
    "        print(f\"Calling {func.__name__} with arguments {args} {kwargs}\")\n",
    "        result = func(*args, **kwargs)\n",
    "        print(f\"{func.__name__} finished\")\n",
    "        return result\n",
    "    return wrapper\n",
    "\n",
    "@log_decorator\n",
    "def add(a, b):\n",
    "    return a + b\n",
    "\n",
    "print(add(3, 4))\n"
   ]
  },
  {
   "cell_type": "code",
   "execution_count": 4,
   "id": "93a3333e-40a2-4c77-afce-31b1b9916100",
   "metadata": {},
   "outputs": [
    {
     "name": "stdout",
     "output_type": "stream",
     "text": [
      "Done!\n",
      "slow_function took 1.0012 seconds\n"
     ]
    }
   ],
   "source": [
    "import time\n",
    "\n",
    "def timer(func):\n",
    "    def wrapper(*args, **kwargs):\n",
    "        start = time.time()\n",
    "        result = func(*args, **kwargs)\n",
    "        end = time.time()\n",
    "        print(f\"{func.__name__} took {end - start:.4f} seconds\")\n",
    "        return result\n",
    "    return wrapper\n",
    "\n",
    "@timer\n",
    "def slow_function():\n",
    "    time.sleep(1)\n",
    "    print(\"Done!\")\n",
    "\n",
    "slow_function()\n"
   ]
  },
  {
   "cell_type": "code",
   "execution_count": 3,
   "id": "6af47f02-c663-4f9a-a01c-eaad1e20a16e",
   "metadata": {},
   "outputs": [],
   "source": [
    "def memoize(func):\n",
    "    \"\"\"Store  the results of a decorator function for fast lookup\n",
    "    \"\"\"\n",
    "    cache = {}\n",
    "    def wrapper(*args, **kwargs):\n",
    "        kwargs_key = tuple(sorted(kwargs.items()))\n",
    "        if (args, kwargs_key) not in cache:\n",
    "            cache[(args, kwargs_key)] = func(*args, **kwargs)\n",
    "        return cache[(args, kwargs_key)]\n",
    "    return wrapper"
   ]
  },
  {
   "cell_type": "markdown",
   "id": "dbfc5a09-c624-44a3-971b-553e3840bfa4",
   "metadata": {},
   "source": [
    "## Decorators and Metadata\n",
    "\n",
    "When you use a decorator, you are essentially replacing the original function with the wrapper function inside the decorator. The original function still exists, but the name you use to call it now points to the wrapper. This causes the original function to lose its metadata, i.e. its identifying informaation. The metadata include the name, docstring and annotations. \n",
    "\n",
    "For example, in the code below, we naively used the decorator on the greet() function. While trying to get the name and docstring, we rather obtained the name and docstring of the wrapper function. In order to resolve this, we make use of functools.wraps. functools.wraps is a decorator that helps copy the metadata of the original function to the wrapper. \n",
    "\n",
    "In order to implement the wraps, we take two further steps while defining our decorator:\n",
    "1. Import wraps from the functools module.\n",
    "2. Apply @wraps(func) to your wrapper function."
   ]
  },
  {
   "cell_type": "code",
   "execution_count": 4,
   "id": "c6e847cc-7d40-4d77-8a8a-8b279037befc",
   "metadata": {},
   "outputs": [
    {
     "name": "stdout",
     "output_type": "stream",
     "text": [
      "wrapper\n",
      "Wrapper function\n"
     ]
    }
   ],
   "source": [
    "# without using functools.wraps\n",
    "def my_decorator(func):\n",
    "    def wrapper(*args, **kwargs):\n",
    "        \"\"\"Wrapper function\"\"\"\n",
    "        print(\"Before the function call\")\n",
    "        result = func(*args, **kwargs)\n",
    "        print(\"After the function call\")\n",
    "        return result\n",
    "    return wrapper\n",
    "\n",
    "@my_decorator\n",
    "def greet(name):\n",
    "    \"\"\"Greets a person by name.\"\"\"\n",
    "    print(f\"Hello, {name}!\")\n",
    "\n",
    "print(greet.__name__) \n",
    "print(greet.__doc__)\n"
   ]
  },
  {
   "cell_type": "code",
   "execution_count": 5,
   "id": "88e9b413-d2df-4416-a7c2-f47c817a7e5b",
   "metadata": {},
   "outputs": [
    {
     "name": "stdout",
     "output_type": "stream",
     "text": [
      "greet\n",
      "Greets a person by name.\n"
     ]
    }
   ],
   "source": [
    "# using functools.wraps\n",
    "from functools import wraps\n",
    "\n",
    "def my_decorator(func):\n",
    "    @wraps(func)  #  This copies metadata\n",
    "    def wrapper(*args, **kwargs):\n",
    "        print(\"Before the function call\")\n",
    "        result = func(*args, **kwargs)\n",
    "        print(\"After the function call\")\n",
    "        return result\n",
    "    return wrapper\n",
    "\n",
    "@my_decorator\n",
    "def greet(name):\n",
    "    \"\"\"Greets a person by name.\"\"\"\n",
    "    print(f\"Hello, {name}!\")\n",
    "\n",
    "print(greet.__name__) \n",
    "print(greet.__doc__)\n"
   ]
  },
  {
   "cell_type": "markdown",
   "id": "4cbac22b-a082-430b-adfb-254b48b79112",
   "metadata": {},
   "source": [
    "### Decorators that accepts arguments\n",
    "\n"
   ]
  },
  {
   "cell_type": "code",
   "execution_count": 2,
   "id": "41e75945-be0a-47be-a030-502726720070",
   "metadata": {},
   "outputs": [
    {
     "name": "stdout",
     "output_type": "stream",
     "text": [
      "9\n",
      "9\n",
      "9\n"
     ]
    }
   ],
   "source": [
    "def run_n_times(n):\n",
    "    \"\"\"Define and return a decorator\"\"\"\n",
    "    def decorator(func):\n",
    "        def wrapper(*args, **kwargs):\n",
    "            for _ in range(n):\n",
    "                func(*args, **kwargs)\n",
    "        return wrapper\n",
    "    return decorator\n",
    "\n",
    "@run_n_times(3)\n",
    "def print_sum(a, b):\n",
    "    print(a + b)\n",
    "\n",
    "print_sum(3,6)"
   ]
  },
  {
   "cell_type": "markdown",
   "id": "f7377855-cec3-419d-8ef7-b8c5a9bf5ee1",
   "metadata": {},
   "source": [
    "@run_n_times(3) can also be written as:\n",
    "\n",
    "run_n_times = run_n_times(3)\n",
    "\n",
    "run_n_times, in this case, is a decorator which we can use to define a function"
   ]
  },
  {
   "cell_type": "code",
   "execution_count": 3,
   "id": "39d26728-24d9-44c8-91e9-7e618e5b92b9",
   "metadata": {},
   "outputs": [
    {
     "name": "stdout",
     "output_type": "stream",
     "text": [
      "9\n",
      "9\n",
      "9\n"
     ]
    }
   ],
   "source": [
    "run_n_times = run_n_times(3)\n",
    "\n",
    "@run_n_times\n",
    "def print_sum(a, b):\n",
    "    print(a + b)\n",
    "\n",
    "print_sum(3,6)"
   ]
  },
  {
   "cell_type": "code",
   "execution_count": 4,
   "id": "ed6f21d6-b773-4bf0-8990-d7d522d93279",
   "metadata": {},
   "outputs": [
    {
     "name": "stdout",
     "output_type": "stream",
     "text": [
      "'greet' will be run 3 times.\n",
      "  Run 1: Hello from Onitsha!\n",
      "  Run 2: Hello from Onitsha!\n",
      "  Run 3: Hello from Onitsha!\n"
     ]
    }
   ],
   "source": [
    "from functools import wraps\n",
    "import time\n",
    "\n",
    "# Let's complete your code snippet into a working example\n",
    "def run_n_times(n):\n",
    "    \"\"\"A decorator FACTORY. Takes an argument `n` and returns a decorator.\"\"\"\n",
    "\n",
    "    # Layer 2: The actual decorator. It \"remembers\" n from its parent.\n",
    "    def decorator(func):\n",
    "        \"\"\"This is the decorator that the factory builds.\"\"\"\n",
    "        \n",
    "        # Layer 3: The final wrapper. It has access to both `n` and `func`.\n",
    "        @wraps(func)\n",
    "        def wrapper(*args, **kwargs):\n",
    "            \"\"\"This is the function that ultimately runs.\"\"\"\n",
    "            print(f\"'{func.__name__}' will be run {n} times.\")\n",
    "            for i in range(n):\n",
    "                print(f\"  Run {i + 1}: \", end=\"\")\n",
    "                result = func(*args, **kwargs)\n",
    "            return result # Return the result of the final call\n",
    "        return wrapper\n",
    "    return decorator\n",
    "\n",
    "\n",
    "@run_n_times(3)\n",
    "def greet():\n",
    "    print(\"Hello from Onitsha!\")\n",
    "\n",
    "greet()"
   ]
  },
  {
   "cell_type": "code",
   "execution_count": 6,
   "id": "89140057-c469-4a1a-963e-d7cc518f0ece",
   "metadata": {},
   "outputs": [],
   "source": [
    "import signal\n",
    "\n",
    "def timeout(n_seconds):\n",
    "    def decorator(func):\n",
    "        @wraps\n",
    "        def wrapper(*args, **kwargs):\n",
    "            # set alarm for n seconds\n",
    "            signal.alarm(n_seconds)\n",
    "            try:\n",
    "                # call the deorated function\n",
    "                return func(*args, **kwargs)\n",
    "            finally:\n",
    "                signal.alarm(0)\n",
    "        return wrapper\n",
    "    return decorator\n",
    "        "
   ]
  },
  {
   "cell_type": "code",
   "execution_count": 8,
   "id": "503b6de7-db1b-48c6-b253-f84bbb99a2ea",
   "metadata": {},
   "outputs": [],
   "source": [
    "@timeout(20)\n",
    "def foo():\n",
    "    time.sleep(10)\n",
    "    print(\"foo!\")"
   ]
  },
  {
   "cell_type": "code",
   "execution_count": 12,
   "id": "ae32d6ef-cfa5-4e93-bdee-9257e81947da",
   "metadata": {},
   "outputs": [
    {
     "name": "stdout",
     "output_type": "stream",
     "text": [
      "<class 'str'>\n"
     ]
    }
   ],
   "source": [
    "x = 'clod'\n",
    "print(type(x * 0))"
   ]
  },
  {
   "cell_type": "code",
   "execution_count": null,
   "id": "c74e5f8c-498a-417b-8273-1cfc5cbc9088",
   "metadata": {},
   "outputs": [],
   "source": []
  }
 ],
 "metadata": {
  "kernelspec": {
   "display_name": "Python 3 (ipykernel)",
   "language": "python",
   "name": "python3"
  },
  "language_info": {
   "codemirror_mode": {
    "name": "ipython",
    "version": 3
   },
   "file_extension": ".py",
   "mimetype": "text/x-python",
   "name": "python",
   "nbconvert_exporter": "python",
   "pygments_lexer": "ipython3",
   "version": "3.12.7"
  }
 },
 "nbformat": 4,
 "nbformat_minor": 5
}
