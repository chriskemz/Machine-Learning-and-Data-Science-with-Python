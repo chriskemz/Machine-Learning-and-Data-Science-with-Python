{
 "cells": [
  {
   "cell_type": "markdown",
   "id": "06ccb641-2171-4767-853a-333d8ac5e368",
   "metadata": {},
   "source": [
    "## Decision tree for classification\n",
    "\n",
    "__Classification Tree__ \\\n",
    "A Classification Tree is a supervised learning model that predicts a categorical label (like 'Yes'/'No' or 'Spam'/'Not Spam') by learning a series of simple if/else decision rules from the data. The best way to think about it is as an automated flowchart. The model asks a sequence of questions to the data, and each answer leads it down a different path until it reaches a final decision.\n",
    "\n",
    "Imagine you're playing a game where your friend is thinking of an animal.\n",
    "\n",
    "* You ask: \"Does it live in water?\" (This is your first split)\n",
    "\n",
    "* Answer: Yes. -> You then ask: \"Does it have fins?\"\n",
    "\n",
    "* Answer: No. -> You then ask: \"Is it a mammal?\" \\\n",
    "You continue asking these simple questions to narrow down the possibilities until you can make a final guess. A classification tree learns the most efficient sequence of questions to ask to classify your data.\n",
    "\n",
    "In contrast to linear models, trees are able to capture non-linear relationships between features and labels. In addition, trees do not require the features to be on the same scale, for example through standardization.\n",
    "\n",
    "__How Does a Classification Tree Work?__ \\\n",
    "The \"magic\" of a decision tree is how it learns which questions to ask and in what order. It does this by finding the splits that create the \"purest\" possible subgroups.\n",
    "\n",
    "1. __Start with all data__: The tree starts with all your data in one group at the top (the root node).\n",
    "\n",
    "2. __Find the Best Split__: The algorithm looks at every single feature and finds the one question (the best split) that does the best job of separating the data into distinct classes. For example, it might find that asking \"Is the weather outlook sunny?\" is the best first question because it perfectly separates many of the \"Go to Beach\" vs. \"Stay Home\" outcomes.\n",
    "\n",
    "3. __Measure \"Purity\"__: It determines the \"best\" split using a metric like Gini Impurity. Gini impurity is a measure of how mixed up the classes are in a group. A Gini of 0 means a group is perfectly pure (all one class). The algorithm chooses the split that leads to the biggest decrease in impurity.\n",
    "\n",
    "4. __Repeat__: The process is repeated for each new subgroup. The tree continues to split the data into smaller and smaller, purer and purer groups until it reaches a stopping point (e.g., a group is perfectly pure, or the tree reaches a pre-defined maximum depth).\n",
    "\n",
    "The maximum number of branches separating the top from an exreme end is known as the __maximum depth__. \n",
    "\n",
    "__Decision region__ \\\n",
    "A decision region is a region in the feature space where all instances in one region are assigned only to one class label. These regions are separated by surfaces called __Decision boundaries__. The decision boundary produced by logistic regression is linear while the boundaries produced by the classification tree divide the feature space into rectangular regions."
   ]
  },
  {
   "cell_type": "code",
   "execution_count": 1,
   "id": "8d61e390-e624-4838-9c7c-e2d04109550d",
   "metadata": {},
   "outputs": [
    {
     "name": "stdout",
     "output_type": "stream",
     "text": [
      "  diagnosis  radius_mean  concave points_mean\n",
      "0         M        17.99              0.14710\n",
      "1         M        20.57              0.07017\n",
      "2         M        19.69              0.12790\n",
      "3         M        11.42              0.10520\n",
      "4         M        20.29              0.10430\n"
     ]
    }
   ],
   "source": [
    "import pandas as pd\n",
    "\n",
    "wbc = pd.read_csv(r\"C:\\Users\\Odinaka Ekemezie\\Downloads\\wbc.csv\", usecols=['diagnosis', 'radius_mean', 'concave points_mean'])\n",
    "print(wbc.head())"
   ]
  },
  {
   "cell_type": "code",
   "execution_count": 2,
   "id": "2499f66d-3088-4021-b20f-b9ed7daf381c",
   "metadata": {},
   "outputs": [
    {
     "name": "stdout",
     "output_type": "stream",
     "text": [
      "[0 0 0 1 0]\n",
      "Test set accuracy: 0.89\n"
     ]
    }
   ],
   "source": [
    "import numpy as np\n",
    "from sklearn.tree import DecisionTreeClassifier\n",
    "from sklearn.model_selection import train_test_split\n",
    "from sklearn.metrics import accuracy_score\n",
    "\n",
    "X = wbc[['radius_mean', 'concave points_mean']].values\n",
    "y = np.where(wbc['diagnosis'] == 'M', 1, 0)\n",
    "\n",
    "# split the data\n",
    "X_train, X_test, y_train, y_test = train_test_split(X, y,\n",
    "                                                    test_size=0.2,\n",
    "                                                    stratify=y, random_state=1)\n",
    "\n",
    "# Instantiate a DecisionTreeClassifier 'dt' with a maximum depth of 6\n",
    "dt = DecisionTreeClassifier(max_depth=6, random_state=1)\n",
    "\n",
    "# Fit dt to the training set\n",
    "dt.fit(X_train, y_train)\n",
    "\n",
    "# Predict test set labels\n",
    "y_pred = dt.predict(X_test)\n",
    "print(y_pred[0:5])\n",
    "\n",
    "# Compute test set accuracy  \n",
    "acc = accuracy_score(y_test, y_pred)\n",
    "print(\"Test set accuracy: {:.2f}\".format(acc))                                          "
   ]
  },
  {
   "cell_type": "markdown",
   "id": "ffec1b72-0585-4237-a09c-99dcdfbd6525",
   "metadata": {},
   "source": [
    "## Classification tree learning\n",
    "\n",
    "A classification tree learns by creating a set of decision rules, much like a flowchart, to predict a categorical outcome. It does this by recursively splitting the data into smaller, purer subgroups based on the features that provide the most __Information Gain__.\n",
    "\n",
    "__Building blocks of a Decision-Tree__ \\\n",
    "1. __Decision-Tree__: A decision-tree is a data structure consisting of a hierarchy of individual units called __nodes__.\n",
    "2. __Node__: A node is a point that involves either a question or a prediction.\n",
    "   * __Root node__: This is the node at which the decision tree starts growing. It has no parent node and involves a question that gives rise to two children nodes through two branches.\n",
    "   * __Internal node__: This is a node that have one parent node. It also involves a question that gives rise to two children nodes.\n",
    "   * __Leaf__: This node has no children. A leaf has one parent node and involves no questions. It is where a prediction is made.\n",
    "\n",
    "Recall that when a classification tree is trained on a labeled dataset, the tree learns patterns from the features in such a way to produce the purest leafs. In other words, the tree is trained in such a way that, in each leaf, one class-label is predominant.\n",
    "\n",
    "__Information Gain (IG)__ \\\n",
    "The nodes of a classification tree are grown recursively; in other words, the obtention of an internal node or a leaf depends on the state of its predecessors. To produce the purest leafs possible, at each node, a tree asksa question involving one feature and one split-point. The tree knows the feature and split-point to pick by maximizing the Information Gain.\n",
    "\n",
    "To understand Information Gain, you first need to understand impurity. Impurity is a number that tells you how mixed a group is. Criteria used to measure the impurity of a node include:\n",
    "1. Gini Index\n",
    "2. Entropy\n",
    "\n",
    "* A Gini Impurity of 0 means a group is perfectly pure (all data points belong to one class).\n",
    "\n",
    "* A high Gini Impurity means a group is very mixed.\n",
    "\n",
    "Information Gain is the measure of the reduction in impurity achieved by a particular split. It's calculated as: \\\n",
    "IG = Impurity(parent node) - Weighted Average Impurity(child nodes)\n",
    "\n",
    "The tree learns by always choosing the split that maximizes this Information Gain. It's always looking for the question that will give it the most clarity and lead to the purest possible subgroups.\n",
    "\n",
    "When an unconstrained tree is trained, the nodes are grown recursively. In other words, a node exists based on the state of its predecessors. At a non-leaf node, the data is split based on feature and split-point in such a way to maximize Information Gain. If the information gain obtained by splitting a node is null, the node is declared a leaf. If the maximum depth of a tree is constrained, to 2 for example, all nodes having a depth of 2 will be declared leafs even if the information gain obtained by splitting such nodes is not null "
   ]
  },
  {
   "cell_type": "code",
   "execution_count": 3,
   "id": "a505d73e-8c13-47e3-8945-ea86eb65f2f6",
   "metadata": {},
   "outputs": [
    {
     "name": "stdout",
     "output_type": "stream",
     "text": [
      "Accuracy achieved by using entropy: 0.912\n"
     ]
    }
   ],
   "source": [
    "## Using entropy as criterion\n",
    "wbc_all = pd.read_csv(r\"C:\\Users\\Odinaka Ekemezie\\Downloads\\wbc.csv\")\n",
    "\n",
    "X = wbc_all.drop('diagnosis', axis=1).values\n",
    "y = np.where(wbc['diagnosis'] == 'M', 1, 0)\n",
    "\n",
    "# split the data\n",
    "X_train, X_test, y_train, y_test = train_test_split(X, y,\n",
    "                                                    test_size=0.2,\n",
    "                                                    stratify=y, random_state=1)\n",
    "\n",
    "# Instantiate dt_entropy, set 'entropy' as the information criterion\n",
    "dt_entropy = DecisionTreeClassifier(criterion='entropy', max_depth=8, random_state=1)\n",
    "\n",
    "# Fit dt_entropy to the training set\n",
    "dt_entropy.fit(X_train, y_train)\n",
    "\n",
    "# Use dt_entropy to predict test set labels\n",
    "y_pred= dt_entropy.predict(X_test)\n",
    "\n",
    "# Evaluate accuracy_entropy\n",
    "accuracy_entropy = accuracy_score(y_test, y_pred)\n",
    "\n",
    "# Print accuracy_entropy\n",
    "print(f'Accuracy achieved by using entropy: {accuracy_entropy:.3f}')"
   ]
  },
  {
   "cell_type": "code",
   "execution_count": 4,
   "id": "1237176a-deac-4f98-bafc-d8fa92176c9e",
   "metadata": {},
   "outputs": [
    {
     "name": "stdout",
     "output_type": "stream",
     "text": [
      "Accuracy achieved by using entropy: 0.939\n"
     ]
    }
   ],
   "source": [
    "# Instantiate dt_entropy, set 'entropy' as the information criterion\n",
    "dt_entropy = DecisionTreeClassifier(criterion='gini', max_depth=8, random_state=1)\n",
    "\n",
    "# Fit dt_entropy to the training set\n",
    "dt_entropy.fit(X_train, y_train)\n",
    "\n",
    "# Use dt_entropy to predict test set labels\n",
    "y_pred= dt_entropy.predict(X_test)\n",
    "\n",
    "# Evaluate accuracy_entropy\n",
    "accuracy_gini = accuracy_score(y_test, y_pred)\n",
    "\n",
    "# Print accuracy_entropy\n",
    "print(f'Accuracy achieved by using entropy: {accuracy_gini:.3f}')"
   ]
  },
  {
   "cell_type": "markdown",
   "id": "69313050-d336-4cea-9ee6-b759d8333fd4",
   "metadata": {},
   "source": [
    "## Decision-Tree for Regression\n",
    "\n",
    "A Regression Tree is a type of decision tree used to predict a continuous numerical value (like a price, an age, a temperature, etc.). Just like a classification tree, it creates a flowchart of if/else rules, but instead of ending in a class label ('Yes'/'No'), it ends in a numerical prediction. In classification tree, the goal is to create subgroups that are as \"pure\" as possible (containing mostly one class), in which case the prediction will be the majority in a leaf node. However, in regression tree, the goal is to create subgroups where the target values are as similar as possible to each other. The prediction is the average of the target values in a leaf node.\n",
    "\n",
    "Recall that linear models such as linear regression would not be able to capture a non-linear trend.\n",
    "\n",
    "When a regression tree is trained on a dataset, the impurity of a node is measured using the mean squares error of the target values in that node. This means that the regression tree try to find the splits that produce leafs where in each leaf, the target values are on average, the closest possible to the mean-value of the labels in that particular leaf. As a new instance traverses and reaches a certain leaf, its target variable y, is computed as the as the average of the target variables contained in that leaf."
   ]
  },
  {
   "cell_type": "code",
   "execution_count": 5,
   "id": "1b9ffd18-d446-49ff-8d04-7de3d5a5da94",
   "metadata": {},
   "outputs": [
    {
     "name": "stdout",
     "output_type": "stream",
     "text": [
      "    mpg  displ   hp  weight  accel  origin  size\n",
      "0  18.0  250.0   88    3139   14.5      US  15.0\n",
      "1   9.0  304.0  193    4732   18.5      US  20.0\n",
      "2  36.1   91.0   60    1800   16.4    Asia  10.0\n",
      "3  18.5  250.0   98    3525   19.0      US  15.0\n",
      "4  34.3   97.0   78    2188   15.8  Europe  10.0\n"
     ]
    }
   ],
   "source": [
    "import pandas as pd\n",
    "auto = pd.read_csv(r\"C:\\Users\\Odinaka Ekemezie\\Downloads\\auto.csv\")\n",
    "print(auto.head())"
   ]
  },
  {
   "cell_type": "code",
   "execution_count": 6,
   "id": "610114ae-a2ba-4cb6-9650-2035f919ffcf",
   "metadata": {},
   "outputs": [
    {
     "name": "stdout",
     "output_type": "stream",
     "text": [
      "Test set RMSE of dt: 4.37\n"
     ]
    }
   ],
   "source": [
    "from sklearn.tree import DecisionTreeRegressor\n",
    "from sklearn.metrics import mean_squared_error as MSE\n",
    "\n",
    "# perform one hot encoding on origin\n",
    "auto_encoded = pd.get_dummies(auto, columns=['origin'], drop_first=True)\n",
    "\n",
    "X = auto_encoded.drop('mpg', axis=1).values\n",
    "y = auto_encoded['mpg'].values\n",
    "\n",
    "X_train, X_test, y_train, y_test = train_test_split(X, y,\n",
    "                                                    test_size=0.2,\n",
    "                                                    random_state=3)\n",
    "\n",
    "# Instantiate dt\n",
    "dt = DecisionTreeRegressor(max_depth=8,\n",
    "             min_samples_leaf=0.13,\n",
    "            random_state=3)\n",
    "\n",
    "# Fit dt to the training set\n",
    "dt.fit(X_train, y_train)\n",
    "\n",
    "# Compute y_pred\n",
    "y_pred = dt.predict(X_test)\n",
    "\n",
    "# Compute mse_dt\n",
    "mse_dt = MSE(y_test, y_pred)\n",
    "\n",
    "# Compute rmse_dt\n",
    "rmse_dt = mse_dt ** (1/2)\n",
    "\n",
    "# Print rmse_dt\n",
    "print(\"Test set RMSE of dt: {:.2f}\".format(rmse_dt))"
   ]
  },
  {
   "cell_type": "markdown",
   "id": "bb402fbd-7169-4257-9c49-1ff488ff7740",
   "metadata": {},
   "source": [
    "## Generalization Error\n",
    "\n",
    "In supervised learning, you make the assumption that there is a mapping $f$ between features and labels. You can express this as $ y = f(x) $. $f$ is an unknown function you want to determine. In reality, data generalization is always accompanied with randomness or noise. Your goal is to find a model, $\\hat{f}$ that best approximates $f$. $\\hat{f}$ can be Logistic regression, Decision Tree, Neural Network, etc. When training  $\\hat{f}$, you want to make sure that noise is discarded as much as possible. At the end,  $\\hat{f}$ should achieve a low predictive error on unseen datasets.\n",
    "\n",
    "You may encounter two difficulties when approximating $f$:\n",
    "1. __Overfitting__: This when  $\\hat{f}$ fits the noise in the training set\n",
    "2. __Underfitting__: This is when  $\\hat{f}$ is not flexible enough to approximate f.\n",
    "\n",
    "When a model overfits the training the set, its predictive power on unseen datasets is pretty low. The model will memorize the noise present in the training set. Such model achieves a low training set error and a high test set error. When a model underfits the data, the training set error is roughly equal to the test set error. However, both errors are relatively high. As a result, the trained model is not flexible enough to capture the complex dependency between features and labels.\n",
    "\n",
    "The generalization error of a model is the measure of how accurately the model is able to predict outcomes for new, previously unseen data. It tells you how the model generalizes on unseen data\n",
    "\n",
    "__The Three Components of Generalization Error__ \\\n",
    "Generalization error can be decomposed into three components:\n",
    "1. __Bias error__: This tells you, on average, how $\\hat{f}$ and $f$ are different. A high-bias model fails to capture the true underlying patterns in the data. High bias models lead to underfitting.\n",
    "2. __Variance error__: This tells you how much $\\hat{f}$ is inconsistent over different training sets. A high-variance model learns the \"noise\" in the training data, not just the signal. A high variance model leads to overfitting\n",
    "3. __Irreducible error__: This is the error contribution of noise. It is the baseline error that you can never get rid of, no matter how good your model is. Thus, it is a constant.\n",
    "\n",
    "__Model Complexity__ \\\n",
    "The complexity of a model sets its flexibility to approximate the true function $f$. For example, increasing the maximum depth increases the complexity of a Decision-Tree.\n",
    "\n",
    "__Bias-Variance Tradeoff__\\\n",
    "When model complexity increases, the variance increases while the bias decreases and vice versa. Your goal is to find the model complexity that achieves the lowest generalization error. Thus, we need to find a balance between bias and variance because as one increases, the other decreases. This is knowns as the __bias-variance tradeoff__."
   ]
  },
  {
   "cell_type": "markdown",
   "id": "b86a6619-731b-4f91-8907-d5bbcf05b404",
   "metadata": {},
   "source": [
    "## Diagnosing Bias and Variance Problems\n",
    "\n",
    "__Estimating the Generalization Error__ \\\n",
    "Given that you have trained a supervised learning model, $\\hat{f}$, how do you estimate $\\hat{f}$ generalization error? This cannot be done directly because:\n",
    "* $f$ is unknown\n",
    "* you usually have only one dataset\n",
    "* noise is unpredictable\n",
    "\n",
    "A solution to this is to:\n",
    "* split the data into a training and test set\n",
    "* fit the model $\\hat{f}$ to the training set\n",
    "* evaluate the error of $\\hat{f}$ on the unseen test set\n",
    "* approximate the generalization error of $\\hat{f}$ by the $\\hat{f}$ error on the test set\n",
    "\n",
    "__Better Model Evaluation with Cross-Validation__ \\\n",
    "Usually, the test set should not be touched until we are confident about $\\hat{f}$'s performance. It should only be used to evalute $\\hat{f}$'s final performance or error. Evaluating $\\hat{f}$ performance on the training set may produce an optimistic estimation of the error becahuse $\\hat{f}$ has already been exposed to the training set when it was fit. To obtain a reliable estimate of $\\hat{f}$'s performance, use a technique called __cross-validation__ (CV). CV can be performed using K-Fold CV or Hold-Out CV. Let's focus on K-Fold. Here, the training set is split randomly into a number of folds, say 10. The error of $\\hat{f}$ is evaluated ten times on the 10 folds. Each time, one fold is picked for evaluation after training $\\hat{f}$ on the other 9 folds. At the end, you will obtain a list of 10 errors. Finally, the CV-error is computed as the mean of the 10 obtained errors.\n",
    "\n",
    "__Diagnose Variance Problems__ \\\n",
    "If the CV-error of $\\hat{f}$ is greater than $\\hat{f}$'s training set error, $\\hat{f}$ is said to suffer from __high variance__. In such case, $\\hat{f}$ has overfit the training set. To remedy this, try decreasing the model complexity. For example, in a decision tree,you can reduce the maximum tree depth or increase the maximum samples per leaf. In addition, you may also gather more data to train $\\hat{f}$.\n",
    "\n",
    "__Diagnose Bias Problems__ \\\n",
    "$\\hat{f}$ is said to suffer from __high bias__ if the CV error is roughly equal to the training error but much greater than the desired error. In such case, $\\hat{f}$ underfits the training set. To remedy this, try increasing the model complexity or gather more relevant features for the problem."
   ]
  },
  {
   "cell_type": "code",
   "execution_count": 7,
   "id": "33e66333-6f92-4a5c-b622-472b49444bdd",
   "metadata": {},
   "outputs": [
    {
     "name": "stdout",
     "output_type": "stream",
     "text": [
      "CV RMSE: 5.14\n"
     ]
    }
   ],
   "source": [
    "from sklearn.model_selection import cross_val_score\n",
    "\n",
    "# Set SEED for reproducibility\n",
    "SEED = 1\n",
    "\n",
    "# Split the data into 70% train and 30% test\n",
    "X_train, X_test, y_train, y_test = train_test_split(X, y, test_size=0.3, random_state=SEED)\n",
    "\n",
    "# Instantiate a DecisionTreeRegressor dt\n",
    "dt = DecisionTreeRegressor(max_depth=4, min_samples_leaf=0.26, random_state=SEED)\n",
    "\n",
    "# Compute the array containing the 10-folds CV MSEs\n",
    "MSE_CV_scores = - cross_val_score(dt, X_train, y_train, cv=10, \n",
    "                       scoring='neg_mean_squared_error',\n",
    "                       n_jobs=-1)\n",
    "\n",
    "# Compute the 10-folds CV RMSE\n",
    "RMSE_CV = (MSE_CV_scores.mean())**(1/2)\n",
    "\n",
    "# Print RMSE_CV\n",
    "print('CV RMSE: {:.2f}'.format(RMSE_CV))"
   ]
  },
  {
   "cell_type": "code",
   "execution_count": 8,
   "id": "e3250ca3-8d64-4430-886f-93467b58b7fa",
   "metadata": {},
   "outputs": [
    {
     "name": "stdout",
     "output_type": "stream",
     "text": [
      "Train RMSE: 5.15\n"
     ]
    }
   ],
   "source": [
    "# Evaluating the training error\n",
    "\n",
    "# Import mean_squared_error from sklearn.metrics as MSE\n",
    "from sklearn.metrics import mean_squared_error as MSE\n",
    "\n",
    "# Fit dt to the training set\n",
    "dt.fit(X_train, y_train)\n",
    "\n",
    "# Predict the labels of the training set\n",
    "y_pred_train = dt.predict(X_train)\n",
    "\n",
    "# Evaluate the training set RMSE of dt\n",
    "RMSE_train = (MSE(y_train, y_pred_train))**(1/2)\n",
    "\n",
    "# Print RMSE_train\n",
    "print('Train RMSE: {:.2f}'.format(RMSE_train))"
   ]
  },
  {
   "cell_type": "markdown",
   "id": "ec933f71-fff5-4916-832c-d84e4b078d8d",
   "metadata": {},
   "source": [
    "Here,we notice how the training error is roughly equal to the 10-folds CV error you obtained in the previous exercise. Thus, we can conclude that the model suffers from high bias"
   ]
  },
  {
   "cell_type": "markdown",
   "id": "ed1df252-6807-4720-bf56-b3e6860b43cd",
   "metadata": {},
   "source": [
    "## Ensemble Learning\n",
    "\n",
    "Ensemble learning is the technique of combining the predictions from multiple machine learning models to make a more accurate and robust prediction than any single model could on its own. It can be summarized as follows: \n",
    "1. Different models are trained on the same dataset\n",
    "2. Each model makes its own prediction\n",
    "3. A meta-model then aggregates the predictions of individual models and outputs a final prediction\n",
    "4. The final prediction is more robust and less prone to errors.\n",
    "5. The best results are obtained when the models are skillful in different ways, meaning that if some models make predictions that are way off, the other models should compensate these errors.\n",
    "\n",
    "There are few techniques in ensemble learning including:\n",
    "* voting\n",
    "* bagging\n",
    "* boosting\n",
    "\n",
    "We will focus on voting here.\n",
    "\n",
    "__Voting Classifier__ \\\n",
    "The ensemble here consists of N classifiers making predictions $P_1$, $P_2$, ..., $P_N$, with $P_i$ = 0 or 1. This is for a binary classification task. The meta-model outputs the final prediction by hard voting"
   ]
  },
  {
   "cell_type": "code",
   "execution_count": 9,
   "id": "399ee7cf-4408-441a-bdff-b90a09ee78b0",
   "metadata": {},
   "outputs": [],
   "source": [
    "indian_liver_patient = pd.read_csv(r\"C:\\Users\\Odinaka Ekemezie\\Downloads\\indian_liver_patient_preprocessed.csv\")\n",
    "\n",
    "X = indian_liver_patient.drop(\"Liver_disease\", axis=1)\n",
    "y = indian_liver_patient['Liver_disease']\n",
    "\n",
    "X_train, X_test, y_train, y_test = train_test_split(X, y,\n",
    "                                                    test_size=0.3,\n",
    "                                                    random_state=1)\n"
   ]
  },
  {
   "cell_type": "code",
   "execution_count": 10,
   "id": "e3239b53-1a7b-4777-a2e2-9c5ad05be891",
   "metadata": {},
   "outputs": [],
   "source": [
    "from sklearn.linear_model import LogisticRegression\n",
    "from sklearn.tree import DecisionTreeClassifier\n",
    "from sklearn.neighbors import KNeighborsClassifier\n",
    "from sklearn.ensemble import VotingClassifier\n",
    "from sklearn.metrics import accuracy_score\n",
    "\n",
    "# Set seed for reproducibility\n",
    "SEED=1\n",
    "\n",
    "# Instantiate lr\n",
    "lr = LogisticRegression(max_iter=1000, random_state=SEED)\n",
    "\n",
    "# Instantiate knn\n",
    "knn = KNeighborsClassifier(n_neighbors=27)\n",
    "\n",
    "# Instantiate dt\n",
    "dt = DecisionTreeClassifier(min_samples_leaf=0.13, random_state=SEED)\n",
    "\n",
    "# Define the list classifiers\n",
    "classifiers = [('Logistic Regression', lr), ('K Nearest Neighbours', knn), ('Classification Tree', dt)]"
   ]
  },
  {
   "cell_type": "code",
   "execution_count": 11,
   "id": "15f4ddd2-fcbb-41d3-81b7-1071e0e2fe99",
   "metadata": {},
   "outputs": [
    {
     "name": "stdout",
     "output_type": "stream",
     "text": [
      "Logistic Regression : 0.747\n",
      "K Nearest Neighbours : 0.724\n",
      "Classification Tree : 0.730\n"
     ]
    }
   ],
   "source": [
    "## Evaluate different individual classifiers\n",
    "# Iterate over the pre-defined list of classifiers\n",
    "for clf_name, clf in classifiers:    \n",
    " \n",
    "    # Fit clf to the training set\n",
    "    clf.fit(X_train, y_train)    \n",
    "   \n",
    "    # Predict y_pred\n",
    "    y_pred = clf.predict(X_test)\n",
    "    \n",
    "    # Calculate accuracy\n",
    "    accuracy = accuracy_score(y_test, y_pred) \n",
    "   \n",
    "    # Evaluate clf's accuracy on the test set\n",
    "    print('{:s} : {:.3f}'.format(clf_name, accuracy))"
   ]
  },
  {
   "cell_type": "markdown",
   "id": "0f35fbd4-f863-4462-a5a7-9ece0f4e3092",
   "metadata": {},
   "source": [
    "Logistic Regression achieved the highest accuracy of 74.7%"
   ]
  },
  {
   "cell_type": "code",
   "execution_count": 12,
   "id": "1b75cae2-62f3-443d-84ae-5cc02d32c639",
   "metadata": {},
   "outputs": [
    {
     "name": "stdout",
     "output_type": "stream",
     "text": [
      "Voting Classifier: 0.759\n"
     ]
    }
   ],
   "source": [
    "## evaluating performance using VotingClassifier\n",
    "# Instantiate a VotingClassifier vc\n",
    "vc = VotingClassifier(estimators=classifiers)     \n",
    "\n",
    "# Fit vc to the training set\n",
    "vc.fit(X_train, y_train)   \n",
    "\n",
    "# Evaluate the test set predictions\n",
    "y_pred = vc.predict(X_test)\n",
    "\n",
    "# Calculate accuracy score\n",
    "accuracy = accuracy_score(y_test, y_pred)\n",
    "print('Voting Classifier: {:.3f}'.format(accuracy))"
   ]
  },
  {
   "cell_type": "markdown",
   "id": "78f8bcc3-7c24-48d6-a42e-63a36856f94f",
   "metadata": {},
   "source": [
    "## Bagging\n",
    "\n",
    "Previously, we saw that Voting Classifier is an ensemble of models that are fit to the same training set using different algorithms. We also saw that the final predictions were obtained by majority voting. In Bagging, the ensemble is formed by models that use the same training algorithm. However, these models are not trained on the entire training set. Instead, each model is trained on a different subset of the data. This aims to improve the stability and accuracy of a machine learning model by reducing variance and preventing overfitting.\n",
    "\n",
    "Bagging stands for Boostrap Aggregation. Its name refers to the fact that it uses a technique known as __bootstrap__. Consider the case where you have 3 balls labeled A, B, and C. A bootstrap sample is a sample drawn with replacement. In the training phase, bagging consists of N different boostrap samples from the training set. Each of these bootstrap samples are then used to train N models that use the same algorithm. When a new instance is fed to the different models forming the bagging ensemble, each model output its prediction. The meta-model collects these predictions and outputs a final prediction depending on the nature of the problem. In classification, the final prediction is obtained by majority voting. The corresponding classifier in scikit-learn is _BaggingClassifier_. In regression, the final prediction is the average of the predictions made by the individual models forming the ensemble. The corresponding regressor in scikit-learn is _BaggingRegressor_"
   ]
  },
  {
   "cell_type": "code",
   "execution_count": 13,
   "id": "988cd60d-7bde-4615-a763-e2581d85521d",
   "metadata": {},
   "outputs": [],
   "source": [
    "X_train, X_test, y_train, y_test = train_test_split(X, y,\n",
    "                                                    test_size=0.2,\n",
    "                                                    random_state=1)"
   ]
  },
  {
   "cell_type": "code",
   "execution_count": 14,
   "id": "285c1f00-6908-4081-897b-7e8144d95539",
   "metadata": {},
   "outputs": [
    {
     "name": "stdout",
     "output_type": "stream",
     "text": [
      "Test set accuracy of bc: 0.72\n"
     ]
    }
   ],
   "source": [
    "# Import BaggingClassifier\n",
    "from sklearn.ensemble import BaggingClassifier\n",
    "\n",
    "# Instantiate dt\n",
    "dt = DecisionTreeClassifier(random_state=1)\n",
    "\n",
    "# Instantiate bc\n",
    "bc = BaggingClassifier(estimator=dt, n_estimators=50, random_state=1)\n",
    "\n",
    "# Fit bc to the training set\n",
    "bc.fit(X_train, y_train)\n",
    "\n",
    "# Predict test set labels\n",
    "y_pred = bc.predict(X_test)\n",
    "\n",
    "# Evaluate acc_test\n",
    "acc_test = accuracy_score(y_test, y_pred)\n",
    "print('Test set accuracy of bc: {:.2f}'.format(acc_test)) "
   ]
  },
  {
   "cell_type": "markdown",
   "id": "464ecdae-3bf6-4da7-86a2-5720e3ef31b6",
   "metadata": {},
   "source": [
    "## Out of Bag Evaluation\n",
    "\n",
    "Recall that in bagging, some instances may be sampled several times for one model. On the other hand, other instances may not be sampled at all. On average, for each model, 63% of the training instances are sampled. The remaining 37% that are not sampled constitute what is known as __Out-of-bag__ (OOB) instances. Since OOB instances are not seen by the model during training, these can be used to estimate the performance of the ensemble without the need for cross-validation. This technique is known as __OOB Evaluation__. \n",
    "\n",
    "__Case Study__ \\\n",
    "In the following exercises, you'll compare the OOB accuracy to the test set accuracy of a bagging classifier trained on the Indian Liver Patient dataset. In sklearn, you can evaluate the OOB accuracy of an ensemble classifier by setting the parameter oob_score to True during instantiation. After training the classifier, the OOB accuracy can be obtained by accessing the .oob_score_ attribute from the corresponding instance."
   ]
  },
  {
   "cell_type": "code",
   "execution_count": 15,
   "id": "16e87b30-5976-4e56-8f07-3ba27be827fa",
   "metadata": {},
   "outputs": [
    {
     "name": "stdout",
     "output_type": "stream",
     "text": [
      "Test set accuracy: 0.690, OOB accuracy: 0.676\n"
     ]
    }
   ],
   "source": [
    "# Instantiate dt\n",
    "dt = DecisionTreeClassifier(min_samples_leaf=8, random_state=1)\n",
    "\n",
    "# Instantiate bc\n",
    "bc = BaggingClassifier(estimator=dt, \n",
    "            n_estimators=50,\n",
    "            oob_score=True,\n",
    "            random_state=1)\n",
    "\n",
    "# Fit bc to the training set \n",
    "bc.fit(X_train, y_train)\n",
    "\n",
    "# Predict test set labels\n",
    "y_pred = bc.predict(X_test)\n",
    "\n",
    "# Evaluate test set accuracy\n",
    "acc_test = accuracy_score(y_test, y_pred)\n",
    "\n",
    "# Evaluate OOB accuracy\n",
    "acc_oob = bc.oob_score_\n",
    "\n",
    "# Print acc_test and acc_oob\n",
    "print('Test set accuracy: {:.3f}, OOB accuracy: {:.3f}'.format(acc_test, acc_oob))"
   ]
  },
  {
   "cell_type": "markdown",
   "id": "e6ba59fd-cea9-4549-bb78-91155223e07a",
   "metadata": {},
   "source": [
    "## Random Forests\n",
    "\n",
    "In bagging, the base estimator could be any model including the decision-tree, logistic regression, neural network. Each estimator is trained on a distinct bootstrap sample drawn from the training set, using all available features. Random forest is an ensemble method that uses a desicion tree as a base estimator. In Random Forests, each estimator is trained on a different bootstrap sample having the same size as the training set. Random forests introduces further randomization than bagging when training each of the base estimators. When each tree is trained, only d features can be sampled at each node without replacement, where d is a number smaller than the total number of features. The node is then split using the sampled feature that maximizes information gain. In scikit-learn, d defaults to the square root of the number of features. For example, if there are 100 features, only 10 features are sampled at each node. Once trained, predictons can be made on new instances. When a new instance is fed to the different base estimators, each of them outputs a prediction. The predictions are then collected by the random forests meta-model and a final prediction is made depending on the nature of the problem. For classification, the final prediction is made by majority voting. The corresponding scikit-learn class is _RandomForestClassifier_. For regression, the final prediction is the average of all the labels predicted by the base estimators. The corresponding scikit-learn class is _RandomForestRegressor_. In general, random forests achieve a lower variance than individual trees.\n",
    "\n",
    "__Feature IMportance__ \\\n",
    "When a tree-based  method is trained, the predictive power of a feature or its importance can be assessed. In scikit-learn, feature importance is assessed by measuring the tree nodes use a particular feature to reduce impurity. Note that the importance of a feature is expressed as a percentage, indicating the weight of that feature in training and prediction. The feature importances can be accessed by extracting the _feature_importance__ attribute from the model"
   ]
  },
  {
   "cell_type": "code",
   "execution_count": 16,
   "id": "2adcd72a-c662-4d78-aaec-0bb3790eb1aa",
   "metadata": {},
   "outputs": [],
   "source": [
    "bikes = pd.read_csv(r\"C:\\Users\\Odinaka Ekemezie\\Downloads\\bikes.csv\")\n",
    "\n",
    "X = bikes.drop('cnt', axis=1)\n",
    "y = bikes['cnt']\n",
    "\n",
    "X_train, X_test, y_train, y_test = train_test_split(X, y,\n",
    "                                                    test_size=0.2,\n",
    "                                                    random_state=2)"
   ]
  },
  {
   "cell_type": "code",
   "execution_count": 17,
   "id": "53dd30b8-5afb-4449-ad0f-00773b791bce",
   "metadata": {},
   "outputs": [
    {
     "name": "stdout",
     "output_type": "stream",
     "text": [
      "Test set RMSE of rf: 54.49\n"
     ]
    }
   ],
   "source": [
    "# Import RandomForestRegressor\n",
    "from sklearn.ensemble import RandomForestRegressor\n",
    "from sklearn.metrics import mean_squared_error as MSE\n",
    "\n",
    "# Instantiate rf\n",
    "rf = RandomForestRegressor(n_estimators=25,\n",
    "            random_state=2)\n",
    "            \n",
    "# Fit rf to the training set    \n",
    "rf.fit(X_train, y_train) \n",
    "\n",
    "# Predict the test set labels\n",
    "y_pred = rf.predict(X_test)\n",
    "\n",
    "# Evaluate the test set RMSE\n",
    "rmse_test = (MSE(y_test, y_pred)) ** (1/2)\n",
    "\n",
    "# Print rmse_test\n",
    "print('Test set RMSE of rf: {:.2f}'.format(rmse_test))"
   ]
  },
  {
   "cell_type": "code",
   "execution_count": 18,
   "id": "c905e374-88c7-469c-8a69-2e22c78c904f",
   "metadata": {},
   "outputs": [
    {
     "name": "stdout",
     "output_type": "stream",
     "text": [
      "Test set RMSE of rf: 112.99\n"
     ]
    }
   ],
   "source": [
    "## training a single decision tree\n",
    "\n",
    "single_tree = DecisionTreeClassifier(random_state=2)\n",
    "single_tree.fit(X_train, y_train)\n",
    "pred_tree = single_tree.predict(X_test)\n",
    "rmse_tree = (MSE(y_test, pred_tree)) ** (1/2)\n",
    "\n",
    "# Print rmse_tree\n",
    "print('Test set RMSE of rf: {:.2f}'.format(rmse_tree))"
   ]
  },
  {
   "cell_type": "markdown",
   "id": "40f7f6ec-9c1c-4994-9d39-59b2d391c723",
   "metadata": {},
   "source": [
    "The test set RMSE achieved by rf is significantly smaller than that achieved by a single Decision-Tree"
   ]
  },
  {
   "cell_type": "code",
   "execution_count": 19,
   "id": "3bb8bd92-d307-4400-9610-019887ac9d73",
   "metadata": {},
   "outputs": [
    {
     "data": {
      "image/png": "[encoded data removed]",
      "text/plain": [
       "<Figure size 640x480 with 1 Axes>"
      ]
     },
     "metadata": {},
     "output_type": "display_data"
    }
   ],
   "source": [
    "## Visualizing features importances\n",
    "\n",
    "import matplotlib.pyplot as plt\n",
    "\n",
    "# Create a pd.Series of features importances\n",
    "importances = pd.Series(data=rf.feature_importances_,\n",
    "                        index= X_train.columns)\n",
    "\n",
    "# Sort importances\n",
    "importances_sorted = importances.sort_values()\n",
    "\n",
    "# Draw a horizontal barplot of importances_sorted\n",
    "importances_sorted.plot(kind='barh', color='lightgreen')\n",
    "plt.title('Features Importances')\n",
    "plt.show()"
   ]
  },
  {
   "cell_type": "markdown",
   "id": "5d6435d2-8eba-417b-825b-f1866e92af30",
   "metadata": {},
   "source": [
    "## Boosting\n",
    "\n",
    "Boosting refers to an ensemble in which many predictors (models) are trained, and each predictor learns from the errors of its predecessor. In boosting, several weak learners are combined to form a strong learner. A weak learner is a model doing slightly better than random guessing. For example, a decision tree with a maximum-depth of one, known as a __decision stump__, is a weak learner. In boosting, an ensemble of predictors are trained sequentially, and each predictor tries to correct the errors made by its predecessors.\n",
    "\n",
    "The two most popular boosting methods are:\n",
    "1. Adaboost\n",
    "2. Gradient boosting\n",
    "\n",
    "#### Adaboost\n",
    "\n",
    "Adaboost stands for __Adaptive Boosting__. In Adaboost, each predictor pays attention to the instances wrongly predicted by its predecessor by constantly changing the weights of the training instances. Furthermore, each predictor is assigned a coefficient , $\\alpha$, that weighs its contribution in the ensemble's final prediction. $\\alpha$ depends on the predictor's training error. Lets asssume there are N predictors in total. First, predictor1 is trained on the initial dataset (X,y), and the training error for predictor1 is determined. This error can then be used to determine $\\alpha_1$ which is predictor1's coefficient. $\\alpha_1$ is then used to determine the weights W(2) of the training instances for predictor2. As a result, the incorrectly predicted instances acquire higher weights. When the weighted instances are used to train predictor2, this predictor is forced to pay more attention to the incorrectly predicted instances. This process is repeated sequentially, until the N predictors forming the ensemble are trained.\n",
    "\n",
    "__Learning rate__ \\\n",
    "An important parameter used in training is the learning rate, $\\eta$. $\\eta$ is a number between 0 and 1; it is used to shrink the coefficient alpha of a trained predictor. It's important to note that there's a trade-off between eta and the number of estimators. A smaller value of $\\eta$ should be compensated by a greater number of estimators.\n",
    "\n",
    "__Prediction__ \\\n",
    "Once all the predictors in the ensemble are trained, the label of a new instance can be predicted depending on the nature of the problem. For classification, each predictor predicts the label of the new instance and the ensemble's prediction is obtained by weighted majority voting. The corresponding class in scikit-learn is _AdaBoostClassifier_. For regression, the same procedure is applied and the ensemble's prediction is obtained by performing a weighted average. The corresponding class in scikit-learn is _AdaBoostRegressor_. It's important to note that individual predictors need not to be CARTs. However CARTs are used most of the time in boosting because of their high variance."
   ]
  },
  {
   "cell_type": "code",
   "execution_count": 20,
   "id": "b5733c66-d852-4729-88e0-4a9fa4a645ae",
   "metadata": {},
   "outputs": [],
   "source": [
    "X = indian_liver_patient.drop(\"Liver_disease\", axis=1)\n",
    "y = indian_liver_patient['Liver_disease']\n",
    "\n",
    "X_train, X_test, y_train, y_test = train_test_split(X, y,\n",
    "                                                    test_size=0.2,\n",
    "                                                    random_state=1)"
   ]
  },
  {
   "cell_type": "code",
   "execution_count": 21,
   "id": "ec3903e3-7037-4b54-891d-b4e5b5cbf66c",
   "metadata": {},
   "outputs": [
    {
     "name": "stderr",
     "output_type": "stream",
     "text": [
      "C:\\Users\\Odinaka Ekemezie\\anaconda3\\Lib\\site-packages\\sklearn\\ensemble\\_weight_boosting.py:527: FutureWarning: The SAMME.R algorithm (the default) is deprecated and will be removed in 1.6. Use the SAMME algorithm to circumvent this warning.\n",
      "  warnings.warn(\n"
     ]
    },
    {
     "name": "stdout",
     "output_type": "stream",
     "text": [
      "ROC AUC score: 0.65\n"
     ]
    }
   ],
   "source": [
    "from sklearn.ensemble import AdaBoostClassifier\n",
    "from sklearn.metrics import roc_auc_score\n",
    "\n",
    "# Instantiate dt\n",
    "dt = DecisionTreeClassifier(max_depth=2, random_state=1)\n",
    "\n",
    "# Instantiate ada\n",
    "ada = AdaBoostClassifier(estimator=dt, n_estimators=180, random_state=1)\n",
    "\n",
    "# Fit ada to the training set\n",
    "ada.fit(X_train, y_train)\n",
    "\n",
    "# Compute the probabilities of obtaining the positive class\n",
    "y_pred_proba = ada.predict_proba(X_test)[:,1]\n",
    "\n",
    "# Evaluate test-set roc_auc_score\n",
    "ada_roc_auc = roc_auc_score(y_test, y_pred_proba)\n",
    "\n",
    "# Print roc_auc_score\n",
    "print('ROC AUC score: {:.2f}'.format(ada_roc_auc))"
   ]
  },
  {
   "cell_type": "markdown",
   "id": "f5dd2edc-dc7b-4675-94d0-c7762eb7b2a6",
   "metadata": {},
   "source": [
    "## Gradient Boosting\n",
    "\n",
    "In gradient boosting, each predictor in the ensemble corrects its predecessor's error. In contrast to Adaboost, the weights of the training instances are not tweaked. Instead, each predictor is trained using the residual errors of its predecessor as labels. Let's further explain gradient boosting with the analogy below: \n",
    "* The Goal: To create a perfectly accurate portrait of a person.\n",
    "\n",
    "* Artist 1 (The First Weak Learner): Makes a very simple, rough initial sketch of the person's face. It's a bad prediction. The \"error\" (the residual) is the difference between this rough sketch and the actual person's face.\n",
    "\n",
    "* The \"Boost\": The team leader doesn't show the original photo to the second artist. Instead, they show them a picture of the error—a ghostly image highlighting where the first sketch was wrong (e.g., \"the nose is too short,\" \"the chin is too wide\").\n",
    "\n",
    "* Artist 2: This artist's only job is to create a drawing of just those corrections.\n",
    "\n",
    "* The Final Portrait: The final, accurate portrait is created by taking the first rough sketch, then adding the corrections from Artist 2, then adding the corrections from Artist 3, and so on. Each artist makes a small, incremental improvement, gradually turning the rough sketch into a masterpiece.\n",
    "\n",
    "Now lets asssume there are N trees in an ensemble. Tree1 is trained using the features matrix X and the dataset labels y. The predictions labeled $\\hat{y_1}$ are used to determine the training set residual errors r1. Tree2 is then trained using the features matrix X and the residual errors r1 of Tree1 as labels. The predicted residuals $\\hat{r_1}$  are then used to determine the residuals of residuals which are labeled r2. This process is repeated until all of the N trees forming the ensemble are trained.\n",
    "\n",
    "__Shrinkage__ \\\n",
    "An important parameter used in training gradient boosted trees is shrinkage. In this context, shrinkage refers to the fact that the prediction of each tree in the ensemble is shrinked after it is multiplied by a learning rate $\\eta$ which is a number between 0 and 1. Similarly to AdaBoost, there's a trade-off between $\\eta$  and the number of estimators. Decreasing the learning rate needs to be compensated by increasing the number of estimators in order for the ensemble to reach a certain performance.\n",
    "\n",
    "__Prediction__ \\\n",
    "Once all trees in the ensemble are trained, prediction can be made. When a new instance is available, each tree predicts a label and the final ensemble prediction is given by the formula shown below:\n",
    "$$\n",
    "y_{pred} = y_1 + \\eta{r_1} + ... + \\eta{r_N}\n",
    "$$\n",
    "In scikit-learn, the class for a gradient boosting regressor is _GradientBoostingRegressor_. For classification problems, the class implementing gradient-boosted-classification in scikit-learn is _GradientBoostingClassifier_."
   ]
  },
  {
   "cell_type": "code",
   "execution_count": 22,
   "id": "a4d12d96-9c91-4860-8562-234bd787badf",
   "metadata": {},
   "outputs": [],
   "source": [
    "bikes = pd.read_csv(r\"C:\\Users\\Odinaka Ekemezie\\Downloads\\bikes.csv\")\n",
    "\n",
    "X = bikes.drop('cnt', axis=1)\n",
    "y = bikes['cnt']\n",
    "\n",
    "X_train, X_test, y_train, y_test = train_test_split(X, y,\n",
    "                                                    test_size=0.2,\n",
    "                                                    random_state=2)"
   ]
  },
  {
   "cell_type": "code",
   "execution_count": 23,
   "id": "58814a70-2dc9-4959-9952-4341b75b8b3c",
   "metadata": {},
   "outputs": [
    {
     "name": "stdout",
     "output_type": "stream",
     "text": [
      "Test set RMSE of gb: 49.537\n"
     ]
    }
   ],
   "source": [
    "# Import GradientBoostingRegressor\n",
    "from sklearn.ensemble import GradientBoostingRegressor\n",
    "from sklearn.metrics import mean_squared_error as MSE\n",
    "\n",
    "# Instantiate gb\n",
    "gb = GradientBoostingRegressor(n_estimators=200, \n",
    "            max_depth=4,\n",
    "            random_state=2)\n",
    "\n",
    "# Fit gb to the training set\n",
    "gb.fit(X_train, y_train)\n",
    "\n",
    "# Predict test set labels\n",
    "y_pred = gb.predict(X_test)\n",
    "\n",
    "# Compute MSE\n",
    "mse_test = MSE(y_test, y_pred)\n",
    "\n",
    "# Compute RMSE\n",
    "rmse_test = mse_test ** (1/2)\n",
    "\n",
    "# Print RMSE\n",
    "print('Test set RMSE of gb: {:.3f}'.format(rmse_test))"
   ]
  },
  {
   "cell_type": "markdown",
   "id": "0ac0c3a5-e410-4c6e-ad68-41986066a445",
   "metadata": {},
   "source": [
    "## Stochastic Gradient Boosting\n",
    "\n",
    "Gradient boosting involves an exhaustive search procedure. Each tree in the ensemble is trained to find the best split-points and the best features. This procedure may lead to CARTs that use the same split-points and possibly the same features. To mitigate these effects, you can use an algorithm known as __stochastic gradient boosting__. Stochastic Gradient Boosting (SGB) is a modification of the Gradient Boosting method that incorporates randomness to improve its performance and reduce overfitting. The \"stochastic\" part simply means random. It combines the error-correcting, sequential nature of Gradient Boosting with the random sampling idea from Bagging. In stochastic gradient boosting, each CART is trained on a random subset of the training data. This subset is sampled without replacement. Furthermore, at the level of each node, features are sampled without replacement when choosing the best split-points. As a result, this creates further diversity in the ensemble and the net effect is adding more variance to the ensemble of trees.\n",
    "\n",
    "Lets describe the training procedure of Stochastic Gradient Boosting. First, instead of providing all the training instances to a tree, only a fraction of these instances are provided through sampling without replacement. The sampled data is then used for training a tree. However, not all features are considered when a split is made. Instead, only a certain randomly sampled fraction of these features are used for this purpose. Once a tree is trained, predictions are made and the residual errors can be computed. These residual errors are multiplied by the learning rate $\\eta$ and are fed to the next tree in the ensemble. This procedure is repeated sequentially until all the trees in the ensemble are trained. The prediction procedure for a new instance in stochastic gradient boosting is similar to that of gradient boosting.\n",
    "\n",
    "In scikit-learn, Stochastic Gradient Boosting isn't a separate model. It's implemented directly within GradientBoostingRegressor and GradientBoostingClassifier using the _subsample_ hyperparameter. The subsample is set so each tree samples a particular percentage of the data. The parameter _max_features_ can also be set so that each tree uses a particular percentage of available features to perform the best-split."
   ]
  },
  {
   "cell_type": "code",
   "execution_count": 24,
   "id": "c51bd01e-012e-4502-b3e0-a8a42f003f3e",
   "metadata": {},
   "outputs": [
    {
     "name": "stdout",
     "output_type": "stream",
     "text": [
      "Test set RMSE of sgbr: 47.260\n"
     ]
    }
   ],
   "source": [
    "from sklearn.ensemble import GradientBoostingRegressor\n",
    "\n",
    "# Instantiate sgbr\n",
    "sgbr = GradientBoostingRegressor(max_depth=4, \n",
    "            subsample=0.9,\n",
    "            max_features=0.75,\n",
    "            n_estimators=200,\n",
    "            random_state=2)\n",
    "\n",
    "# Fit sgbr to the training set\n",
    "sgbr.fit(X_train, y_train)\n",
    "\n",
    "# Predict test set labels\n",
    "y_pred = sgbr.predict(X_test)\n",
    "\n",
    "# Compute test set MSE\n",
    "mse_test = MSE(y_test, y_pred)\n",
    "\n",
    "# Compute test set RMSE\n",
    "rmse_test = mse_test ** (1/2)\n",
    "\n",
    "# Print rmse_test\n",
    "print('Test set RMSE of sgbr: {:.3f}'.format(rmse_test))"
   ]
  },
  {
   "cell_type": "markdown",
   "id": "083db867-a17e-4464-a369-f8ec66f2a788",
   "metadata": {},
   "source": [
    "The stochastic gradient boosting regressor achieves a lower test set RMSE than the gradient boosting regressor (which was 49.537)"
   ]
  },
  {
   "cell_type": "markdown",
   "id": "f6fd07ba-3e6f-4d76-be29-a0c879153eb9",
   "metadata": {},
   "source": [
    "## Tuning a CART's Hyperparameters\n",
    "\n",
    "To obtain a better performance, the hyperparameters of a machine learning mpdel should be tuned. Machine learning models are characterized by parameters and hyperparameters. Parameters are learned from data through training; examples of parameters include the split-feature and the split-point of a node in a CART. Hyperparameters are not learned from data; they should be set prior to training. Examples of hyperparameters include the maximum-depth, min_samples_leaf, and the splitting-criterion of a CART.\n",
    "\n",
    "__Hyperparameter tuning__ \\\n",
    "Hyperparameter tuning consists of searching for the set of optimal hyperparameters for the learning algorithm. The solution involves finding the set of optimal hyperparameters that yields an optimal model. The optimal model yields an optimal score. The score function measures the agreement between true labels and a model's predictions. In sklearn, it defaults to accuracy for classifiers and r-squared for regressors. A model's generalization performance is evaluated using __cross-validation__.\n",
    "\n",
    "A legitimate question that you may ask is: why bother tuning hyperparameters? Well, in scikit-learn, a model's default hyperparameters are not optimal for all problems. Hyperparameters should be tuned to obtain the best model performance.\n",
    "\n",
    "There are many approaches for hyperparameter tuning including: grid-search, random-search, bayeisian optimization, genetic algorithms, and so on. Here, we'll only be exploring the method of grid-search.\n",
    "\n",
    "__Grid-search Cross Validation__ \\\n",
    "In grid-search cross-validation, first you manually set a grid of discrete hyperparameter values. Then, you pick a metric for scoring model performance and you search exhaustively through the grid. For each set of hyperparameters, you evaluate each model's score. The optimal hyperparameters are those for which the model achieves the best cross-validation score. Note that grid-search suffers from the curse of dimensionality, i.e., the bigger the grid, the longer it takes to find the solution.\n",
    "\n",
    "Let's walk through a concrete example to understand this procedure. Consider the case of a CART where you search through the two-dimensional hyperparameter grid shown here: \\\n",
    "max__depth = {2,3,4} \\\n",
    "min_samples_leaf = {0.05, 0.1} \\\n",
    "The dimensions correspond to the CART's maximum-depth and the minimum-percentage of samples per leaf. For each combination of hyperparameters, the cross-validation score is evaluated using k-fold CV for example. Finally, the optimal hyperparameters correspond to the model achieving the best cross-validation score.\n",
    "\n",
    "To inspect hyperparameters in scikit-learn, first instantiate a DecisionTreeClassifier. call ._get_params()_  method to print out a dictionary where the keys are the hyperparameter names like max_depth, max_features and min_samples_leaf. Note that max_features is the number of features to consider when looking for the best split. When it's a float, it is interpreted as a percentage. You can learn more about these hyperparameters by consulting scikit-learn's documentation."
   ]
  },
  {
   "cell_type": "code",
   "execution_count": 25,
   "id": "156a0bac-ea3c-40c0-abad-b63de035236f",
   "metadata": {},
   "outputs": [],
   "source": [
    "X = indian_liver_patient.drop(\"Liver_disease\", axis=1)\n",
    "y = indian_liver_patient['Liver_disease']\n",
    "\n",
    "X_train, X_test, y_train, y_test = train_test_split(X, y,\n",
    "                                                    test_size=0.2,\n",
    "                                                    random_state=1)"
   ]
  },
  {
   "cell_type": "code",
   "execution_count": 27,
   "id": "ecef6988-4a04-4a1a-9bbd-ddc7aadc7b34",
   "metadata": {},
   "outputs": [],
   "source": [
    "# Import GridSearchCV\n",
    "from sklearn.model_selection import GridSearchCV \n",
    "from sklearn.tree import DecisionTreeClassifier\n",
    "from sklearn.metrics import roc_auc_score\n",
    "\n",
    "dt = DecisionTreeClassifier(random_state=1)"
   ]
  },
  {
   "cell_type": "code",
   "execution_count": 28,
   "id": "7a66eed8-3c0a-45a6-b420-553b4bf497d5",
   "metadata": {},
   "outputs": [
    {
     "name": "stdout",
     "output_type": "stream",
     "text": [
      "{'ccp_alpha': 0.0, 'class_weight': None, 'criterion': 'gini', 'max_depth': None, 'max_features': None, 'max_leaf_nodes': None, 'min_impurity_decrease': 0.0, 'min_samples_leaf': 1, 'min_samples_split': 2, 'min_weight_fraction_leaf': 0.0, 'monotonic_cst': None, 'random_state': 1, 'splitter': 'best'}\n"
     ]
    }
   ],
   "source": [
    "# get the hyperparameter names\n",
    "print(dt.get_params())"
   ]
  },
  {
   "cell_type": "code",
   "execution_count": 29,
   "id": "d2a594b3-911c-40ed-8658-86670552aefc",
   "metadata": {},
   "outputs": [
    {
     "name": "stdout",
     "output_type": "stream",
     "text": [
      "Test set ROC AUC score: 0.731\n"
     ]
    }
   ],
   "source": [
    "# Define params_dt\n",
    "params_dt = {\n",
    "    'max_depth': [2,3,4],\n",
    "    'min_samples_leaf': [0.12,0.14,0.16,0.18]\n",
    "}\n",
    "\n",
    "# Instantiate grid_dt\n",
    "grid_dt = GridSearchCV(estimator=dt,\n",
    "                       param_grid=params_dt,\n",
    "                       scoring='roc_auc',\n",
    "                       cv=5,\n",
    "                       n_jobs=-1)\n",
    "\n",
    "grid_dt.fit(X_train, y_train)\n",
    "\n",
    "# Extract the best estimator\n",
    "best_model = grid_dt.best_estimator_\n",
    "\n",
    "# Predict the test set probabilities of the positive class\n",
    "y_pred_proba = best_model.predict_proba(X_test)[:,1]\n",
    "\n",
    "# Compute test_roc_auc\n",
    "test_roc_auc = roc_auc_score(y_test, y_pred_proba)\n",
    "\n",
    "# Print test_roc_auc\n",
    "print('Test set ROC AUC score: {:.3f}'.format(test_roc_auc))"
   ]
  },
  {
   "cell_type": "code",
   "execution_count": 30,
   "id": "afc70b83-27c8-43f7-a1d5-332c178de080",
   "metadata": {},
   "outputs": [
    {
     "name": "stdout",
     "output_type": "stream",
     "text": [
      "Best hyperparameters:\n",
      " {'max_depth': 3, 'min_samples_leaf': 0.14}\n"
     ]
    }
   ],
   "source": [
    "# extract the best hyperparameters\n",
    "best_hyperparams = grid_dt.best_params_\n",
    "print('Best hyperparameters:\\n', best_hyperparams)"
   ]
  },
  {
   "cell_type": "code",
   "execution_count": 31,
   "id": "cd30d173-7849-4c41-a21a-95805b102e73",
   "metadata": {},
   "outputs": [
    {
     "name": "stdout",
     "output_type": "stream",
     "text": [
      "Best CV roc-auc score:\n",
      " 0.717498076826435\n"
     ]
    }
   ],
   "source": [
    "# Extract best CV score from grid_dt\n",
    "best_CV_score = grid_dt.best_score_\n",
    "print('Best CV roc-auc score:\\n', best_CV_score)"
   ]
  },
  {
   "cell_type": "markdown",
   "id": "fd3cfd8b-3d48-4615-9cb6-05bee4531895",
   "metadata": {},
   "source": [
    "## Tuning Random Forest's Hyperparameters\n",
    "\n",
    "In addition to the hyperparameters of the CARTs forming random forests, the ensemble itself is characterized by other hyperparameters such as the number of estimators, whether it uses bootstraping or not and so on. As a note, hyperparameter tuning is computationally expensive and may sometimes lead only to very slight improvement of a model's performance. For this reason, it is desired to weigh the impact of tuning on the pipeline of your data analysis project as a whole in order to understand if it is worth pursuing.\n",
    "\n",
    "To inspect the hyperparameters of a RandomForestRegressor, first, import RandomForestRegressor from sklearn.ensemble and then instantiate a RandomForestRegressor, rf. The hyperparameters of rf along with their default values can be accessed by calling rf's _.get_params()_ method. In the following, we'll be optimizing n_estimators, max_depth, min_samples_leaf and max_features. You can learn more about these hyperparameters by consulting scikit-learn's documentation."
   ]
  },
  {
   "cell_type": "code",
   "execution_count": 33,
   "id": "ccaefbd3-b039-4c45-9036-88df9537e0c8",
   "metadata": {},
   "outputs": [],
   "source": [
    "bikes = pd.read_csv(r\"C:\\Users\\Odinaka Ekemezie\\Downloads\\bikes.csv\")\n",
    "\n",
    "X = bikes.drop('cnt', axis=1)\n",
    "y = bikes['cnt']\n",
    "\n",
    "X_train, X_test, y_train, y_test = train_test_split(X, y,\n",
    "                                                    test_size=0.2,\n",
    "                                                    random_state=2)"
   ]
  },
  {
   "cell_type": "code",
   "execution_count": 35,
   "id": "02a6aad9-1d6d-4c55-b388-144d9cc58137",
   "metadata": {},
   "outputs": [
    {
     "name": "stdout",
     "output_type": "stream",
     "text": [
      "{'bootstrap': True, 'ccp_alpha': 0.0, 'criterion': 'squared_error', 'max_depth': None, 'max_features': 1.0, 'max_leaf_nodes': None, 'max_samples': None, 'min_impurity_decrease': 0.0, 'min_samples_leaf': 1, 'min_samples_split': 2, 'min_weight_fraction_leaf': 0.0, 'monotonic_cst': None, 'n_estimators': 100, 'n_jobs': None, 'oob_score': False, 'random_state': 2, 'verbose': 0, 'warm_start': False}\n"
     ]
    }
   ],
   "source": [
    "from sklearn.ensemble import RandomForestRegressor\n",
    "from sklearn.metrics import mean_squared_error as MSE\n",
    "\n",
    "rf = RandomForestRegressor(random_state=2)\n",
    "\n",
    "# extract the hyperparameter names and their default values\n",
    "print(rf.get_params())"
   ]
  },
  {
   "cell_type": "code",
   "execution_count": 38,
   "id": "a2ab9636-0c77-471d-8e3f-f8181a416aa7",
   "metadata": {},
   "outputs": [
    {
     "name": "stdout",
     "output_type": "stream",
     "text": [
      "Fitting 3 folds for each of 18 candidates, totalling 54 fits\n",
      "Test RMSE of best model: 89.583\n"
     ]
    }
   ],
   "source": [
    "# Define the dictionary 'params_rf'\n",
    "params_rf = {\n",
    "    'n_estimators': [100,350,500],\n",
    "    'max_features': ['log2', 'sqrt'],\n",
    "    'min_samples_leaf': [2,10,30]\n",
    "}\n",
    "\n",
    "# Instantiate grid_rf\n",
    "grid_rf = GridSearchCV(estimator=rf,\n",
    "                       param_grid=params_rf,\n",
    "                       scoring='neg_mean_squared_error',\n",
    "                       cv=3,\n",
    "                       verbose=1,\n",
    "                       n_jobs=-1)\n",
    "\n",
    "# fit the training set\n",
    "grid_rf.fit(X_train, y_train)\n",
    "\n",
    "# Extract the best estimator\n",
    "best_model = grid_rf.best_estimator_\n",
    "\n",
    "# Predict test set labels\n",
    "y_pred = best_model.predict(X_test)\n",
    "\n",
    "# Compute rmse_test\n",
    "rmse_test = (MSE(y_test, y_pred)) ** (1/2)\n",
    "\n",
    "# Print rmse_test\n",
    "print('Test RMSE of best model: {:.3f}'.format(rmse_test)) "
   ]
  },
  {
   "cell_type": "code",
   "execution_count": 39,
   "id": "4ef2ec65-8119-4f10-8708-2a69fee681c1",
   "metadata": {},
   "outputs": [
    {
     "name": "stdout",
     "output_type": "stream",
     "text": [
      "RandomForestRegressor(max_features='log2', min_samples_leaf=2, n_estimators=500,\n",
      "                      random_state=2)\n"
     ]
    }
   ],
   "source": [
    "print(best_model)"
   ]
  },
  {
   "cell_type": "code",
   "execution_count": null,
   "id": "3fdb9203-1a35-492a-91c0-4bb3cce03bd9",
   "metadata": {},
   "outputs": [],
   "source": []
  }
 ],
 "metadata": {
  "kernelspec": {
   "display_name": "Python 3 (ipykernel)",
   "language": "python",
   "name": "python3"
  },
  "language_info": {
   "codemirror_mode": {
    "name": "ipython",
    "version": 3
   },
   "file_extension": ".py",
   "mimetype": "text/x-python",
   "name": "python",
   "nbconvert_exporter": "python",
   "pygments_lexer": "ipython3",
   "version": "3.12.7"
  }
 },
 "nbformat": 4,
 "nbformat_minor": 5
}
