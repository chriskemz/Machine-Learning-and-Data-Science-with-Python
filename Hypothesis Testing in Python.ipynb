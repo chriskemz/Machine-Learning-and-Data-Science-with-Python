{
 "cells": [
  {
   "cell_type": "markdown",
   "id": "6a4e953b-4dfd-4896-a701-6d14b53220e6",
   "metadata": {},
   "source": [
    "## Introduction to Hypothesis Testing\n",
    "\n"
   ]
  },
  {
   "cell_type": "code",
   "execution_count": 1,
   "id": "5bb852a6-ea76-427b-b354-cbc3ee06b663",
   "metadata": {},
   "outputs": [
    {
     "data": {
      "text/html": [
       "<div>\n",
       "<style scoped>\n",
       "    .dataframe tbody tr th:only-of-type {\n",
       "        vertical-align: middle;\n",
       "    }\n",
       "\n",
       "    .dataframe tbody tr th {\n",
       "        vertical-align: top;\n",
       "    }\n",
       "\n",
       "    .dataframe thead th {\n",
       "        text-align: right;\n",
       "    }\n",
       "</style>\n",
       "<table border=\"1\" class=\"dataframe\">\n",
       "  <thead>\n",
       "    <tr style=\"text-align: right;\">\n",
       "      <th></th>\n",
       "      <th>respondent</th>\n",
       "      <th>main_branch</th>\n",
       "      <th>hobbyist</th>\n",
       "      <th>age</th>\n",
       "      <th>age_1st_code</th>\n",
       "      <th>age_first_code_cut</th>\n",
       "      <th>comp_freq</th>\n",
       "      <th>comp_total</th>\n",
       "      <th>converted_comp</th>\n",
       "      <th>country</th>\n",
       "      <th>...</th>\n",
       "      <th>survey_length</th>\n",
       "      <th>trans</th>\n",
       "      <th>undergrad_major</th>\n",
       "      <th>webframe_desire_next_year</th>\n",
       "      <th>webframe_worked_with</th>\n",
       "      <th>welcome_change</th>\n",
       "      <th>work_week_hrs</th>\n",
       "      <th>years_code</th>\n",
       "      <th>years_code_pro</th>\n",
       "      <th>age_cat</th>\n",
       "    </tr>\n",
       "  </thead>\n",
       "  <tbody>\n",
       "    <tr>\n",
       "      <th>0</th>\n",
       "      <td>36.0</td>\n",
       "      <td>I am not primarily a developer, but I write co...</td>\n",
       "      <td>Yes</td>\n",
       "      <td>34.0</td>\n",
       "      <td>30.0</td>\n",
       "      <td>adult</td>\n",
       "      <td>Yearly</td>\n",
       "      <td>60000.0</td>\n",
       "      <td>77556.0</td>\n",
       "      <td>United Kingdom</td>\n",
       "      <td>...</td>\n",
       "      <td>Appropriate in length</td>\n",
       "      <td>No</td>\n",
       "      <td>Computer science, computer engineering, or sof...</td>\n",
       "      <td>Express;React.js</td>\n",
       "      <td>Express;React.js</td>\n",
       "      <td>Just as welcome now as I felt last year</td>\n",
       "      <td>40.0</td>\n",
       "      <td>4.0</td>\n",
       "      <td>3.0</td>\n",
       "      <td>At least 30</td>\n",
       "    </tr>\n",
       "    <tr>\n",
       "      <th>1</th>\n",
       "      <td>47.0</td>\n",
       "      <td>I am a developer by profession</td>\n",
       "      <td>Yes</td>\n",
       "      <td>53.0</td>\n",
       "      <td>10.0</td>\n",
       "      <td>child</td>\n",
       "      <td>Yearly</td>\n",
       "      <td>58000.0</td>\n",
       "      <td>74970.0</td>\n",
       "      <td>United Kingdom</td>\n",
       "      <td>...</td>\n",
       "      <td>Appropriate in length</td>\n",
       "      <td>No</td>\n",
       "      <td>A natural science (such as biology, chemistry,...</td>\n",
       "      <td>Flask;Spring</td>\n",
       "      <td>Flask;Spring</td>\n",
       "      <td>Just as welcome now as I felt last year</td>\n",
       "      <td>40.0</td>\n",
       "      <td>43.0</td>\n",
       "      <td>28.0</td>\n",
       "      <td>At least 30</td>\n",
       "    </tr>\n",
       "    <tr>\n",
       "      <th>2</th>\n",
       "      <td>69.0</td>\n",
       "      <td>I am a developer by profession</td>\n",
       "      <td>Yes</td>\n",
       "      <td>25.0</td>\n",
       "      <td>12.0</td>\n",
       "      <td>child</td>\n",
       "      <td>Yearly</td>\n",
       "      <td>550000.0</td>\n",
       "      <td>594539.0</td>\n",
       "      <td>France</td>\n",
       "      <td>...</td>\n",
       "      <td>Too short</td>\n",
       "      <td>No</td>\n",
       "      <td>Computer science, computer engineering, or sof...</td>\n",
       "      <td>Django;Flask</td>\n",
       "      <td>Django;Flask</td>\n",
       "      <td>Just as welcome now as I felt last year</td>\n",
       "      <td>40.0</td>\n",
       "      <td>13.0</td>\n",
       "      <td>3.0</td>\n",
       "      <td>Under 30</td>\n",
       "    </tr>\n",
       "    <tr>\n",
       "      <th>3</th>\n",
       "      <td>125.0</td>\n",
       "      <td>I am not primarily a developer, but I write co...</td>\n",
       "      <td>Yes</td>\n",
       "      <td>41.0</td>\n",
       "      <td>30.0</td>\n",
       "      <td>adult</td>\n",
       "      <td>Monthly</td>\n",
       "      <td>200000.0</td>\n",
       "      <td>2000000.0</td>\n",
       "      <td>United States</td>\n",
       "      <td>...</td>\n",
       "      <td>Appropriate in length</td>\n",
       "      <td>No</td>\n",
       "      <td>None</td>\n",
       "      <td>None</td>\n",
       "      <td>None</td>\n",
       "      <td>Just as welcome now as I felt last year</td>\n",
       "      <td>40.0</td>\n",
       "      <td>11.0</td>\n",
       "      <td>11.0</td>\n",
       "      <td>At least 30</td>\n",
       "    </tr>\n",
       "    <tr>\n",
       "      <th>4</th>\n",
       "      <td>147.0</td>\n",
       "      <td>I am not primarily a developer, but I write co...</td>\n",
       "      <td>No</td>\n",
       "      <td>28.0</td>\n",
       "      <td>15.0</td>\n",
       "      <td>adult</td>\n",
       "      <td>Yearly</td>\n",
       "      <td>50000.0</td>\n",
       "      <td>37816.0</td>\n",
       "      <td>Canada</td>\n",
       "      <td>...</td>\n",
       "      <td>Appropriate in length</td>\n",
       "      <td>No</td>\n",
       "      <td>Another engineering discipline (such as civil,...</td>\n",
       "      <td>None</td>\n",
       "      <td>Express;Flask</td>\n",
       "      <td>Just as welcome now as I felt last year</td>\n",
       "      <td>40.0</td>\n",
       "      <td>5.0</td>\n",
       "      <td>3.0</td>\n",
       "      <td>Under 30</td>\n",
       "    </tr>\n",
       "  </tbody>\n",
       "</table>\n",
       "<p>5 rows × 63 columns</p>\n",
       "</div>"
      ],
      "text/plain": [
       "   respondent                                        main_branch hobbyist  \\\n",
       "0        36.0  I am not primarily a developer, but I write co...      Yes   \n",
       "1        47.0                     I am a developer by profession      Yes   \n",
       "2        69.0                     I am a developer by profession      Yes   \n",
       "3       125.0  I am not primarily a developer, but I write co...      Yes   \n",
       "4       147.0  I am not primarily a developer, but I write co...       No   \n",
       "\n",
       "    age  age_1st_code age_first_code_cut comp_freq  comp_total  \\\n",
       "0  34.0          30.0              adult    Yearly     60000.0   \n",
       "1  53.0          10.0              child    Yearly     58000.0   \n",
       "2  25.0          12.0              child    Yearly    550000.0   \n",
       "3  41.0          30.0              adult   Monthly    200000.0   \n",
       "4  28.0          15.0              adult    Yearly     50000.0   \n",
       "\n",
       "   converted_comp         country  ...          survey_length trans  \\\n",
       "0         77556.0  United Kingdom  ...  Appropriate in length    No   \n",
       "1         74970.0  United Kingdom  ...  Appropriate in length    No   \n",
       "2        594539.0          France  ...              Too short    No   \n",
       "3       2000000.0   United States  ...  Appropriate in length    No   \n",
       "4         37816.0          Canada  ...  Appropriate in length    No   \n",
       "\n",
       "                                     undergrad_major  \\\n",
       "0  Computer science, computer engineering, or sof...   \n",
       "1  A natural science (such as biology, chemistry,...   \n",
       "2  Computer science, computer engineering, or sof...   \n",
       "3                                               None   \n",
       "4  Another engineering discipline (such as civil,...   \n",
       "\n",
       "  webframe_desire_next_year webframe_worked_with  \\\n",
       "0          Express;React.js     Express;React.js   \n",
       "1              Flask;Spring         Flask;Spring   \n",
       "2              Django;Flask         Django;Flask   \n",
       "3                      None                 None   \n",
       "4                      None        Express;Flask   \n",
       "\n",
       "                            welcome_change work_week_hrs years_code  \\\n",
       "0  Just as welcome now as I felt last year          40.0        4.0   \n",
       "1  Just as welcome now as I felt last year          40.0       43.0   \n",
       "2  Just as welcome now as I felt last year          40.0       13.0   \n",
       "3  Just as welcome now as I felt last year          40.0       11.0   \n",
       "4  Just as welcome now as I felt last year          40.0        5.0   \n",
       "\n",
       "  years_code_pro      age_cat  \n",
       "0            3.0  At least 30  \n",
       "1           28.0  At least 30  \n",
       "2            3.0     Under 30  \n",
       "3           11.0  At least 30  \n",
       "4            3.0     Under 30  \n",
       "\n",
       "[5 rows x 63 columns]"
      ]
     },
     "execution_count": 1,
     "metadata": {},
     "output_type": "execute_result"
    }
   ],
   "source": [
    "import pandas as pd\n",
    "\n",
    "stack_overflow = pd.read_feather(r\"C:\\Users\\Odinaka Ekemezie\\Downloads\\stack_overflow.feather\")\n",
    "stack_overflow.head()"
   ]
  },
  {
   "cell_type": "markdown",
   "id": "8a1c0bc1-19b9-4b46-9013-58b1363fecc7",
   "metadata": {},
   "source": [
    "Let's hypothesize that the mean annual compensation of the population of data scientists is $110,000\n",
    "\n",
    "Let's examine the mean compensation (point estimate) from the sample data as follows:"
   ]
  },
  {
   "cell_type": "code",
   "execution_count": 2,
   "id": "550971ac-4c34-4ae5-8938-38e2680dafba",
   "metadata": {},
   "outputs": [
    {
     "data": {
      "text/plain": [
       "119574.71738168952"
      ]
     },
     "execution_count": 2,
     "metadata": {},
     "output_type": "execute_result"
    }
   ],
   "source": [
    "mean_comp_samp = stack_overflow['converted_comp'].mean()\n",
    "mean_comp_samp"
   ]
  },
  {
   "cell_type": "markdown",
   "id": "f6ad59f5-d9cf-4bee-a230-522a3622eeba",
   "metadata": {},
   "source": [
    "While the point estimate is different from our hypothesis, the question is: is it meaningfully different? To answer this, we will generate a bootstrap distribution of sample means:"
   ]
  },
  {
   "cell_type": "code",
   "execution_count": 3,
   "id": "ccc86ae2-7c3f-4fb0-a0f2-640c0dd51255",
   "metadata": {},
   "outputs": [],
   "source": [
    "import numpy as np\n",
    "\n",
    "so_boot_distn = []\n",
    "for i in range(5000):\n",
    "    so_boot_distn.append(\n",
    "        np.mean(stack_overflow.sample(frac=1, replace=True)['converted_comp'])\n",
    "    )"
   ]
  },
  {
   "cell_type": "code",
   "execution_count": 4,
   "id": "c52e1e68-c2ca-4180-9d3d-d486d49affe3",
   "metadata": {},
   "outputs": [
    {
     "data": {
      "image/png": "[encoded data removed]",
      "text/plain": [
       "<Figure size 640x480 with 1 Axes>"
      ]
     },
     "metadata": {},
     "output_type": "display_data"
    }
   ],
   "source": [
    "import matplotlib.pyplot as plt\n",
    "plt.hist(so_boot_distn, bins=50)\n",
    "plt.show()"
   ]
  },
  {
   "cell_type": "markdown",
   "id": "5b3e6a14-d731-4901-a5d8-d807fe56ebc7",
   "metadata": {},
   "source": [
    "Recall that the standard deviation of the sample statistics in the bootstrap distribution estimate the standard error of the statistics. This is calculated below:"
   ]
  },
  {
   "cell_type": "code",
   "execution_count": 5,
   "id": "40b97882-ee29-4216-8cc5-80849ec46aa7",
   "metadata": {},
   "outputs": [
    {
     "data": {
      "text/plain": [
       "5581.0940650271505"
      ]
     },
     "execution_count": 5,
     "metadata": {},
     "output_type": "execute_result"
    }
   ],
   "source": [
    "std_error = np.std(so_boot_distn, ddof=1)\n",
    "std_error"
   ]
  },
  {
   "cell_type": "markdown",
   "id": "9bbe364b-3018-4587-b3ac-4ee8d592d673",
   "metadata": {},
   "source": [
    "### z-scores\n",
    "\n",
    "Before we test our hypothesis,we need to standardize our values. A common way of standarding values is as follows:\n",
    "$$\n",
    "\\text{standardized value} = \\frac{\\text{value} - \\text{mean}}{\\text{standard error}}\n",
    "$$\n",
    "\n",
    "For hypothesis testing, we use a variation where we take the sample statistic, subtract the hypothesized parameter value, and divide by the standard error. The result is called a __z-score__\n",
    "$$\n",
    "z = \\frac{\\text{sample stat} - \\text{hypoth. param. value}}{\\text{standard error}}\n",
    "$$\n",
    "\n",
    "In simple terms, a z-score tells you how many standard deviations away from the average (mean) a particular data point is.\n",
    "\n",
    "Think of it as a standardized ruler for measuring how \"special\" or \"unusual\" a single data point is compared to the rest of its group. It answers the question: \"Is this value pretty normal, or is it an outlier?\"\n",
    "\n",
    "Imagine you and a friend are walking in Port Harcourt. You say, \"I live 200 steps from the market.\" Your friend says, \"I live 150 steps from the market.\" Who lives further? You don't know, because your \"step\" might be much longer than your friend's.\n",
    "\n",
    "But if you both use a standard unit like meters, the comparison is perfect. \"I live 150 meters away,\" and \"I live 120 meters away.\" Now it's clear.\n",
    "\n",
    "A z-score is like that meter. It converts a raw score into a universal, standardized unit called a standard deviation. This lets you compare different scores from different datasets.\n",
    "\n",
    "1. A z-score of 0 means the data point is exactly the average.\n",
    "\n",
    "2. A positive z-score means the data point is above the average.\n",
    "\n",
    "3. A negative z-score means the data point is below the average.\n",
    "\n",
    "4. The magnitude tells you how far away it is. A z-score of -2.5 is just as \"extreme\" as a z-score of +2.5. Generally, z-scores greater than +2 or less than -2 are considered unusual.\n"
   ]
  },
  {
   "cell_type": "code",
   "execution_count": 6,
   "id": "5d5fc508-8e32-4f70-872a-8c5e349410e2",
   "metadata": {},
   "outputs": [
    {
     "data": {
      "text/plain": [
       "1.7155628036602433"
      ]
     },
     "execution_count": 6,
     "metadata": {},
     "output_type": "execute_result"
    }
   ],
   "source": [
    "mean_comp_hyp = 110000\n",
    "# calculate z-score\n",
    "z_score = (mean_comp_samp - mean_comp_hyp) / std_error\n",
    "z_score"
   ]
  },
  {
   "cell_type": "markdown",
   "id": "8f716e00-b46f-4580-8d27-aa18f3db21d6",
   "metadata": {},
   "source": [
    "Now the question is whether this score is high or low. Thus one use case of hypothesis testing is to determine whether a sample statistic is close to or far away from an expected (or hypothesized value)"
   ]
  },
  {
   "cell_type": "code",
   "execution_count": 7,
   "id": "d11ec2fe-de49-4a90-a689-e6120828f7f2",
   "metadata": {},
   "outputs": [],
   "source": [
    "late_shipments = pd.read_feather(r\"C:\\Users\\Odinaka Ekemezie\\Downloads\\late_shipments.feather\")"
   ]
  },
  {
   "cell_type": "code",
   "execution_count": 8,
   "id": "a0ff2936-11f3-49de-8c55-8b8d19cb0acb",
   "metadata": {},
   "outputs": [
    {
     "name": "stdout",
     "output_type": "stream",
     "text": [
      "0.061\n"
     ]
    }
   ],
   "source": [
    "# Calculate the proportion of late shipments\n",
    "late_prop_samp = (late_shipments['late'] == 'Yes').mean()\n",
    "\n",
    "# Print the results\n",
    "print(late_prop_samp)"
   ]
  },
  {
   "cell_type": "code",
   "execution_count": 9,
   "id": "574f6b38-bc8c-48c1-a0f0-d7de0404e304",
   "metadata": {},
   "outputs": [
    {
     "name": "stdout",
     "output_type": "stream",
     "text": [
      "[0.079, 0.058, 0.058, 0.073, 0.074, 0.056, 0.065, 0.044, 0.06, 0.062]\n"
     ]
    }
   ],
   "source": [
    "# create a bootstrap distribution list of proportion of late shipments\n",
    "late_shipments_boot_distn = []\n",
    "for _ in range(5000):\n",
    "   late_shipments_boot_distn.append(\n",
    "       np.mean((late_shipments['late'] == 'Yes').sample(frac=1, replace=True))\n",
    "   )\n",
    "\n",
    "print(late_shipments_boot_distn[0:10])"
   ]
  },
  {
   "cell_type": "code",
   "execution_count": 10,
   "id": "8180b89d-b074-40d7-9ac9-6dead2442072",
   "metadata": {},
   "outputs": [
    {
     "name": "stdout",
     "output_type": "stream",
     "text": [
      "0.1313511889629029\n"
     ]
    }
   ],
   "source": [
    "# Hypothesize that the proportion is 6%\n",
    "late_prop_hyp = 0.06\n",
    "\n",
    "# Calculate the standard error\n",
    "std_error = np.std(late_shipments_boot_distn, ddof=1)\n",
    "\n",
    "# Find z-score of late_prop_samp\n",
    "z_score = (late_prop_samp - late_prop_hyp) / std_error\n",
    "# Print z_score\n",
    "print(z_score)"
   ]
  },
  {
   "cell_type": "markdown",
   "id": "95a5cbfb-920e-4116-b7d9-38e9bd299ea5",
   "metadata": {},
   "source": [
    "## Key Points\n",
    "\n",
    "Hypothesis tests are like criminal trials. There are two possible states:\n",
    "1. Defendant committed the crime\n",
    "2. Defendant did not commit the crime\n",
    "\n",
    "There are also two possible outcomes:\n",
    "1. Guilty\n",
    "2. Not Guilty\n",
    "\n",
    "The initial assumption is that the defendant is not guilty, and the prosecution team must present evidence beyond the reasonable doubt for a guilty verdict.\n",
    "\n",
    "__DEFINITIONS__\n",
    "1. A hypothesis is a statement about an unknown population parameter.\n",
    "2. Hypothesis test is a test of two competing hypotheses:\n",
    "    - The __Null Hypothesis__ (H<sub>0</sub>), which is the existing idea\n",
    "    - The __Alternative Hypothesis__ (H<sub>A</sub>), which is a new idea that challenges the existing one\n",
    "\n",
    "For example, we could say:\n",
    "1. (H<sub>0</sub>): The proportion of data scientists starting programming as children is 35%.\n",
    "2. (H<sub>A</sub>): The proportion of data scientists starting programming as children is greater than 35%\n",
    "\n",
    "__Important Notes__\n",
    "1. Only one of the hypothesis can be true, either H<sub>0</sub> or H<sub>A</sub>\n",
    "2. Intially, the null hypothesis is assumed to be true. This only changes if the sample provides enough evidence to reject it\n",
    "3. We don't say 'accept the alternative hypothesis'. It's conentional to say 'reject H<sub>0</sub>' or 'fail to reject H<sub>0</sub>'\n",
    "4. If the evidence from the sample is \"significant\" that H<sub>A</sub> is true, reject H<sub>0</sub>, else choose H<sub>0</sub>\n",
    "\n",
    "N/B: Significance level is \"beyond a reasonable doubt\" for hypothesis testing.\n",
    "\n",
    "__One-tailed and Two-tailed Tests__\n",
    "\n",
    "Hypothesis tests determine whether the sample statistics lie in the tails of the null distribution, which is the distribution of the statistic if the null hypothesis was true. There are three types of tests and the phrasing of the alternative hypothesis determines which type we should use:\n",
    "1. If the alternative hypothesis is phrased as \"different\" from the null hypothesis, use __two-tailed test__\n",
    "2. If the alternative hypothesis uses languages like \"less than\" or \"fewer\", use __left-tailed test__\n",
    "3. If the alternative hypothesis says \"greater than\" or \"exceeds\" the null, use __right-tailed test__\n",
    "\n",
    "__p-values__\n",
    "\n",
    "p-values measure the strength of support for the null hypothesis. They measure the probability of obtaining a result assuming the null hypothesis is true.\n",
    "1. Large p-values mean that the statistic is likely not in the tail of the null distribution. This indicate that chance could at play, hence a support for Null hypothesis\n",
    "2. Small p-values mean the statistic is likely in the tail of the null distribution, hence a strong evidence against the null hypothesis\n",
    "3. p-values are probalilties, hence the value is between zero and one. small values mean 'close to zero'\n",
    "\n",
    "__Calculating p-value__\n",
    "1. Calculate the z-score\n",
    "2. use norm.cdf from the scipy.stats module\n",
    "3. For left-tailed test, use norm.cdf()\n",
    "4. For right-tailed test, use 1 - norm.cdf()\n",
    "5. Pass the z-score to norm.cdf, set mean to zero, and standard deviation to 1\n"
   ]
  },
  {
   "cell_type": "code",
   "execution_count": 11,
   "id": "51794c6e-af24-4574-a554-2a5e66645aa7",
   "metadata": {},
   "outputs": [
    {
     "name": "stdout",
     "output_type": "stream",
     "text": [
      "0.39141972578505085\n"
     ]
    }
   ],
   "source": [
    "# Get the sample statistic\n",
    "prop_child_samp = (stack_overflow['age_first_code_cut'] == 'child').mean()\n",
    "print(prop_child_samp)"
   ]
  },
  {
   "cell_type": "code",
   "execution_count": 12,
   "id": "d5c510f1-d444-4187-99aa-6caa7f0cab25",
   "metadata": {},
   "outputs": [],
   "source": [
    "# state the hypothesized value\n",
    "prop_child_hyp = 0.35"
   ]
  },
  {
   "cell_type": "code",
   "execution_count": 13,
   "id": "27bd1070-ec8c-43b7-90df-b1cee726ddbd",
   "metadata": {},
   "outputs": [
    {
     "name": "stdout",
     "output_type": "stream",
     "text": [
      "[0.3892083149049093, 0.39849624060150374, 0.38699690402476783, 0.39097744360902253, 0.38301636444051307, 0.3998230871295887, 0.3940734188412207, 0.40468819106590004, 0.38567005749668287, 0.4082264484741265]\n"
     ]
    }
   ],
   "source": [
    "# create a bootstrap distribution\n",
    "first_code_boot_distn = []\n",
    "for _ in range(5000):\n",
    "   first_code_boot_distn.append(\n",
    "       np.mean((stack_overflow['age_first_code_cut'] == 'child').sample(frac=1, replace=True))\n",
    "   )\n",
    "\n",
    "print(first_code_boot_distn[0:10])"
   ]
  },
  {
   "cell_type": "code",
   "execution_count": 14,
   "id": "2a535f13-d4fa-421b-9cf1-3a6f47193b5d",
   "metadata": {},
   "outputs": [
    {
     "data": {
      "text/plain": [
       "0.010244570182939063"
      ]
     },
     "execution_count": 14,
     "metadata": {},
     "output_type": "execute_result"
    }
   ],
   "source": [
    "# get the standard error from the bootstrap distribution\n",
    "std_error = np.std(first_code_boot_distn, ddof=1)\n",
    "std_error"
   ]
  },
  {
   "cell_type": "code",
   "execution_count": 15,
   "id": "86edafba-6586-47fe-91f4-38f3bd801f05",
   "metadata": {},
   "outputs": [
    {
     "data": {
      "text/plain": [
       "4.043090636836067"
      ]
     },
     "execution_count": 15,
     "metadata": {},
     "output_type": "execute_result"
    }
   ],
   "source": [
    "# calculate the z-score\n",
    "z_score = (prop_child_samp - prop_child_hyp) / std_error\n",
    "z_score"
   ]
  },
  {
   "cell_type": "code",
   "execution_count": 16,
   "id": "9093e0da-2c6c-4d7c-9440-a8d883215d03",
   "metadata": {},
   "outputs": [
    {
     "data": {
      "text/plain": [
       "2.6375608468964806e-05"
      ]
     },
     "execution_count": 16,
     "metadata": {},
     "output_type": "execute_result"
    }
   ],
   "source": [
    "from scipy.stats import norm\n",
    "\n",
    "# calculate the p-value\n",
    "p_value = 1 - norm.cdf(z_score, loc=0, scale=1)\n",
    "p_value"
   ]
  },
  {
   "cell_type": "markdown",
   "id": "ef3f14a2-3f98-432d-8772-b08e98aa3f62",
   "metadata": {},
   "source": [
    "## Statistical Significance\n",
    "\n",
    "What defines a cut-off point between a small p-value and a large p-value? The cut-off point is known as __Significance level__, and is denoted by $\\alpha$. The significance level of a hypothesis test is the threshold point for \"beyond a reasonable doubt\". The appropriate significance level depends on the dataset and the discipline worked in. Common values are 0.2, 0.1, 0.05, and 0.01. 0.05 is the most common choice. If the p-value is less than or equal to the $\\alpha$, we reject the null hypothesis. Otherwise, we fail to reject it. $\\alpha$ should be set prior to conducting the hypothesis test. \n",
    "\n",
    "__Calculating p-value__\n",
    "\n",
    "The workflow of calculating the p-value goes like this:\n",
    "1. Set the significance level\n",
    "2. Calculate the sample mean\n",
    "3. Assign the hypothesized mean\n",
    "4. Obtain the standard error from the bootstrap distribution\n",
    "5. Calculate the z-score\n",
    "6. Calculate the p-value\n",
    "\n",
    "__Making a Decision__\n",
    "\n",
    "1. If p $\\leq$ 0.05, reject H<sub>0</sub>, else choose H<sub>0</sub>"
   ]
  },
  {
   "cell_type": "code",
   "execution_count": 17,
   "id": "ccf17acd-288f-4738-af4b-16189e10fe39",
   "metadata": {},
   "outputs": [
    {
     "data": {
      "text/plain": [
       "2.6375608468964806e-05"
      ]
     },
     "execution_count": 17,
     "metadata": {},
     "output_type": "execute_result"
    }
   ],
   "source": [
    "# set the significance level\n",
    "alpha = 0.05\n",
    "\n",
    "# Get the sample mean\n",
    "prop_child_samp = (stack_overflow['age_first_code_cut'] == 'child').mean()\n",
    "\n",
    "# state the hypothesized value\n",
    "prop_child_hyp = 0.35\n",
    "\n",
    "# get the standard error from the bootstrap distribution\n",
    "std_error = np.std(first_code_boot_distn, ddof=1)\n",
    "\n",
    "# calculate the z-score\n",
    "z_score = (prop_child_samp - prop_child_hyp) / std_error\n",
    "\n",
    "# calculate the p-value\n",
    "p_value = 1 - norm.cdf(z_score, loc=0, scale=1)\n",
    "p_value"
   ]
  },
  {
   "cell_type": "code",
   "execution_count": 18,
   "id": "d42c34ef-000d-4dc5-b08c-8b4fcdaf9ba8",
   "metadata": {},
   "outputs": [
    {
     "data": {
      "text/plain": [
       "True"
      ]
     },
     "execution_count": 18,
     "metadata": {},
     "output_type": "execute_result"
    }
   ],
   "source": [
    "p_value <= alpha"
   ]
  },
  {
   "cell_type": "markdown",
   "id": "32c461e5-87ad-40e9-bf8e-6c35da808bef",
   "metadata": {},
   "source": [
    "Since p $\\leq$ 0.05, we reject the null hypothesis"
   ]
  },
  {
   "cell_type": "markdown",
   "id": "8e7cd80c-95f4-4cdc-b463-8b5c82515835",
   "metadata": {},
   "source": [
    "## Confidence Intervals\n",
    "\n",
    "To get a sense of the potential values of the population parameter, we choose a significance level of 1 - $\\alpha$. For example, if $/alpha$ = 0.05, we use a confidence interval of 95%. When you have a confidence interval width equal to one minus the significance level, if the hypothesized population parameter is within the confidence interval, you should fail to reject the null hypothesis."
   ]
  },
  {
   "cell_type": "code",
   "execution_count": 19,
   "id": "d84736c7-761e-481c-b959-2b1fc66704d3",
   "metadata": {},
   "outputs": [
    {
     "name": "stdout",
     "output_type": "stream",
     "text": [
      "(0.3710747456877488, 0.41132242370632466)\n"
     ]
    }
   ],
   "source": [
    "lower = np.quantile(first_code_boot_distn, 0.025)\n",
    "upper = np.quantile(first_code_boot_distn, 0.975)\n",
    "print((lower, upper))"
   ]
  },
  {
   "cell_type": "markdown",
   "id": "3e81de37-696b-4fa8-a1cf-59e4fa01e0e3",
   "metadata": {},
   "source": [
    "## Types of Errors\n",
    "\n",
    "For hypothesis testing, there a ways to get it right and two types of errors.\n",
    "1. If we reject the null hypothesis when the null hypothesis was correct, we commit a false positive error or __Type I__ error\n",
    "2. If we fail to reject the null hypothesis, when the null hypothesis was wrong, we commit a false negative error or __Type II__ eror"
   ]
  },
  {
   "cell_type": "markdown",
   "id": "2f635456-6e2b-447a-b1df-78e6c59acc80",
   "metadata": {},
   "source": [
    "## Performing t-tests\n",
    "\n",
    "A t-test is a statistical test used to determine whether there is a significant difference between the means of two groups or between a sample mean and a known value. It is particularly useful when dealing with small sample sizes or when the population standard deviation is unknown.\n",
    "\n",
    "__Types of t-tests__\n",
    "\n",
    "There are three main types of t-tests. Each compares means under different conditions:\n",
    "\n",
    "1. __One-Sample t-test__: This test compares the mean of a single sample to a known value or population mean. It determines if the sample mean significantly deviates from a specific benchmark. For example, we can use a one-sample t-test to evaluate whether the average test score of a small class differs from the national average.\n",
    "2. __Independent Two-Sample t-test__: This test compares the means of two independent groups to determine if there is a statistically significant difference between them. It is commonly used in experiments where two groups undergo different treatments or conditions. For instance, we could use an independent two-sample t-test to compare test scores between students taught using two different teaching methods to see if one method is more effective.\n",
    "3. __Paired t-test__: This test compares means from the same group at different times or under different conditions. It evaluates whether there is a significant change within the same group after an intervention or over time. An example is measuring student performance before and after implementing a new teaching strategy to assess its impact.\n",
    "\n",
    "__How Does a t-test differ from a z-test?__\n",
    "\n",
    "A Z-test is a statistical test used to determine whether there is a significant difference between the sample mean and the population mean or between the means of two groups when the population standard deviation is known, and the sample size is large. "
   ]
  },
  {
   "cell_type": "markdown",
   "id": "2ba7855c-d622-4976-a043-7329f58b9a2b",
   "metadata": {},
   "source": [
    "## Two-sample Tests \n",
    "\n",
    "Here, we compare sample statistics across groups in a variable. For instance, we could ask ourselves: are average sales in restaurant A greater than averages sales in restaurant B?\n",
    "\n",
    "Lets look at the scenario below:\n",
    "\n",
    "__H<sub>0</sub>__: The mean compensation (in USD) is the same for those that coded first as a child and those that coded first as an adult \\\n",
    "H<sub>0</sub>: $\\mu$<sub>child</sub> = $\\mu$<sub>adult</sub> \\\n",
    "H<sub>0</sub>: $\\mu$<sub>child</sub> - $\\mu$<sub>adult</sub> = 0\n",
    "\n",
    "__H<sub>A</sub>__: The mean compensation (in USD) is the greater for those that coded first as a child and those that coded first as an adult \\\n",
    "H<sub>A</sub>: $\\mu$<sub>child</sub> > $\\mu$<sub>adult</sub> \\\n",
    "H<sub>A</sub>: $\\mu$<sub>child</sub> - $\\mu$<sub>adult</sub> > 0\n",
    "\n",
    "The zero (in H<sub>0</sub>: $\\mu$<sub>child</sub> - $\\mu$<sub>adult</sub> = 0) corresponds to our hypothesized value for the difference in means\n",
    "\n",
    "__T-statistics__\n",
    "\n",
    "$$\n",
    "t = \\frac{\\bar{x}_a - \\bar{x}_b}{\\sqrt{\\frac{s_a^2}{n_a} + \\frac{s_b^2}{n_b}}}\n",
    "$$\n"
   ]
  },
  {
   "cell_type": "code",
   "execution_count": 20,
   "id": "5e9d0470-aa7e-4c76-84ab-51cd671b5c93",
   "metadata": {},
   "outputs": [
    {
     "name": "stdout",
     "output_type": "stream",
     "text": [
      "age_first_code_cut\n",
      "adult    111313.311047\n",
      "child    132419.570621\n",
      "Name: converted_comp, dtype: float64\n"
     ]
    }
   ],
   "source": [
    "# calcuate mean compensation for each group\n",
    "xbar = stack_overflow.groupby('age_first_code_cut')['converted_comp'].mean()\n",
    "print(xbar)"
   ]
  },
  {
   "cell_type": "code",
   "execution_count": 21,
   "id": "007d8316-6f4e-4735-8cdc-f482c7de7dc3",
   "metadata": {},
   "outputs": [
    {
     "name": "stdout",
     "output_type": "stream",
     "text": [
      "age_first_code_cut\n",
      "adult    271546.521729\n",
      "child    255585.240115\n",
      "Name: converted_comp, dtype: float64\n"
     ]
    }
   ],
   "source": [
    "# calculate the standard deviation for each group\n",
    "s = stack_overflow.groupby('age_first_code_cut')['converted_comp'].std()\n",
    "print(s)"
   ]
  },
  {
   "cell_type": "code",
   "execution_count": 22,
   "id": "c5c79620-d2d9-4019-95bd-053598f125f3",
   "metadata": {},
   "outputs": [
    {
     "name": "stdout",
     "output_type": "stream",
     "text": [
      "age_first_code_cut\n",
      "adult    1376\n",
      "child     885\n",
      "Name: converted_comp, dtype: int64\n"
     ]
    }
   ],
   "source": [
    "# calculate the number of observations for each group\n",
    "n = stack_overflow.groupby('age_first_code_cut')['converted_comp'].count()\n",
    "print(n)"
   ]
  },
  {
   "cell_type": "code",
   "execution_count": 23,
   "id": "2c988c88-30a4-4f6f-88b1-59f29c17178e",
   "metadata": {},
   "outputs": [
    {
     "name": "stdout",
     "output_type": "stream",
     "text": [
      "1.8699313316221844\n"
     ]
    }
   ],
   "source": [
    "# calculating t-statistics\n",
    "numerator = xbar['child'] - xbar['adult']\n",
    "denominator = np.sqrt(s['child'] ** 2 / n['child'] + s['adult'] ** 2 / n['adult'])\n",
    "t_stat = numerator / denominator\n",
    "print(t_stat)"
   ]
  },
  {
   "cell_type": "markdown",
   "id": "73316bf6-9aa7-43b2-ae90-8e277784674b",
   "metadata": {},
   "source": [
    "## Calculating p-values from t-statistics\n",
    "\n",
    "The test statistic, t, follows a t-distribution. This distribution has a parameter called the __degree of freedom__. The t-distribution, for small degrees of freedom has a fatter tails than the normal distribution, otherwise they look similar. As we increase df, the t-distribution gets closer to the normal distribution. Degrees of freedom are defined as the maximum number of logically independent values in the data sample. Suppose our dataset has 5 independent observations, and four of the values are 2, 6, 8, and 5. Suppose we also know that the sample mean is 5, thus, with this knowledge, the fifth value is no longer independent\"; the value must be 4. So even though we have 5 idependent observation, because we know an additional fact about the sample, i.e. the mean, we only have 4 degrees of freedom. "
   ]
  },
  {
   "cell_type": "code",
   "execution_count": 24,
   "id": "88403ea5-9b2a-4ba2-9df0-20aa27465729",
   "metadata": {},
   "outputs": [
    {
     "data": {
      "text/plain": [
       "2259"
      ]
     },
     "execution_count": 24,
     "metadata": {},
     "output_type": "execute_result"
    }
   ],
   "source": [
    "n_child = n['child']\n",
    "n_adult = n['adult']\n",
    "# calculate the degree of freedom\n",
    "degrees_of_freedom = n_child + n_adult -2 # since we know two sample statistics (means for the two groups)\n",
    "degrees_of_freedom"
   ]
  },
  {
   "cell_type": "code",
   "execution_count": 25,
   "id": "8868cdde-1db9-44df-8cf7-cd3ade233890",
   "metadata": {},
   "outputs": [
    {
     "data": {
      "text/plain": [
       "0.030811302165157595"
      ]
     },
     "execution_count": 25,
     "metadata": {},
     "output_type": "execute_result"
    }
   ],
   "source": [
    "from scipy.stats import t\n",
    "p_value = 1 - t.cdf(t_stat, df = degrees_of_freedom)\n",
    "p_value"
   ]
  },
  {
   "cell_type": "markdown",
   "id": "95627a67-aceb-42e0-ae20-70b7bf1a7a15",
   "metadata": {},
   "source": [
    "## Paired t-tests\n",
    "\n",
    "This test compares means from the same group at different times or under different conditions. It evaluates whether there is a significant change within the same group after an intervention or over time. An example is measuring student performance before and after implementing a new teaching strategy to assess its impact.\n",
    "\n",
    "__Case Study__\n",
    "_Question_: Was the percentage of the Repubican candidates votes lower in 2008 than 2012\n",
    "\n",
    "H<sub>0</sub>: $\\mu$<sub>2008</sub> - $\\mu$<sub>2012</sub> = 0\n",
    "\n",
    "H<sub>A</sub>: $\\mu$<sub>2008</sub> - $\\mu$<sub>2012</sub> < 0\n",
    "\n",
    "set $/alpha$ = 0.05 significance level\n",
    "\n",
    "Instead of considering the variables separately, we can consider a single variable of the difference. Restate the hypothesis to repflect this:\n",
    "\n",
    "H<sub>0</sub>: $\\mu$<sub>diff</sub> = 0\n",
    "\n",
    "H<sub>A</sub>: $\\mu$<sub>diff</sub> < 0"
   ]
  },
  {
   "cell_type": "code",
   "execution_count": 26,
   "id": "5d3cb7ce-2842-4aa8-b405-795dbaf3dae0",
   "metadata": {},
   "outputs": [],
   "source": [
    "import pandas as pd\n",
    "\n",
    "repub_votes_potus_08_12 = pd.read_feather(r\"C:\\Users\\Odinaka Ekemezie\\Downloads\\repub_votes_potus_08_12.feather\")"
   ]
  },
  {
   "cell_type": "code",
   "execution_count": 27,
   "id": "07baa57d-f728-4bc2-8149-94e4d23844d4",
   "metadata": {},
   "outputs": [],
   "source": [
    "sample_data = repub_votes_potus_08_12\n",
    "sample_data['diff'] = sample_data['repub_percent_08'] - sample_data['repub_percent_12']"
   ]
  },
  {
   "cell_type": "code",
   "execution_count": 28,
   "id": "cb28fadb-5893-40e5-a5da-2d7a756bd4f1",
   "metadata": {},
   "outputs": [
    {
     "data": {
      "text/plain": [
       "-2.877109041242944"
      ]
     },
     "execution_count": 28,
     "metadata": {},
     "output_type": "execute_result"
    }
   ],
   "source": [
    "# calcualte the sample mean from the difference\n",
    "xbar_diff = sample_data['diff'].mean()\n",
    "xbar_diff"
   ]
  },
  {
   "cell_type": "markdown",
   "id": "d85b9fe2-9474-4e85-90b4-e9b818f97e5c",
   "metadata": {},
   "source": [
    "Since we have one statistic, i.e the mean, there is only one degree of freedom. The t-statistic is given as follows:\n",
    "\n",
    "$$\n",
    "t = \\frac{x_\\text{diff} - \\mu_\\text{diff}}{\\sqrt{\\frac{s_\\text{diff}^2}{n_\\text{diff}}}}\n",
    "$$\n",
    "\n",
    "Assuming null hypothesis is true, then $\\mu_\\text{diff}$ = 0"
   ]
  },
  {
   "cell_type": "code",
   "execution_count": 29,
   "id": "09653529-f0b0-4794-b863-206caaf60194",
   "metadata": {},
   "outputs": [],
   "source": [
    "# number of observations\n",
    "n_diff = len(sample_data)\n",
    "\n",
    "# standard deviation of the difference\n",
    "s_diff = sample_data['diff'].std()"
   ]
  },
  {
   "cell_type": "code",
   "execution_count": 30,
   "id": "4e7be9e3-11e0-4815-996c-42b80b7520ce",
   "metadata": {},
   "outputs": [
    {
     "data": {
      "text/plain": [
       "-5.601043121928489"
      ]
     },
     "execution_count": 30,
     "metadata": {},
     "output_type": "execute_result"
    }
   ],
   "source": [
    "import numpy as np\n",
    "\n",
    "# calculate the t-stat\n",
    "t_stat = (xbar_diff - 0) / np.sqrt(s_diff**2/n_diff)\n",
    "t_stat"
   ]
  },
  {
   "cell_type": "code",
   "execution_count": 31,
   "id": "f0639bcc-8239-498e-b692-6018b8b57455",
   "metadata": {},
   "outputs": [],
   "source": [
    "# get the degrees of freedom\n",
    "degrees_of_freedom = n_diff - 1"
   ]
  },
  {
   "cell_type": "code",
   "execution_count": 32,
   "id": "b6ff0507-e310-4344-ad0f-c8157e4ad713",
   "metadata": {},
   "outputs": [
    {
     "data": {
      "text/plain": [
       "9.572537285272411e-08"
      ]
     },
     "execution_count": 32,
     "metadata": {},
     "output_type": "execute_result"
    }
   ],
   "source": [
    "from scipy.stats import t\n",
    "p_value = t.cdf(t_stat, df=degrees_of_freedom)\n",
    "p_value"
   ]
  },
  {
   "cell_type": "markdown",
   "id": "4fc8b2fd-e729-4ead-8717-35cfe6f8dbec",
   "metadata": {},
   "source": [
    "### Testing Differences Between Two Means using ttest()\n",
    "\n",
    "The method we used above for paired test is too long. The pingouin package provides a variety of methods for hypothesis testing and returns the result as a pandas dataframe. We can use the __ttest()__ from the pingouin to achieve the same result above For a converted one sample like the above, follow the approach below:"
   ]
  },
  {
   "cell_type": "code",
   "execution_count": 33,
   "id": "2340b777-84f7-43fd-ba4b-70887a18d6b2",
   "metadata": {},
   "outputs": [
    {
     "name": "stdout",
     "output_type": "stream",
     "text": [
      "Requirement already satisfied: pingouin in c:\\users\\odinaka ekemezie\\anaconda3\\lib\\site-packages (0.5.5)\n",
      "Requirement already satisfied: matplotlib in c:\\users\\odinaka ekemezie\\anaconda3\\lib\\site-packages (from pingouin) (3.9.2)\n",
      "Requirement already satisfied: numpy in c:\\users\\odinaka ekemezie\\anaconda3\\lib\\site-packages (from pingouin) (1.26.4)\n",
      "Requirement already satisfied: pandas>=1.5 in c:\\users\\odinaka ekemezie\\anaconda3\\lib\\site-packages (from pingouin) (2.2.2)\n",
      "Requirement already satisfied: pandas-flavor in c:\\users\\odinaka ekemezie\\anaconda3\\lib\\site-packages (from pingouin) (0.7.0)\n",
      "Requirement already satisfied: scikit-learn>=1.2 in c:\\users\\odinaka ekemezie\\anaconda3\\lib\\site-packages (from pingouin) (1.5.1)\n",
      "Requirement already satisfied: scipy in c:\\users\\odinaka ekemezie\\anaconda3\\lib\\site-packages (from pingouin) (1.13.1)\n",
      "Requirement already satisfied: seaborn in c:\\users\\odinaka ekemezie\\anaconda3\\lib\\site-packages (from pingouin) (0.13.2)\n",
      "Requirement already satisfied: statsmodels in c:\\users\\odinaka ekemezie\\anaconda3\\lib\\site-packages (from pingouin) (0.14.2)\n",
      "Requirement already satisfied: tabulate in c:\\users\\odinaka ekemezie\\anaconda3\\lib\\site-packages (from pingouin) (0.9.0)\n",
      "Requirement already satisfied: python-dateutil>=2.8.2 in c:\\users\\odinaka ekemezie\\anaconda3\\lib\\site-packages (from pandas>=1.5->pingouin) (2.9.0.post0)\n",
      "Requirement already satisfied: pytz>=2020.1 in c:\\users\\odinaka ekemezie\\anaconda3\\lib\\site-packages (from pandas>=1.5->pingouin) (2024.1)\n",
      "Requirement already satisfied: tzdata>=2022.7 in c:\\users\\odinaka ekemezie\\anaconda3\\lib\\site-packages (from pandas>=1.5->pingouin) (2023.3)\n",
      "Requirement already satisfied: joblib>=1.2.0 in c:\\users\\odinaka ekemezie\\anaconda3\\lib\\site-packages (from scikit-learn>=1.2->pingouin) (1.4.2)\n",
      "Requirement already satisfied: threadpoolctl>=3.1.0 in c:\\users\\odinaka ekemezie\\anaconda3\\lib\\site-packages (from scikit-learn>=1.2->pingouin) (3.5.0)\n",
      "Requirement already satisfied: contourpy>=1.0.1 in c:\\users\\odinaka ekemezie\\anaconda3\\lib\\site-packages (from matplotlib->pingouin) (1.2.0)\n",
      "Requirement already satisfied: cycler>=0.10 in c:\\users\\odinaka ekemezie\\anaconda3\\lib\\site-packages (from matplotlib->pingouin) (0.11.0)\n",
      "Requirement already satisfied: fonttools>=4.22.0 in c:\\users\\odinaka ekemezie\\anaconda3\\lib\\site-packages (from matplotlib->pingouin) (4.51.0)\n",
      "Requirement already satisfied: kiwisolver>=1.3.1 in c:\\users\\odinaka ekemezie\\anaconda3\\lib\\site-packages (from matplotlib->pingouin) (1.4.4)\n",
      "Requirement already satisfied: packaging>=20.0 in c:\\users\\odinaka ekemezie\\anaconda3\\lib\\site-packages (from matplotlib->pingouin) (24.1)\n",
      "Requirement already satisfied: pillow>=8 in c:\\users\\odinaka ekemezie\\anaconda3\\lib\\site-packages (from matplotlib->pingouin) (10.4.0)\n",
      "Requirement already satisfied: pyparsing>=2.3.1 in c:\\users\\odinaka ekemezie\\anaconda3\\lib\\site-packages (from matplotlib->pingouin) (3.1.2)\n",
      "Requirement already satisfied: xarray in c:\\users\\odinaka ekemezie\\anaconda3\\lib\\site-packages (from pandas-flavor->pingouin) (2023.6.0)\n",
      "Requirement already satisfied: patsy>=0.5.6 in c:\\users\\odinaka ekemezie\\anaconda3\\lib\\site-packages (from statsmodels->pingouin) (0.5.6)\n",
      "Requirement already satisfied: six in c:\\users\\odinaka ekemezie\\anaconda3\\lib\\site-packages (from patsy>=0.5.6->statsmodels->pingouin) (1.16.0)\n"
     ]
    }
   ],
   "source": [
    "!pip install pingouin"
   ]
  },
  {
   "cell_type": "code",
   "execution_count": 34,
   "id": "5ef70d9b-3446-4c61-8a2b-9e40dfed6bcd",
   "metadata": {},
   "outputs": [
    {
     "data": {
      "text/html": [
       "<div>\n",
       "<style scoped>\n",
       "    .dataframe tbody tr th:only-of-type {\n",
       "        vertical-align: middle;\n",
       "    }\n",
       "\n",
       "    .dataframe tbody tr th {\n",
       "        vertical-align: top;\n",
       "    }\n",
       "\n",
       "    .dataframe thead th {\n",
       "        text-align: right;\n",
       "    }\n",
       "</style>\n",
       "<table border=\"1\" class=\"dataframe\">\n",
       "  <thead>\n",
       "    <tr style=\"text-align: right;\">\n",
       "      <th></th>\n",
       "      <th>T</th>\n",
       "      <th>dof</th>\n",
       "      <th>alternative</th>\n",
       "      <th>p-val</th>\n",
       "      <th>CI95%</th>\n",
       "      <th>cohen-d</th>\n",
       "      <th>BF10</th>\n",
       "      <th>power</th>\n",
       "    </tr>\n",
       "  </thead>\n",
       "  <tbody>\n",
       "    <tr>\n",
       "      <th>T-test</th>\n",
       "      <td>-5.601043</td>\n",
       "      <td>99</td>\n",
       "      <td>less</td>\n",
       "      <td>9.572537e-08</td>\n",
       "      <td>[-inf, -2.02]</td>\n",
       "      <td>0.560104</td>\n",
       "      <td>1.323e+05</td>\n",
       "      <td>0.999955</td>\n",
       "    </tr>\n",
       "  </tbody>\n",
       "</table>\n",
       "</div>"
      ],
      "text/plain": [
       "               T  dof alternative         p-val          CI95%   cohen-d  \\\n",
       "T-test -5.601043   99        less  9.572537e-08  [-inf, -2.02]  0.560104   \n",
       "\n",
       "             BF10     power  \n",
       "T-test  1.323e+05  0.999955  "
      ]
     },
     "execution_count": 34,
     "metadata": {},
     "output_type": "execute_result"
    }
   ],
   "source": [
    "import pingouin\n",
    "\n",
    "pingouin.ttest(x=sample_data['diff'],\n",
    "               # the hypothesized difference value from null hypothesis\n",
    "               y=0,\n",
    "               # specify the type of alternative hypothesis\n",
    "               alternative = 'less')"
   ]
  },
  {
   "cell_type": "markdown",
   "id": "20954462-1b34-4a90-b2f7-2cc5fee8e9c8",
   "metadata": {},
   "source": [
    "Another we can use ttest() to achieve the same result above is as follows:"
   ]
  },
  {
   "cell_type": "code",
   "execution_count": 16,
   "id": "a2713b74-1d32-494e-802c-769fbd4365b8",
   "metadata": {},
   "outputs": [
    {
     "data": {
      "text/html": [
       "<div>\n",
       "<style scoped>\n",
       "    .dataframe tbody tr th:only-of-type {\n",
       "        vertical-align: middle;\n",
       "    }\n",
       "\n",
       "    .dataframe tbody tr th {\n",
       "        vertical-align: top;\n",
       "    }\n",
       "\n",
       "    .dataframe thead th {\n",
       "        text-align: right;\n",
       "    }\n",
       "</style>\n",
       "<table border=\"1\" class=\"dataframe\">\n",
       "  <thead>\n",
       "    <tr style=\"text-align: right;\">\n",
       "      <th></th>\n",
       "      <th>T</th>\n",
       "      <th>dof</th>\n",
       "      <th>alternative</th>\n",
       "      <th>p-val</th>\n",
       "      <th>CI95%</th>\n",
       "      <th>cohen-d</th>\n",
       "      <th>BF10</th>\n",
       "      <th>power</th>\n",
       "    </tr>\n",
       "  </thead>\n",
       "  <tbody>\n",
       "    <tr>\n",
       "      <th>T-test</th>\n",
       "      <td>-5.601043</td>\n",
       "      <td>99</td>\n",
       "      <td>less</td>\n",
       "      <td>9.572537e-08</td>\n",
       "      <td>[-inf, -2.02]</td>\n",
       "      <td>0.217364</td>\n",
       "      <td>1.323e+05</td>\n",
       "      <td>0.696338</td>\n",
       "    </tr>\n",
       "  </tbody>\n",
       "</table>\n",
       "</div>"
      ],
      "text/plain": [
       "               T  dof alternative         p-val          CI95%   cohen-d  \\\n",
       "T-test -5.601043   99        less  9.572537e-08  [-inf, -2.02]  0.217364   \n",
       "\n",
       "             BF10     power  \n",
       "T-test  1.323e+05  0.696338  "
      ]
     },
     "execution_count": 16,
     "metadata": {},
     "output_type": "execute_result"
    }
   ],
   "source": [
    "pingouin.ttest(x=sample_data['repub_percent_08'],\n",
    "               y=sample_data['repub_percent_12'],\n",
    "               paired=True,\n",
    "               alternative='less')"
   ]
  },
  {
   "cell_type": "code",
   "execution_count": 17,
   "id": "55348fa6-19f0-4c99-8ba0-b88c6710d105",
   "metadata": {},
   "outputs": [
    {
     "data": {
      "text/plain": [
       "TtestResult(statistic=-5.601043121928488, pvalue=1.9145074570544958e-07, df=99)"
      ]
     },
     "execution_count": 17,
     "metadata": {},
     "output_type": "execute_result"
    }
   ],
   "source": [
    "from scipy import stats\n",
    "\n",
    "stats.ttest_rel(sample_data['repub_percent_08'], sample_data['repub_percent_12'])"
   ]
  },
  {
   "cell_type": "markdown",
   "id": "0f69fe68-73ba-4712-8ada-88d7e324943b",
   "metadata": {},
   "source": [
    "# ANOVA\n",
    "\n",
    "An ANOVA (Analysis of Variance) test is used to determine if there are any statistically significant differences between the means of three or more independent groups.\n",
    "\n",
    "In the case study below, we will check if the mean annual compensation is different for different levels of job satisfaction"
   ]
  },
  {
   "cell_type": "code",
   "execution_count": 7,
   "id": "99655491-dd60-494c-9adc-8ab6e370dd1a",
   "metadata": {},
   "outputs": [
    {
     "data": {
      "text/plain": [
       "job_sat\n",
       "Very satisfied           879\n",
       "Slightly satisfied       680\n",
       "Slightly dissatisfied    342\n",
       "Neither                  201\n",
       "Very dissatisfied        159\n",
       "Name: count, dtype: int64"
      ]
     },
     "execution_count": 7,
     "metadata": {},
     "output_type": "execute_result"
    }
   ],
   "source": [
    "stack_overflow['job_sat'].value_counts()"
   ]
  },
  {
   "cell_type": "code",
   "execution_count": 16,
   "id": "c7768ab1-48de-46d6-bf1f-3f70e9fa8a69",
   "metadata": {},
   "outputs": [
    {
     "data": {
      "text/html": [
       "<div>\n",
       "<style scoped>\n",
       "    .dataframe tbody tr th:only-of-type {\n",
       "        vertical-align: middle;\n",
       "    }\n",
       "\n",
       "    .dataframe tbody tr th {\n",
       "        vertical-align: top;\n",
       "    }\n",
       "\n",
       "    .dataframe thead th {\n",
       "        text-align: right;\n",
       "    }\n",
       "</style>\n",
       "<table border=\"1\" class=\"dataframe\">\n",
       "  <thead>\n",
       "    <tr style=\"text-align: right;\">\n",
       "      <th></th>\n",
       "      <th>Source</th>\n",
       "      <th>ddof1</th>\n",
       "      <th>ddof2</th>\n",
       "      <th>F</th>\n",
       "      <th>p-unc</th>\n",
       "      <th>np2</th>\n",
       "    </tr>\n",
       "  </thead>\n",
       "  <tbody>\n",
       "    <tr>\n",
       "      <th>0</th>\n",
       "      <td>job_sat</td>\n",
       "      <td>4</td>\n",
       "      <td>2256</td>\n",
       "      <td>4.480485</td>\n",
       "      <td>0.001315</td>\n",
       "      <td>0.007882</td>\n",
       "    </tr>\n",
       "  </tbody>\n",
       "</table>\n",
       "</div>"
      ],
      "text/plain": [
       "    Source  ddof1  ddof2         F     p-unc       np2\n",
       "0  job_sat      4   2256  4.480485  0.001315  0.007882"
      ]
     },
     "execution_count": 16,
     "metadata": {},
     "output_type": "execute_result"
    }
   ],
   "source": [
    "alpha = 0.2\n",
    "\n",
    "pingouin.anova(data=stack_overflow,\n",
    "               dv='converted_comp',\n",
    "               between='job_sat')"
   ]
  },
  {
   "cell_type": "markdown",
   "id": "f9a7e858-4477-47f3-a591-7cef383a6495",
   "metadata": {},
   "source": [
    "The p value is stored in the _p-unc_ column above. The value is less than $\\alpha$, thus, at least two of the categories of job satisfaction differences between their compensation levels. But this does not tell us which two categories they are. To identify this we compare all five categories, testing each pair in turn.To do this in one go, we use the __pairwise_tests()__"
   ]
  },
  {
   "cell_type": "code",
   "execution_count": 18,
   "id": "0b77767a-f762-4bdf-b0b6-41bb89ad9197",
   "metadata": {},
   "outputs": [
    {
     "data": {
      "text/html": [
       "<div>\n",
       "<style scoped>\n",
       "    .dataframe tbody tr th:only-of-type {\n",
       "        vertical-align: middle;\n",
       "    }\n",
       "\n",
       "    .dataframe tbody tr th {\n",
       "        vertical-align: top;\n",
       "    }\n",
       "\n",
       "    .dataframe thead th {\n",
       "        text-align: right;\n",
       "    }\n",
       "</style>\n",
       "<table border=\"1\" class=\"dataframe\">\n",
       "  <thead>\n",
       "    <tr style=\"text-align: right;\">\n",
       "      <th></th>\n",
       "      <th>Contrast</th>\n",
       "      <th>A</th>\n",
       "      <th>B</th>\n",
       "      <th>Paired</th>\n",
       "      <th>Parametric</th>\n",
       "      <th>T</th>\n",
       "      <th>dof</th>\n",
       "      <th>alternative</th>\n",
       "      <th>p-unc</th>\n",
       "      <th>p-corr</th>\n",
       "      <th>p-adjust</th>\n",
       "      <th>BF10</th>\n",
       "      <th>hedges</th>\n",
       "    </tr>\n",
       "  </thead>\n",
       "  <tbody>\n",
       "    <tr>\n",
       "      <th>0</th>\n",
       "      <td>job_sat</td>\n",
       "      <td>Very dissatisfied</td>\n",
       "      <td>Slightly dissatisfied</td>\n",
       "      <td>False</td>\n",
       "      <td>True</td>\n",
       "      <td>1.129951</td>\n",
       "      <td>247.570187</td>\n",
       "      <td>two-sided</td>\n",
       "      <td>0.259590</td>\n",
       "      <td>1.000000</td>\n",
       "      <td>bonf</td>\n",
       "      <td>0.197</td>\n",
       "      <td>0.119131</td>\n",
       "    </tr>\n",
       "    <tr>\n",
       "      <th>1</th>\n",
       "      <td>job_sat</td>\n",
       "      <td>Very dissatisfied</td>\n",
       "      <td>Neither</td>\n",
       "      <td>False</td>\n",
       "      <td>True</td>\n",
       "      <td>0.545948</td>\n",
       "      <td>321.165726</td>\n",
       "      <td>two-sided</td>\n",
       "      <td>0.585481</td>\n",
       "      <td>1.000000</td>\n",
       "      <td>bonf</td>\n",
       "      <td>0.135</td>\n",
       "      <td>0.058537</td>\n",
       "    </tr>\n",
       "    <tr>\n",
       "      <th>2</th>\n",
       "      <td>job_sat</td>\n",
       "      <td>Very dissatisfied</td>\n",
       "      <td>Slightly satisfied</td>\n",
       "      <td>False</td>\n",
       "      <td>True</td>\n",
       "      <td>1.243665</td>\n",
       "      <td>187.153329</td>\n",
       "      <td>two-sided</td>\n",
       "      <td>0.215179</td>\n",
       "      <td>1.000000</td>\n",
       "      <td>bonf</td>\n",
       "      <td>0.208</td>\n",
       "      <td>0.145624</td>\n",
       "    </tr>\n",
       "    <tr>\n",
       "      <th>3</th>\n",
       "      <td>job_sat</td>\n",
       "      <td>Very dissatisfied</td>\n",
       "      <td>Very satisfied</td>\n",
       "      <td>False</td>\n",
       "      <td>True</td>\n",
       "      <td>-0.747379</td>\n",
       "      <td>221.666205</td>\n",
       "      <td>two-sided</td>\n",
       "      <td>0.455627</td>\n",
       "      <td>1.000000</td>\n",
       "      <td>bonf</td>\n",
       "      <td>0.126</td>\n",
       "      <td>-0.063479</td>\n",
       "    </tr>\n",
       "    <tr>\n",
       "      <th>4</th>\n",
       "      <td>job_sat</td>\n",
       "      <td>Slightly dissatisfied</td>\n",
       "      <td>Neither</td>\n",
       "      <td>False</td>\n",
       "      <td>True</td>\n",
       "      <td>-0.602209</td>\n",
       "      <td>367.730081</td>\n",
       "      <td>two-sided</td>\n",
       "      <td>0.547406</td>\n",
       "      <td>1.000000</td>\n",
       "      <td>bonf</td>\n",
       "      <td>0.118</td>\n",
       "      <td>-0.055707</td>\n",
       "    </tr>\n",
       "    <tr>\n",
       "      <th>5</th>\n",
       "      <td>job_sat</td>\n",
       "      <td>Slightly dissatisfied</td>\n",
       "      <td>Slightly satisfied</td>\n",
       "      <td>False</td>\n",
       "      <td>True</td>\n",
       "      <td>0.038264</td>\n",
       "      <td>569.926329</td>\n",
       "      <td>two-sided</td>\n",
       "      <td>0.969491</td>\n",
       "      <td>1.000000</td>\n",
       "      <td>bonf</td>\n",
       "      <td>0.074</td>\n",
       "      <td>0.002719</td>\n",
       "    </tr>\n",
       "    <tr>\n",
       "      <th>6</th>\n",
       "      <td>job_sat</td>\n",
       "      <td>Slightly dissatisfied</td>\n",
       "      <td>Very satisfied</td>\n",
       "      <td>False</td>\n",
       "      <td>True</td>\n",
       "      <td>-3.076222</td>\n",
       "      <td>821.303063</td>\n",
       "      <td>two-sided</td>\n",
       "      <td>0.002166</td>\n",
       "      <td>0.021659</td>\n",
       "      <td>bonf</td>\n",
       "      <td>7.43</td>\n",
       "      <td>-0.173247</td>\n",
       "    </tr>\n",
       "    <tr>\n",
       "      <th>7</th>\n",
       "      <td>job_sat</td>\n",
       "      <td>Neither</td>\n",
       "      <td>Slightly satisfied</td>\n",
       "      <td>False</td>\n",
       "      <td>True</td>\n",
       "      <td>0.700752</td>\n",
       "      <td>258.204546</td>\n",
       "      <td>two-sided</td>\n",
       "      <td>0.484088</td>\n",
       "      <td>1.000000</td>\n",
       "      <td>bonf</td>\n",
       "      <td>0.114</td>\n",
       "      <td>0.068513</td>\n",
       "    </tr>\n",
       "    <tr>\n",
       "      <th>8</th>\n",
       "      <td>job_sat</td>\n",
       "      <td>Neither</td>\n",
       "      <td>Very satisfied</td>\n",
       "      <td>False</td>\n",
       "      <td>True</td>\n",
       "      <td>-1.662901</td>\n",
       "      <td>328.326639</td>\n",
       "      <td>two-sided</td>\n",
       "      <td>0.097286</td>\n",
       "      <td>0.972864</td>\n",
       "      <td>bonf</td>\n",
       "      <td>0.337</td>\n",
       "      <td>-0.120115</td>\n",
       "    </tr>\n",
       "    <tr>\n",
       "      <th>9</th>\n",
       "      <td>job_sat</td>\n",
       "      <td>Slightly satisfied</td>\n",
       "      <td>Very satisfied</td>\n",
       "      <td>False</td>\n",
       "      <td>True</td>\n",
       "      <td>-4.009935</td>\n",
       "      <td>1478.622799</td>\n",
       "      <td>two-sided</td>\n",
       "      <td>0.000064</td>\n",
       "      <td>0.000638</td>\n",
       "      <td>bonf</td>\n",
       "      <td>158.564</td>\n",
       "      <td>-0.192931</td>\n",
       "    </tr>\n",
       "  </tbody>\n",
       "</table>\n",
       "</div>"
      ],
      "text/plain": [
       "  Contrast                      A                      B  Paired  Parametric  \\\n",
       "0  job_sat      Very dissatisfied  Slightly dissatisfied   False        True   \n",
       "1  job_sat      Very dissatisfied                Neither   False        True   \n",
       "2  job_sat      Very dissatisfied     Slightly satisfied   False        True   \n",
       "3  job_sat      Very dissatisfied         Very satisfied   False        True   \n",
       "4  job_sat  Slightly dissatisfied                Neither   False        True   \n",
       "5  job_sat  Slightly dissatisfied     Slightly satisfied   False        True   \n",
       "6  job_sat  Slightly dissatisfied         Very satisfied   False        True   \n",
       "7  job_sat                Neither     Slightly satisfied   False        True   \n",
       "8  job_sat                Neither         Very satisfied   False        True   \n",
       "9  job_sat     Slightly satisfied         Very satisfied   False        True   \n",
       "\n",
       "          T          dof alternative     p-unc    p-corr p-adjust     BF10  \\\n",
       "0  1.129951   247.570187   two-sided  0.259590  1.000000     bonf    0.197   \n",
       "1  0.545948   321.165726   two-sided  0.585481  1.000000     bonf    0.135   \n",
       "2  1.243665   187.153329   two-sided  0.215179  1.000000     bonf    0.208   \n",
       "3 -0.747379   221.666205   two-sided  0.455627  1.000000     bonf    0.126   \n",
       "4 -0.602209   367.730081   two-sided  0.547406  1.000000     bonf    0.118   \n",
       "5  0.038264   569.926329   two-sided  0.969491  1.000000     bonf    0.074   \n",
       "6 -3.076222   821.303063   two-sided  0.002166  0.021659     bonf     7.43   \n",
       "7  0.700752   258.204546   two-sided  0.484088  1.000000     bonf    0.114   \n",
       "8 -1.662901   328.326639   two-sided  0.097286  0.972864     bonf    0.337   \n",
       "9 -4.009935  1478.622799   two-sided  0.000064  0.000638     bonf  158.564   \n",
       "\n",
       "     hedges  \n",
       "0  0.119131  \n",
       "1  0.058537  \n",
       "2  0.145624  \n",
       "3 -0.063479  \n",
       "4 -0.055707  \n",
       "5  0.002719  \n",
       "6 -0.173247  \n",
       "7  0.068513  \n",
       "8 -0.120115  \n",
       "9 -0.192931  "
      ]
     },
     "execution_count": 18,
     "metadata": {},
     "output_type": "execute_result"
    }
   ],
   "source": [
    "pingouin.pairwise_tests(data=stack_overflow,\n",
    "                        dv='converted_comp',\n",
    "                        between='job_sat',\n",
    "                        padjust='bonf')"
   ]
  },
  {
   "cell_type": "markdown",
   "id": "69c710be-7088-48f4-a148-ee672285b18c",
   "metadata": {},
   "source": [
    "In the _p-corr_ column, there are only two values less than the significance level. Therefore we reject the null hypothesis for the two pairs: 'slightly dissatisfied and 'very satisfied' and also 'slightly satisfied' and 'very satisfied'"
   ]
  },
  {
   "cell_type": "markdown",
   "id": "d9c6f03d-23d9-4c6b-9404-c2577582e40d",
   "metadata": {},
   "source": [
    "## One-Sample Proportion Tests\n",
    "\n",
    "A one-sample proportion test is a tool you use to check if the proportion (or percentage) of a specific characteristic in your sample is significantly different from a known or claimed proportion for the entire population. It's used for categorical data that has only two outcomes (Yes/No, Success/Failure, Pass/Fail, Defective/Not Defective). For proportion tests, we use a z-test because the distribution of sample proportions can be approximated by a normal distribution (just like a z-score).\n",
    "\n",
    "Am unkown population parameter that is a proportion, or population proportion for short, is denoted p. The sample proportion is denoted $\\hat{p}$, and the hypothesized value for population proportion is denoted p<sub>0</sub>. The standardized test staitistic is the z-score. Under the null hypothesis, the unknown proportion, p, is assumed to be the hypothesized population proportion, p<sub>0</sub>. The z-score is then given as \n",
    "$$\n",
    "z = \\frac{\\hat{p} - p_0}{\\text{SE}(\\hat{p})}\n",
    "$$\n",
    "This can be expressed as:\n",
    "$$\n",
    "\\frac{\\hat{p} - p_0}{\\sqrt{\\frac{p_0  * (1 - p_0)}{n}}}\n",
    "$$\n",
    "\n",
    "__Case Study__\n",
    "H<sub>0</sub>: Proportion of stack overflow users under thirty = 0.5\n",
    "\n",
    "H<sub>A</sub>: Proportion of stack overflow users under thirty $\\neq$ 0.5\n",
    "\n",
    "$\\alpha$ = 0.01"
   ]
  },
  {
   "cell_type": "code",
   "execution_count": 19,
   "id": "5e2b5229-9a51-44f2-ae7b-4f10b4ef3344",
   "metadata": {},
   "outputs": [
    {
     "data": {
      "text/plain": [
       "age_cat\n",
       "Under 30       0.535604\n",
       "At least 30    0.464396\n",
       "Name: proportion, dtype: float64"
      ]
     },
     "execution_count": 19,
     "metadata": {},
     "output_type": "execute_result"
    }
   ],
   "source": [
    "stack_overflow['age_cat'].value_counts(normalize=True)"
   ]
  },
  {
   "cell_type": "code",
   "execution_count": 22,
   "id": "a80bd50c-0551-4530-ad4d-2bfd708a7da7",
   "metadata": {},
   "outputs": [
    {
     "data": {
      "text/plain": [
       "3.385911440783663"
      ]
     },
     "execution_count": 22,
     "metadata": {},
     "output_type": "execute_result"
    }
   ],
   "source": [
    "# calculate the sample proportion (or statistic)\n",
    "p_hat = (stack_overflow['age_cat'] == 'Under 30').mean()\n",
    "\n",
    "# the hypothesized population proportion\n",
    "p_0 = 0.5\n",
    "\n",
    "# number of rows in the data\n",
    "n = len(stack_overflow)\n",
    "\n",
    "numerator = p_hat - p_0\n",
    "denominator = np.sqrt(p_0 * (1 - p_0) / n)\n",
    "z_score = numerator / denominator\n",
    "z_score"
   ]
  },
  {
   "cell_type": "code",
   "execution_count": 23,
   "id": "6ebbb9dd-3c85-4e91-a56d-0d1085ad128b",
   "metadata": {},
   "outputs": [
    {
     "data": {
      "text/plain": [
       "0.0007094227368100725"
      ]
     },
     "execution_count": 23,
     "metadata": {},
     "output_type": "execute_result"
    }
   ],
   "source": [
    "# calculate p_value using two-tailed ('not equal') test\n",
    "p_value = 2 * (1 - norm.cdf(z_score))\n",
    "p_value"
   ]
  },
  {
   "cell_type": "markdown",
   "id": "a2f16113-18df-4169-a3fd-36014bac4386",
   "metadata": {},
   "source": [
    "## Two-sample Proportion Tests\n",
    "\n",
    "While a one-sample proportion test compares a single group's percentage to a known claim, a two-sample proportion test compares the proportions of two different, independent groups to each other. It's the perfect tool for answering questions like:\n",
    "\n",
    "1. \"Is this new advertisement (Ad B) more effective at getting clicks than the old one (Ad A)?\"\n",
    "2. \"Do men prefer a product at a different rate than women?\"\n",
    "3. \"Is the proportion of students who pass an exam different between School A and School B?\"\n",
    "\n",
    "The key question it helps you answer is:\n",
    "\n",
    "_\"I've calculated a percentage for Group A and a different percentage for Group B from my samples. Is this difference between them significant, or could it just be a fluke due to random chance in my sampling?\"_\n",
    "\n",
    "The z-score is caculated by:\n",
    "$$\n",
    "z = \\frac{(\\hat{p}_1 - \\hat{p}_2)}{\\sqrt{\\hat{p}_{pooled}(1-\\hat{p}_{pooled})(\\frac{1}{n_1} + \\frac{1}{n_2})}}\n",
    "$$\n",
    "\n",
    "where,\\\n",
    "z: The z-score or test statistic. \\\n",
    "$\\hat{p_1}$: The sample proportion for your first group (e.g., successes₁ / size₁). \\\n",
    "$\\hat{p_2}$: The sample proportion for your second group (e.g., successes₂ / size₂). \\\n",
    "n<sub>1</sub>: The size of your first sample. \\\n",
    "n<sub>1</sub>: The size of your second sample. \\\n",
    "$\\hat{p}_\\text{pooled}$: The pooled sample proportion. This is the total number of successes in both groups divided by the total sample size of both groups.\n",
    "\n",
    "The formula for the pooled proportion is:\n",
    "$$\n",
    "\\hat{p}_{pooled} = \\frac{\\hat{p}_1 n_1 + \\hat{p}_2 n_2}{n_1 + n_2}\n",
    "$$\n",
    "\n",
    "__Case Study__\\\n",
    "H<sub>0</sub>: Proportion of hobbyist users is the same for those under thirty as those at least thirty \\\n",
    "H<sub>0</sub>: p<sub>$\\geq$30</sub> - p<sub>$<$30</sub> = 0\n",
    "\n",
    "H<sub>A</sub>: Proportion of hobbyist users is different for those under thirty as those at least thirty \\\n",
    "H<sub>A</sub>: p<sub>$\\geq$30</sub> - p<sub>$<$30</sub> $\\neq$ 0  \n",
    "\n",
    "$\\alpha$ = 0.05"
   ]
  },
  {
   "cell_type": "code",
   "execution_count": 21,
   "id": "d72a96de-e509-44df-9bd2-1e2dbc152633",
   "metadata": {},
   "outputs": [
    {
     "data": {
      "text/plain": [
       "age_cat      hobbyist\n",
       "At least 30  Yes         0.773333\n",
       "             No          0.226667\n",
       "Under 30     Yes         0.843105\n",
       "             No          0.156895\n",
       "Name: proportion, dtype: float64"
      ]
     },
     "execution_count": 21,
     "metadata": {},
     "output_type": "execute_result"
    }
   ],
   "source": [
    "p_hats = stack_overflow.groupby('age_cat')['hobbyist'].value_counts(normalize=True)\n",
    "p_hats"
   ]
  },
  {
   "cell_type": "code",
   "execution_count": 23,
   "id": "ab6fde9b-6cc3-41b8-8710-9a4385650000",
   "metadata": {},
   "outputs": [
    {
     "data": {
      "text/plain": [
       "age_cat\n",
       "At least 30    1050\n",
       "Under 30       1211\n",
       "Name: hobbyist, dtype: int64"
      ]
     },
     "execution_count": 23,
     "metadata": {},
     "output_type": "execute_result"
    }
   ],
   "source": [
    "n = stack_overflow.groupby('age_cat')['hobbyist'].count()\n",
    "n"
   ]
  },
  {
   "cell_type": "code",
   "execution_count": 24,
   "id": "37ff0f2b-a500-46f2-a5fb-ba831033d2b6",
   "metadata": {},
   "outputs": [
    {
     "name": "stdout",
     "output_type": "stream",
     "text": [
      "0.7733333333333333 0.8431048720066061\n"
     ]
    }
   ],
   "source": [
    "# isolate the hobbyist proportions\n",
    "p_hat_at_least_30 = p_hats[('At least 30', 'Yes')]\n",
    "p_hat_under_30 = p_hats[('Under 30', 'Yes')]\n",
    "print(p_hat_at_least_30, p_hat_under_30)"
   ]
  },
  {
   "cell_type": "code",
   "execution_count": 25,
   "id": "37b10976-4661-41b5-b4e8-c4e296f5e370",
   "metadata": {},
   "outputs": [
    {
     "name": "stdout",
     "output_type": "stream",
     "text": [
      "1050 1211\n"
     ]
    }
   ],
   "source": [
    "# extract no. of observations in each age category\n",
    "n_at_least_30 = n['At least 30']\n",
    "n_under_30 = n['Under 30']\n",
    "print(n_at_least_30, n_under_30)"
   ]
  },
  {
   "cell_type": "markdown",
   "id": "c9095ba8-1581-4e76-a8d5-2b1fea3de492",
   "metadata": {},
   "source": [
    "Luckily, we can avoid the heavy arithmetic that comes from using the value we've found so far. The __proportion_ztest()__ from the statsmodels can calculate the z-score more directly. This function requires two objects as numpy arrays: the number of successes in each group and the total number of rows in each group"
   ]
  },
  {
   "cell_type": "code",
   "execution_count": 26,
   "id": "b07d9b82-fe56-4c3d-89e8-3bdcd54ca650",
   "metadata": {},
   "outputs": [
    {
     "data": {
      "text/plain": [
       "age_cat      hobbyist\n",
       "At least 30  Yes          812\n",
       "             No           238\n",
       "Under 30     Yes         1021\n",
       "             No           190\n",
       "Name: count, dtype: int64"
      ]
     },
     "execution_count": 26,
     "metadata": {},
     "output_type": "execute_result"
    }
   ],
   "source": [
    "stack_overflow.groupby('age_cat')['hobbyist'].value_counts()"
   ]
  },
  {
   "cell_type": "code",
   "execution_count": 28,
   "id": "fc7563c8-5c46-44b8-8262-6d2173045c47",
   "metadata": {},
   "outputs": [
    {
     "name": "stdout",
     "output_type": "stream",
     "text": [
      "-4.223691463320559\n",
      "2.403330142685068e-05\n"
     ]
    }
   ],
   "source": [
    "n_hobbyists = np.array([812, 1021])\n",
    "n_rows = np.array([812 + 238, 1021 + 190])\n",
    "\n",
    "from statsmodels.stats.proportion import proportions_ztest\n",
    "z_score, p_value = proportions_ztest(count=n_hobbyists, nobs=n_rows, alternative='two-sided')\n",
    "print(z_score)\n",
    "print(p_value)"
   ]
  },
  {
   "cell_type": "markdown",
   "id": "de7aacba-989d-4ccc-b898-8693aefc6f8f",
   "metadata": {},
   "source": [
    "## Chi-Square Test of Independence\n",
    "\n",
    "The Chi-square (χ²) test of independence is a statistical test used to determine whether two categorical variables are independent or related in a population. Two categorical variables are considered statistically independent of successes in the response variable is the same across all categories of the explanatory variable."
   ]
  },
  {
   "cell_type": "code",
   "execution_count": 22,
   "id": "25f73cc7-2a83-40a2-8b43-a130b38d1b88",
   "metadata": {},
   "outputs": [
    {
     "name": "stdout",
     "output_type": "stream",
     "text": [
      "                 test    lambda       chi2  dof      pval    cramer     power\n",
      "0             pearson  1.000000  17.839570  1.0  0.000024  0.088826  0.988205\n",
      "1        cressie-read  0.666667  17.818114  1.0  0.000024  0.088773  0.988126\n",
      "2      log-likelihood  0.000000  17.802653  1.0  0.000025  0.088734  0.988069\n",
      "3       freeman-tukey -0.500000  17.815060  1.0  0.000024  0.088765  0.988115\n",
      "4  mod-log-likelihood -1.000000  17.848099  1.0  0.000024  0.088848  0.988236\n",
      "5              neyman -2.000000  17.976656  1.0  0.000022  0.089167  0.988694\n"
     ]
    }
   ],
   "source": [
    "import pingouin\n",
    "\n",
    "expected, observed, stats = pingouin.chi2_independence(data=stack_overflow, x='hobbyist',\n",
    "                                                       y='age_cat', correction=False)\n",
    "\n",
    "print(stats)\n",
    "                                            "
   ]
  },
  {
   "cell_type": "markdown",
   "id": "387e22aa-b92a-485c-86f6-80279fdf7352",
   "metadata": {},
   "source": [
    "Focus on the pearson row and the chi2 and pval columns above. The chi2 value is the squared result of the z-score\n",
    "\n",
    "__Case Study__ \\\n",
    "H<sub>0</sub>: Age categories are independent of job satisfaction levels\n",
    "\n",
    "H<sub>1</sub>: Age categories are not independent of job satisfaction levels\n",
    "\n",
    "$\\alpha$ = 0.1\n",
    "\n",
    "Here, age category is the response variable, and job category is the explanatory variable\n",
    "\n",
    "The test staistics is denoted $\\chi^2$. It quantifies how far away the observed results are from the expected values if independence was true.\n",
    "\n"
   ]
  },
  {
   "cell_type": "code",
   "execution_count": 23,
   "id": "d1935c0f-18fd-4637-b247-9a4221b6329b",
   "metadata": {},
   "outputs": [
    {
     "name": "stderr",
     "output_type": "stream",
     "text": [
      "C:\\Users\\Odinaka Ekemezie\\AppData\\Local\\Temp\\ipykernel_23148\\426181995.py:2: FutureWarning: The default of observed=False is deprecated and will be changed to True in a future version of pandas. Pass observed=False to retain current behavior or observed=True to adopt the future default and silence this warning.\n",
      "  props = stack_overflow.groupby('job_sat')['age_cat'].value_counts(normalize=True)\n"
     ]
    },
    {
     "data": {
      "text/plain": [
       "job_sat                age_cat    \n",
       "Very dissatisfied      Under 30       0.509434\n",
       "                       At least 30    0.490566\n",
       "Slightly dissatisfied  Under 30       0.532164\n",
       "                       At least 30    0.467836\n",
       "Neither                Under 30       0.567164\n",
       "                       At least 30    0.432836\n",
       "Slightly satisfied     Under 30       0.564706\n",
       "                       At least 30    0.435294\n",
       "Very satisfied         Under 30       0.511945\n",
       "                       At least 30    0.488055\n",
       "Name: proportion, dtype: float64"
      ]
     },
     "execution_count": 23,
     "metadata": {},
     "output_type": "execute_result"
    }
   ],
   "source": [
    "# get the proportion of age categories in for each job satisfaction\n",
    "props = stack_overflow.groupby('job_sat')['age_cat'].value_counts(normalize=True)\n",
    "props"
   ]
  },
  {
   "cell_type": "code",
   "execution_count": 25,
   "id": "dc794875-0ab2-4cc8-b3b9-cc5dc847fd57",
   "metadata": {},
   "outputs": [
    {
     "data": {
      "text/html": [
       "<div>\n",
       "<style scoped>\n",
       "    .dataframe tbody tr th:only-of-type {\n",
       "        vertical-align: middle;\n",
       "    }\n",
       "\n",
       "    .dataframe tbody tr th {\n",
       "        vertical-align: top;\n",
       "    }\n",
       "\n",
       "    .dataframe thead th {\n",
       "        text-align: right;\n",
       "    }\n",
       "</style>\n",
       "<table border=\"1\" class=\"dataframe\">\n",
       "  <thead>\n",
       "    <tr style=\"text-align: right;\">\n",
       "      <th>age_cat</th>\n",
       "      <th>At least 30</th>\n",
       "      <th>Under 30</th>\n",
       "    </tr>\n",
       "    <tr>\n",
       "      <th>job_sat</th>\n",
       "      <th></th>\n",
       "      <th></th>\n",
       "    </tr>\n",
       "  </thead>\n",
       "  <tbody>\n",
       "    <tr>\n",
       "      <th>Very dissatisfied</th>\n",
       "      <td>0.490566</td>\n",
       "      <td>0.509434</td>\n",
       "    </tr>\n",
       "    <tr>\n",
       "      <th>Slightly dissatisfied</th>\n",
       "      <td>0.467836</td>\n",
       "      <td>0.532164</td>\n",
       "    </tr>\n",
       "    <tr>\n",
       "      <th>Neither</th>\n",
       "      <td>0.432836</td>\n",
       "      <td>0.567164</td>\n",
       "    </tr>\n",
       "    <tr>\n",
       "      <th>Slightly satisfied</th>\n",
       "      <td>0.435294</td>\n",
       "      <td>0.564706</td>\n",
       "    </tr>\n",
       "    <tr>\n",
       "      <th>Very satisfied</th>\n",
       "      <td>0.488055</td>\n",
       "      <td>0.511945</td>\n",
       "    </tr>\n",
       "  </tbody>\n",
       "</table>\n",
       "</div>"
      ],
      "text/plain": [
       "age_cat                At least 30  Under 30\n",
       "job_sat                                     \n",
       "Very dissatisfied         0.490566  0.509434\n",
       "Slightly dissatisfied     0.467836  0.532164\n",
       "Neither                   0.432836  0.567164\n",
       "Slightly satisfied        0.435294  0.564706\n",
       "Very satisfied            0.488055  0.511945"
      ]
     },
     "execution_count": 25,
     "metadata": {},
     "output_type": "execute_result"
    }
   ],
   "source": [
    "# convert the table to wide format\n",
    "wide_props = props.unstack()\n",
    "wide_props"
   ]
  },
  {
   "cell_type": "code",
   "execution_count": 26,
   "id": "839c7a97-ec82-42e6-ba7e-395ae6877fe4",
   "metadata": {},
   "outputs": [
    {
     "data": {
      "text/plain": [
       "<Axes: xlabel='job_sat'>"
      ]
     },
     "execution_count": 26,
     "metadata": {},
     "output_type": "execute_result"
    },
    {
     "data": {
      "image/png": "[encoded data removed]",
      "text/plain": [
       "<Figure size 640x480 with 1 Axes>"
      ]
     },
     "metadata": {},
     "output_type": "display_data"
    }
   ],
   "source": [
    "wide_props.plot(kind='bar', stacked=True)"
   ]
  },
  {
   "cell_type": "markdown",
   "id": "f6ee0d80-9c16-4066-b624-60a91908312a",
   "metadata": {},
   "source": [
    "For the figure above, if the age category was independent of job satisfaction, the split between the age categories will be at the same height in each of the five bars. However there are some variation here, but we'll need the chi-square independence test to determine whether it's a significance difference."
   ]
  },
  {
   "cell_type": "code",
   "execution_count": 27,
   "id": "79c59340-dbf4-4b68-850e-34fa371ccc33",
   "metadata": {},
   "outputs": [
    {
     "name": "stdout",
     "output_type": "stream",
     "text": [
      "                 test    lambda      chi2  dof      pval    cramer     power\n",
      "0             pearson  1.000000  5.552373  4.0  0.235164  0.049555  0.437417\n",
      "1        cressie-read  0.666667  5.554106  4.0  0.235014  0.049563  0.437545\n",
      "2      log-likelihood  0.000000  5.558529  4.0  0.234632  0.049583  0.437871\n",
      "3       freeman-tukey -0.500000  5.562688  4.0  0.234274  0.049601  0.438178\n",
      "4  mod-log-likelihood -1.000000  5.567570  4.0  0.233854  0.049623  0.438538\n",
      "5              neyman -2.000000  5.579519  4.0  0.232828  0.049676  0.439419\n"
     ]
    }
   ],
   "source": [
    "expected, observed, stats = pingouin.chi2_independence(data=stack_overflow, x='job_sat', y='age_cat')\n",
    "print(stats)"
   ]
  },
  {
   "cell_type": "markdown",
   "id": "5c6c454e-fa6f-43ba-bbdb-891eaf021cd6",
   "metadata": {},
   "source": [
    "since pval is above the significance level, we conclude that age categories are independent of job satisfaction\n",
    "\n",
    "In chi-squadore, order does not matter, i.e. for two categorical variables X and Y, we can choose any to be the response variable and explanatory variable"
   ]
  },
  {
   "cell_type": "markdown",
   "id": "89e8ac65-eec4-4e82-9935-bcc7150cbb86",
   "metadata": {},
   "source": [
    "## Chi-Square Goodness of Fit Tests\n",
    "\n",
    "The Chi-square goodness of fit test is used to determine if the observed frequency distribution of a single categorical variable is significantly different from a theoretical or expected distribution. It tests how well the hypothesized data fits the observed data. To run the test, we use the __chisquare__ method from scipy.stats module. There are two required arguments to chisquare: an array-like object for the observed counts, __f_obs__ and one for the expected (hypothesized) counts, __f_exp__"
   ]
  },
  {
   "cell_type": "code",
   "execution_count": 39,
   "id": "6a5c81f3-9015-4612-9224-06aeebf432b1",
   "metadata": {},
   "outputs": [
    {
     "data": {
      "text/html": [
       "<div>\n",
       "<style scoped>\n",
       "    .dataframe tbody tr th:only-of-type {\n",
       "        vertical-align: middle;\n",
       "    }\n",
       "\n",
       "    .dataframe tbody tr th {\n",
       "        vertical-align: top;\n",
       "    }\n",
       "\n",
       "    .dataframe thead th {\n",
       "        text-align: right;\n",
       "    }\n",
       "</style>\n",
       "<table border=\"1\" class=\"dataframe\">\n",
       "  <thead>\n",
       "    <tr style=\"text-align: right;\">\n",
       "      <th></th>\n",
       "      <th>purple_link</th>\n",
       "      <th>n</th>\n",
       "    </tr>\n",
       "  </thead>\n",
       "  <tbody>\n",
       "    <tr>\n",
       "      <th>2</th>\n",
       "      <td>Amused</td>\n",
       "      <td>368</td>\n",
       "    </tr>\n",
       "    <tr>\n",
       "      <th>3</th>\n",
       "      <td>Annoyed</td>\n",
       "      <td>263</td>\n",
       "    </tr>\n",
       "    <tr>\n",
       "      <th>0</th>\n",
       "      <td>Hello, old friend</td>\n",
       "      <td>1225</td>\n",
       "    </tr>\n",
       "    <tr>\n",
       "      <th>1</th>\n",
       "      <td>Indifferent</td>\n",
       "      <td>405</td>\n",
       "    </tr>\n",
       "  </tbody>\n",
       "</table>\n",
       "</div>"
      ],
      "text/plain": [
       "         purple_link     n\n",
       "2             Amused   368\n",
       "3            Annoyed   263\n",
       "0  Hello, old friend  1225\n",
       "1        Indifferent   405"
      ]
     },
     "execution_count": 39,
     "metadata": {},
     "output_type": "execute_result"
    }
   ],
   "source": [
    "purple_link_counts = stack_overflow['purple_link'].value_counts()\n",
    "\n",
    "purple_link_counts = purple_link_counts.rename_axis('purple_link').reset_index(name='n').sort_values('purple_link')\n",
    "\n",
    "purple_link_counts"
   ]
  },
  {
   "cell_type": "code",
   "execution_count": 40,
   "id": "bcb21c0d-926f-4025-82c6-02a36fd32fb7",
   "metadata": {},
   "outputs": [],
   "source": [
    "hypothesized = pd.DataFrame({\n",
    "    'purple_link': ['Amuesed', 'Annoyed', 'Hello, old friend', 'Indifferent'],\n",
    "    'prop': [1/6, 1/6, 1/2, 1/6]})"
   ]
  },
  {
   "cell_type": "markdown",
   "id": "c2b2e356-c3f3-4920-b90c-28f26c3b2ba4",
   "metadata": {},
   "source": [
    "H<sub>0</sub>: The sample matches the hypothesized distribution\n",
    "\n",
    "H<sub>1</sub>: The sample does not match the hypothesized distribution\n",
    "\n",
    "The test statistci, $\\chi^2$, measures how far the observed sample distribution of proportions is from the hypothesized distribution"
   ]
  },
  {
   "cell_type": "code",
   "execution_count": 41,
   "id": "ae558540-0a49-4f03-adb3-017556264099",
   "metadata": {},
   "outputs": [
    {
     "name": "stdout",
     "output_type": "stream",
     "text": [
      "         purple_link      prop            n\n",
      "0            Amuesed  0.166667   376.833333\n",
      "1            Annoyed  0.166667   376.833333\n",
      "2  Hello, old friend  0.500000  1130.500000\n",
      "3        Indifferent  0.166667   376.833333\n"
     ]
    }
   ],
   "source": [
    "alpha = 0.01\n",
    "\n",
    "n_total = len(stack_overflow)\n",
    "# Get the hypothesized count by category\n",
    "hypothesized['n'] = hypothesized['prop'] * n_total\n",
    "print(hypothesized)"
   ]
  },
  {
   "cell_type": "code",
   "execution_count": 43,
   "id": "89ec321b-741b-4d2d-8350-97bcb7696ff3",
   "metadata": {},
   "outputs": [
    {
     "data": {
      "text/plain": [
       "Power_divergenceResult(statistic=44.59840778416629, pvalue=1.1261810719413759e-09)"
      ]
     },
     "execution_count": 43,
     "metadata": {},
     "output_type": "execute_result"
    }
   ],
   "source": [
    "from scipy.stats import chisquare\n",
    "chisquare(f_obs=purple_link_counts['n'], f_exp=hypothesized['n'])"
   ]
  },
  {
   "cell_type": "markdown",
   "id": "21d15dbf-5f18-42d7-a983-4b7a0be5025c",
   "metadata": {},
   "source": [
    "The returned p-value is much less than the significance level, so we conclude that the sample distribution of proportions is different from the hypothesized distribution"
   ]
  },
  {
   "cell_type": "markdown",
   "id": "343ef0cb-569b-47f6-a248-9de830f6c949",
   "metadata": {},
   "source": [
    "# Assumptions in Hypothesis Testing\n",
    "\n",
    "The hypothesis tests we have covered so far follows the following assumptions:\n",
    "\n",
    "1. Each sample is randomly sourced from the population. if we don't have a random sample, then it will not be a representative of the population\n",
    "2. Each observation in the dataset is independent. However, special cases exist, like the paired t-test where dependencies bewteen two samples are allowed.\n",
    "3. The sample is large enough to mitigate uncertainty, so that the central limit theorem applies, and the sample distribution can be assumed to be normally distributed."
   ]
  },
  {
   "cell_type": "markdown",
   "id": "841585da-5832-43e4-b0ff-38bf73f311c8",
   "metadata": {},
   "source": [
    "# Non-Parametic Tests\n",
    "\n",
    "z-test, t-test, and ANOVA are all __parametic__ tests. They are all based on the assumption that the population is normally distributed and the sample dataset are large enough to allow central limit theorem. In situations where the assumptions are not met, we use __Non-parametric__ tests. They do not follow the normal distribution assumptions or sample size conditions. Many non-parametric tests use _ranks_ of the data. \n",
    "\n",
    "Consider the list, x: \\\n",
    "x = [1, 15, 3, 10, 6] \\\n",
    "The first value of x, 1, is the smallest value, and the second value, 15, is the fifth smallest value. These orderings from the smallest to the largest are known as the __ranks__ of the elements of x. We can access them using the __rankdata__ method from scipy.stats\n",
    "\n",
    "We will explore __Wilcoxon signed rank test__, which was developed by Frank Wilcoxon in 1945. The test is equivalent to the paired t-test. This test requires us to:\n",
    "1. calculate the absolute differences between pairs of data\n",
    "2. Find the absolute value of the differences\n",
    "3. Rank the absolute differences\n",
    "4. Calculate a test statistic, W. W uses the signs of the difference column to split the ranks into two groups: one for negative differences and one for positive differences\n",
    "\n",
    "Instead of following the mamual method above, we can calculate W and the p value __wilcoxon__ method from the pingouin package."
   ]
  },
  {
   "cell_type": "code",
   "execution_count": 44,
   "id": "7bf6a24b-61b8-45e9-81de-e19656cfb4d6",
   "metadata": {},
   "outputs": [
    {
     "data": {
      "text/plain": [
       "array([1., 5., 2., 4., 3.])"
      ]
     },
     "execution_count": 44,
     "metadata": {},
     "output_type": "execute_result"
    }
   ],
   "source": [
    "from scipy.stats import rankdata\n",
    "\n",
    "x = [1, 15, 3, 10, 6]\n",
    "rankdata(x)"
   ]
  },
  {
   "cell_type": "code",
   "execution_count": 46,
   "id": "a5d73af1-88a7-4908-9fda-1ef0b216db41",
   "metadata": {},
   "outputs": [
    {
     "data": {
      "text/html": [
       "<div>\n",
       "<style scoped>\n",
       "    .dataframe tbody tr th:only-of-type {\n",
       "        vertical-align: middle;\n",
       "    }\n",
       "\n",
       "    .dataframe tbody tr th {\n",
       "        vertical-align: top;\n",
       "    }\n",
       "\n",
       "    .dataframe thead th {\n",
       "        text-align: right;\n",
       "    }\n",
       "</style>\n",
       "<table border=\"1\" class=\"dataframe\">\n",
       "  <thead>\n",
       "    <tr style=\"text-align: right;\">\n",
       "      <th></th>\n",
       "      <th>state</th>\n",
       "      <th>county</th>\n",
       "      <th>repub_percent_08</th>\n",
       "      <th>repub_percent_12</th>\n",
       "      <th>diff</th>\n",
       "    </tr>\n",
       "  </thead>\n",
       "  <tbody>\n",
       "    <tr>\n",
       "      <th>54</th>\n",
       "      <td>New Mexico</td>\n",
       "      <td>Sandoval</td>\n",
       "      <td>42.969470</td>\n",
       "      <td>45.095139</td>\n",
       "      <td>-2.125669</td>\n",
       "    </tr>\n",
       "    <tr>\n",
       "      <th>65</th>\n",
       "      <td>Oregon</td>\n",
       "      <td>Josephine</td>\n",
       "      <td>54.633880</td>\n",
       "      <td>58.832447</td>\n",
       "      <td>-4.198567</td>\n",
       "    </tr>\n",
       "    <tr>\n",
       "      <th>17</th>\n",
       "      <td>Illinois</td>\n",
       "      <td>Menard</td>\n",
       "      <td>56.806931</td>\n",
       "      <td>64.184685</td>\n",
       "      <td>-7.377755</td>\n",
       "    </tr>\n",
       "    <tr>\n",
       "      <th>82</th>\n",
       "      <td>Texas</td>\n",
       "      <td>Taylor</td>\n",
       "      <td>72.339215</td>\n",
       "      <td>76.055752</td>\n",
       "      <td>-3.716537</td>\n",
       "    </tr>\n",
       "    <tr>\n",
       "      <th>96</th>\n",
       "      <td>Wisconsin</td>\n",
       "      <td>La Crosse</td>\n",
       "      <td>37.490904</td>\n",
       "      <td>40.577038</td>\n",
       "      <td>-3.086134</td>\n",
       "    </tr>\n",
       "  </tbody>\n",
       "</table>\n",
       "</div>"
      ],
      "text/plain": [
       "         state     county  repub_percent_08  repub_percent_12      diff\n",
       "54  New Mexico   Sandoval         42.969470         45.095139 -2.125669\n",
       "65      Oregon  Josephine         54.633880         58.832447 -4.198567\n",
       "17    Illinois     Menard         56.806931         64.184685 -7.377755\n",
       "82       Texas     Taylor         72.339215         76.055752 -3.716537\n",
       "96   Wisconsin  La Crosse         37.490904         40.577038 -3.086134"
      ]
     },
     "execution_count": 46,
     "metadata": {},
     "output_type": "execute_result"
    }
   ],
   "source": [
    "repub_votes_small = repub_votes_potus_08_12.sample(n=5)\n",
    "repub_votes_small"
   ]
  },
  {
   "cell_type": "code",
   "execution_count": 47,
   "id": "f5bb33bc-c258-4f81-9adb-883cdf72b934",
   "metadata": {},
   "outputs": [
    {
     "name": "stdout",
     "output_type": "stream",
     "text": [
      "         state     county  repub_percent_08  repub_percent_12      diff  \\\n",
      "54  New Mexico   Sandoval         42.969470         45.095139 -2.125669   \n",
      "65      Oregon  Josephine         54.633880         58.832447 -4.198567   \n",
      "17    Illinois     Menard         56.806931         64.184685 -7.377755   \n",
      "82       Texas     Taylor         72.339215         76.055752 -3.716537   \n",
      "96   Wisconsin  La Crosse         37.490904         40.577038 -3.086134   \n",
      "\n",
      "    abs_diff  \n",
      "54  2.125669  \n",
      "65  4.198567  \n",
      "17  7.377755  \n",
      "82  3.716537  \n",
      "96  3.086134  \n"
     ]
    }
   ],
   "source": [
    "# take the absolute value of the differences\n",
    "repub_votes_small['abs_diff'] = repub_votes_small['diff'].abs()\n",
    "print(repub_votes_small)"
   ]
  },
  {
   "cell_type": "code",
   "execution_count": 48,
   "id": "8e9429bf-d98d-4c38-9cdb-a47a65326314",
   "metadata": {},
   "outputs": [
    {
     "name": "stdout",
     "output_type": "stream",
     "text": [
      "         state     county  repub_percent_08  repub_percent_12      diff  \\\n",
      "54  New Mexico   Sandoval         42.969470         45.095139 -2.125669   \n",
      "65      Oregon  Josephine         54.633880         58.832447 -4.198567   \n",
      "17    Illinois     Menard         56.806931         64.184685 -7.377755   \n",
      "82       Texas     Taylor         72.339215         76.055752 -3.716537   \n",
      "96   Wisconsin  La Crosse         37.490904         40.577038 -3.086134   \n",
      "\n",
      "    abs_diff  rank_abs_diff  \n",
      "54  2.125669            1.0  \n",
      "65  4.198567            4.0  \n",
      "17  7.377755            5.0  \n",
      "82  3.716537            3.0  \n",
      "96  3.086134            2.0  \n"
     ]
    }
   ],
   "source": [
    "# rank the absolute differences\n",
    "repub_votes_small['rank_abs_diff'] = rankdata(repub_votes_small['abs_diff'])\n",
    "print(repub_votes_small)"
   ]
  },
  {
   "cell_type": "code",
   "execution_count": 49,
   "id": "0815c4df-a44d-4099-89df-5d1c5845cd4e",
   "metadata": {},
   "outputs": [
    {
     "data": {
      "text/plain": [
       "0"
      ]
     },
     "execution_count": 49,
     "metadata": {},
     "output_type": "execute_result"
    }
   ],
   "source": [
    "T_minus = 1 + 4 + 5 + 3 + 2 # sum of the ranks with negative differences\n",
    "T_plus = 0 # sum of the ranks with positive diffeences\n",
    "\n",
    "# find test statistic, W, which is the smaller between T_minus and T_plus\n",
    "W = np.min([T_minus, T_plus])\n",
    "W"
   ]
  },
  {
   "cell_type": "code",
   "execution_count": 50,
   "id": "16c8310e-4166-44b0-aaf8-bbf31e08ce6f",
   "metadata": {},
   "outputs": [
    {
     "data": {
      "text/html": [
       "<div>\n",
       "<style scoped>\n",
       "    .dataframe tbody tr th:only-of-type {\n",
       "        vertical-align: middle;\n",
       "    }\n",
       "\n",
       "    .dataframe tbody tr th {\n",
       "        vertical-align: top;\n",
       "    }\n",
       "\n",
       "    .dataframe thead th {\n",
       "        text-align: right;\n",
       "    }\n",
       "</style>\n",
       "<table border=\"1\" class=\"dataframe\">\n",
       "  <thead>\n",
       "    <tr style=\"text-align: right;\">\n",
       "      <th></th>\n",
       "      <th>W-val</th>\n",
       "      <th>alternative</th>\n",
       "      <th>p-val</th>\n",
       "      <th>RBC</th>\n",
       "      <th>CLES</th>\n",
       "    </tr>\n",
       "  </thead>\n",
       "  <tbody>\n",
       "    <tr>\n",
       "      <th>Wilcoxon</th>\n",
       "      <td>0.0</td>\n",
       "      <td>less</td>\n",
       "      <td>0.03125</td>\n",
       "      <td>-1.0</td>\n",
       "      <td>0.64</td>\n",
       "    </tr>\n",
       "  </tbody>\n",
       "</table>\n",
       "</div>"
      ],
      "text/plain": [
       "          W-val alternative    p-val  RBC  CLES\n",
       "Wilcoxon    0.0        less  0.03125 -1.0  0.64"
      ]
     },
     "execution_count": 50,
     "metadata": {},
     "output_type": "execute_result"
    }
   ],
   "source": [
    "# implementation with pingouin package\n",
    "pingouin.wilcoxon(repub_votes_small['repub_percent_08'],\n",
    "                  repub_votes_small['repub_percent_12'],\n",
    "                  alternative='less')"
   ]
  },
  {
   "cell_type": "markdown",
   "id": "772bd778-f377-4b92-a19d-fd999e140a04",
   "metadata": {},
   "source": [
    "## More Parametric Tests\n",
    "\n",
    "Here, we'll focus on non-parametric alternatives to tests of independent numeric samples. The __Wilcoxon-Mann-Whitney__ test is a t-test on ranked data. This test works on unpaired data"
   ]
  },
  {
   "cell_type": "code",
   "execution_count": 51,
   "id": "36efd4f0-e743-4473-a62a-a638111e63e8",
   "metadata": {},
   "outputs": [
    {
     "name": "stdout",
     "output_type": "stream",
     "text": [
      "age_first_code_cut      adult     child\n",
      "0                     77556.0       NaN\n",
      "1                         NaN   74970.0\n",
      "2                         NaN  594539.0\n",
      "3                   2000000.0       NaN\n",
      "4                     37816.0       NaN\n",
      "...                       ...       ...\n",
      "2256                      NaN  145000.0\n",
      "2257                      NaN   33972.0\n",
      "2258                      NaN   97284.0\n",
      "2259                      NaN   72000.0\n",
      "2260                      NaN  180000.0\n",
      "\n",
      "[2261 rows x 2 columns]\n"
     ]
    }
   ],
   "source": [
    "age_vs_comp = stack_overflow[['converted_comp', 'age_first_code_cut']]\n",
    "\n",
    "# change to wide format\n",
    "age_vs_comp_wide = age_vs_comp.pivot(columns='age_first_code_cut', \n",
    "                                     values='converted_comp')\n",
    "print(age_vs_comp_wide)"
   ]
  },
  {
   "cell_type": "code",
   "execution_count": 52,
   "id": "8cf3f340-692e-47e2-a499-9367beb45e21",
   "metadata": {},
   "outputs": [
    {
     "data": {
      "text/html": [
       "<div>\n",
       "<style scoped>\n",
       "    .dataframe tbody tr th:only-of-type {\n",
       "        vertical-align: middle;\n",
       "    }\n",
       "\n",
       "    .dataframe tbody tr th {\n",
       "        vertical-align: top;\n",
       "    }\n",
       "\n",
       "    .dataframe thead th {\n",
       "        text-align: right;\n",
       "    }\n",
       "</style>\n",
       "<table border=\"1\" class=\"dataframe\">\n",
       "  <thead>\n",
       "    <tr style=\"text-align: right;\">\n",
       "      <th></th>\n",
       "      <th>U-val</th>\n",
       "      <th>alternative</th>\n",
       "      <th>p-val</th>\n",
       "      <th>RBC</th>\n",
       "      <th>CLES</th>\n",
       "    </tr>\n",
       "  </thead>\n",
       "  <tbody>\n",
       "    <tr>\n",
       "      <th>MWU</th>\n",
       "      <td>744365.5</td>\n",
       "      <td>greater</td>\n",
       "      <td>1.902723e-19</td>\n",
       "      <td>0.222516</td>\n",
       "      <td>0.611258</td>\n",
       "    </tr>\n",
       "  </tbody>\n",
       "</table>\n",
       "</div>"
      ],
      "text/plain": [
       "        U-val alternative         p-val       RBC      CLES\n",
       "MWU  744365.5     greater  1.902723e-19  0.222516  0.611258"
      ]
     },
     "execution_count": 52,
     "metadata": {},
     "output_type": "execute_result"
    }
   ],
   "source": [
    "alpha = 0.01\n",
    "\n",
    "pingouin.mwu(x=age_vs_comp_wide['child'],\n",
    "             y=age_vs_comp_wide['adult'],\n",
    "             alternative='greater')"
   ]
  },
  {
   "cell_type": "markdown",
   "id": "2faebd9b-cd85-4d7b-b49f-7cbd94617fd8",
   "metadata": {},
   "source": [
    "Just as ANOVA extends t-test to more than two groups, the __Krsutal Wallis__ test extends Wilcoxon-Mann-Whitney test to more than two groups"
   ]
  },
  {
   "cell_type": "code",
   "execution_count": 53,
   "id": "eb726d80-ebf1-4474-b621-f4d5661c7667",
   "metadata": {},
   "outputs": [
    {
     "data": {
      "text/html": [
       "<div>\n",
       "<style scoped>\n",
       "    .dataframe tbody tr th:only-of-type {\n",
       "        vertical-align: middle;\n",
       "    }\n",
       "\n",
       "    .dataframe tbody tr th {\n",
       "        vertical-align: top;\n",
       "    }\n",
       "\n",
       "    .dataframe thead th {\n",
       "        text-align: right;\n",
       "    }\n",
       "</style>\n",
       "<table border=\"1\" class=\"dataframe\">\n",
       "  <thead>\n",
       "    <tr style=\"text-align: right;\">\n",
       "      <th></th>\n",
       "      <th>Source</th>\n",
       "      <th>ddof1</th>\n",
       "      <th>H</th>\n",
       "      <th>p-unc</th>\n",
       "    </tr>\n",
       "  </thead>\n",
       "  <tbody>\n",
       "    <tr>\n",
       "      <th>Kruskal</th>\n",
       "      <td>job_sat</td>\n",
       "      <td>4</td>\n",
       "      <td>72.814939</td>\n",
       "      <td>5.772915e-15</td>\n",
       "    </tr>\n",
       "  </tbody>\n",
       "</table>\n",
       "</div>"
      ],
      "text/plain": [
       "          Source  ddof1          H         p-unc\n",
       "Kruskal  job_sat      4  72.814939  5.772915e-15"
      ]
     },
     "execution_count": 53,
     "metadata": {},
     "output_type": "execute_result"
    }
   ],
   "source": [
    "alpha = 0.01\n",
    "\n",
    "pingouin.kruskal(data=stack_overflow,\n",
    "                 dv='converted_comp',\n",
    "                 between='job_sat')"
   ]
  },
  {
   "cell_type": "code",
   "execution_count": null,
   "id": "29d7b1d8-5748-410c-9202-545ca3f3e7db",
   "metadata": {},
   "outputs": [],
   "source": []
  }
 ],
 "metadata": {
  "kernelspec": {
   "display_name": "Python 3 (ipykernel)",
   "language": "python",
   "name": "python3"
  },
  "language_info": {
   "codemirror_mode": {
    "name": "ipython",
    "version": 3
   },
   "file_extension": ".py",
   "mimetype": "text/x-python",
   "name": "python",
   "nbconvert_exporter": "python",
   "pygments_lexer": "ipython3",
   "version": "3.12.7"
  }
 },
 "nbformat": 4,
 "nbformat_minor": 5
}
